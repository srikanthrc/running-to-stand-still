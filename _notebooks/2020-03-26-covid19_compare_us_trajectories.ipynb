{
  "nbformat": 4,
  "nbformat_minor": 0,
  "metadata": {
    "kernelspec": {
      "display_name": "Python 3",
      "language": "python",
      "name": "python3"
    },
    "language_info": {
      "codemirror_mode": {
        "name": "ipython",
        "version": 3
      },
      "file_extension": ".py",
      "mimetype": "text/x-python",
      "name": "python",
      "nbconvert_exporter": "python",
      "pygments_lexer": "ipython3",
      "version": "3.7.1"
    },
    "papermill": {
      "duration": 4.618417,
      "end_time": "2020-03-22T20:04:03.092040",
      "environment_variables": {},
      "exception": null,
      "input_path": "2020-03-17-covid19-compare-country-trajectories.ipynb",
      "output_path": "2020-03-17-covid19-compare-country-trajectories.ipynb",
      "parameters": {},
      "start_time": "2020-03-22T20:03:58.473623",
      "version": "2.0.0"
    },
    "colab": {
      "name": "2020-03-26-covid19-compare-us-trajectories.ipynb",
      "provenance": [],
      "collapsed_sections": [],
      "include_colab_link": true
    }
  },
  "cells": [
    {
      "cell_type": "markdown",
      "metadata": {
        "id": "view-in-github",
        "colab_type": "text"
      },
      "source": [
        "<a href=\"https://colab.research.google.com/github/srikanthrc/running-to-stand-still/blob/master/_notebooks/2020-03-26-covid19_compare_us_trajectories.ipynb\" target=\"_parent\"><img src=\"https://colab.research.google.com/assets/colab-badge.svg\" alt=\"Open In Colab\"/></a>"
      ]
    },
    {
      "cell_type": "markdown",
      "metadata": {
        "papermill": {
          "duration": 0.016398,
          "end_time": "2020-03-22T20:03:59.355051",
          "exception": false,
          "start_time": "2020-03-22T20:03:59.338653",
          "status": "completed"
        },
        "tags": [],
        "id": "d6mVFvnioSk7",
        "colab_type": "text"
      },
      "source": [
        "# Compare State Trajectories - Total Cases\n",
        "> Comparing state trajectories of total cases \n",
        "\n",
        "- comments: false\n",
        "- author: Srikanth Chinmay (inspired by Pratap Vardhan @ covid19dashboards.com) \n",
        "- categories: [covid-19]\n",
        "- image: images/covid-compare-state-trajectories.png\n",
        "- permalink: /compare-state-trajectories/\n",
        "\n",
        "```\n",
        "# This is formatted as code\n",
        "```\n",
        "\n"
      ]
    },
    {
      "cell_type": "code",
      "metadata": {
        "papermill": {
          "duration": 0.505972,
          "end_time": "2020-03-22T20:03:59.874016",
          "exception": false,
          "start_time": "2020-03-22T20:03:59.368044",
          "status": "completed"
        },
        "tags": [],
        "id": "XOt9lUmooSk-",
        "colab_type": "code",
        "colab": {}
      },
      "source": [
        "#hide\n",
        "import pandas as pd\n",
        "import altair as alt\n",
        "from IPython.display import HTML"
      ],
      "execution_count": 0,
      "outputs": []
    },
    {
      "cell_type": "code",
      "metadata": {
        "papermill": {
          "duration": 0.014651,
          "end_time": "2020-03-26T01:14:59.834630",
          "exception": false,
          "start_time": "2020-03-26T01:14:59.819979",
          "status": "completed"
        },
        "tags": [],
        "id": "rpera1pUc5gJ",
        "colab_type": "code",
        "colab": {}
      },
      "source": [
        "#hide\n",
        "from pathlib import Path\n",
        "if not Path('covid_overview.py').exists():\n",
        "    ! wget https://raw.githubusercontent.com/srikanthrc/covid-19/master/covid_overview.py"
      ],
      "execution_count": 0,
      "outputs": []
    },
    {
      "cell_type": "code",
      "metadata": {
        "papermill": {
          "duration": 0.043022,
          "end_time": "2020-03-26T01:14:59.883749",
          "exception": false,
          "start_time": "2020-03-26T01:14:59.840727",
          "status": "completed"
        },
        "tags": [],
        "id": "st71XvUoc5gN",
        "colab_type": "code",
        "colab": {}
      },
      "source": [
        "#hide\n",
        "import covid_overview as covid"
      ],
      "execution_count": 0,
      "outputs": []
    },
    {
      "cell_type": "code",
      "metadata": {
        "papermill": {
          "duration": 0.093397,
          "end_time": "2020-03-22T20:03:59.980817",
          "exception": false,
          "start_time": "2020-03-22T20:03:59.887420",
          "status": "completed"
        },
        "tags": [],
        "id": "NTLPmdPboSlD",
        "colab_type": "code",
        "outputId": "915fb060-ceb1-4f55-b18a-0d92e1f839fc",
        "colab": {
          "base_uri": "https://localhost:8080/",
          "height": 191
        }
      },
      "source": [
        "#hide\n",
        "\n",
        "# get Countries data from JHU\n",
        "url = ('https://raw.githubusercontent.com/CSSEGISandData/COVID-19/master/csse_covid_19_data/'\n",
        "       'csse_covid_19_time_series/time_series_covid19_confirmed_global.csv')\n",
        "df = pd.read_csv(url)\n",
        "# rename countries\n",
        "df['Country/Region'] = df['Country/Region'].replace({'Korea, South': 'South Korea'})\n",
        "df = df[~df['Country/Region'].isin(['Cruise Ship'])]   # Remove Ships\n",
        "\n",
        "dt_cols = df.columns[~df.columns.isin(['Province/State', 'Country/Region', 'Lat', 'Long'])]\n",
        "\n",
        "dff = (df.groupby('Country/Region')[dt_cols].sum()\n",
        "       .stack().reset_index(name='Confirmed Cases')\n",
        "       .rename(columns={'level_1': 'Date', 'Country/Region': 'Key', 'Confirmed Cases': 'Cases'}))\n",
        "dff['Date'] = pd.to_datetime(dff['Date'], format='%m/%d/%y')\n",
        "display(dff.head(5))"
      ],
      "execution_count": 75,
      "outputs": [
        {
          "output_type": "display_data",
          "data": {
            "text/html": [
              "<div>\n",
              "<style scoped>\n",
              "    .dataframe tbody tr th:only-of-type {\n",
              "        vertical-align: middle;\n",
              "    }\n",
              "\n",
              "    .dataframe tbody tr th {\n",
              "        vertical-align: top;\n",
              "    }\n",
              "\n",
              "    .dataframe thead th {\n",
              "        text-align: right;\n",
              "    }\n",
              "</style>\n",
              "<table border=\"1\" class=\"dataframe\">\n",
              "  <thead>\n",
              "    <tr style=\"text-align: right;\">\n",
              "      <th></th>\n",
              "      <th>Key</th>\n",
              "      <th>Date</th>\n",
              "      <th>Cases</th>\n",
              "    </tr>\n",
              "  </thead>\n",
              "  <tbody>\n",
              "    <tr>\n",
              "      <th>0</th>\n",
              "      <td>Afghanistan</td>\n",
              "      <td>2020-01-22</td>\n",
              "      <td>0</td>\n",
              "    </tr>\n",
              "    <tr>\n",
              "      <th>1</th>\n",
              "      <td>Afghanistan</td>\n",
              "      <td>2020-01-23</td>\n",
              "      <td>0</td>\n",
              "    </tr>\n",
              "    <tr>\n",
              "      <th>2</th>\n",
              "      <td>Afghanistan</td>\n",
              "      <td>2020-01-24</td>\n",
              "      <td>0</td>\n",
              "    </tr>\n",
              "    <tr>\n",
              "      <th>3</th>\n",
              "      <td>Afghanistan</td>\n",
              "      <td>2020-01-25</td>\n",
              "      <td>0</td>\n",
              "    </tr>\n",
              "    <tr>\n",
              "      <th>4</th>\n",
              "      <td>Afghanistan</td>\n",
              "      <td>2020-01-26</td>\n",
              "      <td>0</td>\n",
              "    </tr>\n",
              "  </tbody>\n",
              "</table>\n",
              "</div>"
            ],
            "text/plain": [
              "           Key       Date  Cases\n",
              "0  Afghanistan 2020-01-22      0\n",
              "1  Afghanistan 2020-01-23      0\n",
              "2  Afghanistan 2020-01-24      0\n",
              "3  Afghanistan 2020-01-25      0\n",
              "4  Afghanistan 2020-01-26      0"
            ]
          },
          "metadata": {
            "tags": []
          }
        }
      ]
    },
    {
      "cell_type": "code",
      "metadata": {
        "id": "LNMWyhmFdR38",
        "colab_type": "code",
        "outputId": "a6ac88cb-0abe-4aa5-8c50-947a0310c13a",
        "colab": {
          "base_uri": "https://localhost:8080/",
          "height": 191
        }
      },
      "source": [
        "#hide\n",
        "# get States data from covidtracking\n",
        "df_s = covid.get_covidtracking_data('positive')\n",
        "dt_cols_s = df_s.columns[~df_s.columns.isin(['Province/State', 'Country/Region','Lat','Long'])]\n",
        "\n",
        "dff_s = (df_s.groupby('Province/State')[dt_cols_s].sum()\n",
        "          .stack().reset_index(name='positive')\n",
        "          .rename(columns={'level_1': 'Date', 'Province/State': 'Key', 'positive': 'Cases'}))\n",
        "dff_s['Date'] = pd.to_datetime(dff_s['Date'], format=\"%m/%d/%y\")\n",
        "display(dff_s.head(5))"
      ],
      "execution_count": 76,
      "outputs": [
        {
          "output_type": "display_data",
          "data": {
            "text/html": [
              "<div>\n",
              "<style scoped>\n",
              "    .dataframe tbody tr th:only-of-type {\n",
              "        vertical-align: middle;\n",
              "    }\n",
              "\n",
              "    .dataframe tbody tr th {\n",
              "        vertical-align: top;\n",
              "    }\n",
              "\n",
              "    .dataframe thead th {\n",
              "        text-align: right;\n",
              "    }\n",
              "</style>\n",
              "<table border=\"1\" class=\"dataframe\">\n",
              "  <thead>\n",
              "    <tr style=\"text-align: right;\">\n",
              "      <th></th>\n",
              "      <th>Key</th>\n",
              "      <th>Date</th>\n",
              "      <th>Cases</th>\n",
              "    </tr>\n",
              "  </thead>\n",
              "  <tbody>\n",
              "    <tr>\n",
              "      <th>0</th>\n",
              "      <td>Alabama</td>\n",
              "      <td>2020-03-04</td>\n",
              "      <td>0.0</td>\n",
              "    </tr>\n",
              "    <tr>\n",
              "      <th>1</th>\n",
              "      <td>Alabama</td>\n",
              "      <td>2020-03-05</td>\n",
              "      <td>0.0</td>\n",
              "    </tr>\n",
              "    <tr>\n",
              "      <th>2</th>\n",
              "      <td>Alabama</td>\n",
              "      <td>2020-03-06</td>\n",
              "      <td>0.0</td>\n",
              "    </tr>\n",
              "    <tr>\n",
              "      <th>3</th>\n",
              "      <td>Alabama</td>\n",
              "      <td>2020-03-07</td>\n",
              "      <td>0.0</td>\n",
              "    </tr>\n",
              "    <tr>\n",
              "      <th>4</th>\n",
              "      <td>Alabama</td>\n",
              "      <td>2020-03-08</td>\n",
              "      <td>0.0</td>\n",
              "    </tr>\n",
              "  </tbody>\n",
              "</table>\n",
              "</div>"
            ],
            "text/plain": [
              "       Key       Date  Cases\n",
              "0  Alabama 2020-03-04    0.0\n",
              "1  Alabama 2020-03-05    0.0\n",
              "2  Alabama 2020-03-06    0.0\n",
              "3  Alabama 2020-03-07    0.0\n",
              "4  Alabama 2020-03-08    0.0"
            ]
          },
          "metadata": {
            "tags": []
          }
        }
      ]
    },
    {
      "cell_type": "code",
      "metadata": {
        "papermill": {
          "duration": 0.029764,
          "end_time": "2020-03-22T20:04:00.076106",
          "exception": false,
          "start_time": "2020-03-22T20:04:00.046342",
          "status": "completed"
        },
        "tags": [],
        "id": "KFblc54RoSlK",
        "colab_type": "code",
        "colab": {}
      },
      "source": [
        "#hide\n",
        "MIN_CASES = 300\n",
        "LAST_DATE = dt_cols[-1]\n",
        "# sometimes last column may be empty, then go backwards\n",
        "for c in dt_cols[::-1]:\n",
        "    if not df[c].fillna(0).eq(0).all():\n",
        "        LAST_DATE = c\n",
        "        break\n",
        "\n",
        "countries = dff[dff['Date'].eq(LAST_DATE) & dff['Cases'].ge(MIN_CASES) & \n",
        "        dff['Key'].isin(('Japan','South Korea','Italy','Germany','Spain','United Kingdom','US','India'))\n",
        "       ].sort_values(by='Cases', ascending=False)\n",
        "countries = countries['Key'].values\n",
        "\n",
        "states = dff_s[dff_s['Date'].eq(LAST_DATE) & dff_s['Cases'].ge(MIN_CASES)].sort_values(by='Cases', ascending=False)\n",
        "states = states['Key'].values"
      ],
      "execution_count": 0,
      "outputs": []
    },
    {
      "cell_type": "code",
      "metadata": {
        "papermill": {
          "duration": 0.040762,
          "end_time": "2020-03-22T20:04:00.128697",
          "exception": false,
          "start_time": "2020-03-22T20:04:00.087935",
          "status": "completed"
        },
        "tags": [],
        "id": "n3nPQNf9oSlO",
        "colab_type": "code",
        "colab": {}
      },
      "source": [
        "#hide\n",
        "SINCE_CASES_NUM = 100\n",
        "dff2 = dff[dff['Key'].isin(countries)].copy()\n",
        "days_since = (dff2.assign(F=dff2['Cases'].ge(SINCE_CASES_NUM))\n",
        "              .set_index('Date')\n",
        "              .groupby('Key')['F'].transform('idxmax'))\n",
        "dff2['Days since 100 cases'] = (dff2['Date'] - days_since.values).dt.days.values\n",
        "dff2 = dff2[dff2['Days since 100 cases'].ge(0)]"
      ],
      "execution_count": 0,
      "outputs": []
    },
    {
      "cell_type": "code",
      "metadata": {
        "id": "EZBZLo70k0oO",
        "colab_type": "code",
        "colab": {}
      },
      "source": [
        "#hide\n",
        "days_since = (dff_s.assign(F=dff_s['Cases'].ge(SINCE_CASES_NUM))\n",
        "              .set_index('Date')\n",
        "              .groupby('Key')['F'].transform('idxmax'))\n",
        "dff_s['Days since 100 cases'] = (dff_s['Date'] - days_since.values).dt.days.values\n",
        "\n",
        "dff_s2 = dff_s[dff_s['Days since 100 cases'].ge(0)]"
      ],
      "execution_count": 0,
      "outputs": []
    },
    {
      "cell_type": "code",
      "metadata": {
        "papermill": {
          "duration": 0.020991,
          "end_time": "2020-03-22T20:04:00.161803",
          "exception": false,
          "start_time": "2020-03-22T20:04:00.140812",
          "status": "completed"
        },
        "tags": [],
        "id": "JlmnZRiJoSlS",
        "colab_type": "code",
        "colab": {}
      },
      "source": [
        "#hide\n",
        "def get_colors(x):\n",
        "    mapping = {\n",
        "        'Italy': 'grey',\n",
        "        'Iran': '#A1BA59',\n",
        "        'Japan': '#9467bd',\n",
        "        'South Korea': '#E45756',\n",
        "        'Spain': '#F58518',\n",
        "        'Germany': '#2495D3',\n",
        "        'United Kingdom': '#2495D3',\n",
        "        'US': '#3469B2',\n",
        "        'India': '#9D755D'}\n",
        "    return mapping.get(x, '#3469B2')"
      ],
      "execution_count": 0,
      "outputs": []
    },
    {
      "cell_type": "code",
      "metadata": {
        "papermill": {
          "duration": 0.028831,
          "end_time": "2020-03-22T20:04:00.202323",
          "exception": false,
          "start_time": "2020-03-22T20:04:00.173492",
          "status": "completed"
        },
        "tags": [],
        "id": "PcLYtbf8oSlW",
        "colab_type": "code",
        "colab": {}
      },
      "source": [
        "#hide_input\n",
        "baseline_countries = ['Italy', 'South Korea', 'Japan']\n",
        "max_date = dff2['Date'].max()\n",
        "color_domain = list(dff2['Key'].unique())\n",
        "color_range = list(map(get_colors, color_domain))\n",
        "\n",
        "def make_since_chart(highlight_countries=[], baseline_countries=baseline_countries):\n",
        "    selection = alt.selection_multi(fields=['Key'], bind='legend', \n",
        "                                    init=[{'Key': x} for x in highlight_countries + baseline_countries])\n",
        "\n",
        "    base = alt.Chart(dff2, width=550).encode(\n",
        "        x='Days since 100 cases:Q',\n",
        "        y=alt.Y('Cases:Q', scale=alt.Scale(type='log')),\n",
        "        color=alt.Color(\n",
        "            'Key:N',\n",
        "            scale=alt.Scale(domain=color_domain, range=color_range),\n",
        "            legend=alt.Legend(columns=2)),\n",
        "        tooltip=list(dff2),\n",
        "        opacity=alt.condition(selection, alt.value(1), alt.value(0.05))\n",
        "    )\n",
        "    max_day = dff2['Days since 100 cases'].max()\n",
        "    ref = pd.DataFrame([[x, 100*1.33**x] for x in range(max_day+1)], columns=['Days since 100 cases', 'Cases'])\n",
        "    base_ref = alt.Chart(ref).encode(x='Days since 100 cases:Q', y='Cases:Q')\n",
        "    return (\n",
        "        base_ref.mark_line(color='black', opacity=.5, strokeDash=[3,3]) +\n",
        "        base_ref.transform_filter(\n",
        "            alt.datum['Days since 100 cases'] >= max_day\n",
        "        ).mark_text(dy=-6, align='right', fontSize=10, text='33% Daily Growth') +\n",
        "        base.mark_line(point=True).add_selection(selection) + \n",
        "        base.transform_filter(\n",
        "            alt.datum['Date'] >= int(max_date.timestamp() * 1000)\n",
        "        ).mark_text(dy=-8, align='right', fontWeight='bold').encode(text='Key:N')\n",
        "    ).properties(\n",
        "        title=f\"Compare {', '.join(highlight_countries)} trajectory with {', '.join(baseline_countries)}\"\n",
        "    )"
      ],
      "execution_count": 0,
      "outputs": []
    },
    {
      "cell_type": "markdown",
      "metadata": {
        "papermill": {
          "duration": 0.011681,
          "end_time": "2020-03-22T20:04:00.225444",
          "exception": false,
          "start_time": "2020-03-22T20:04:00.213763",
          "status": "completed"
        },
        "tags": [],
        "id": "au4MOp48oSlZ",
        "colab_type": "text"
      },
      "source": [
        "## Learning from Italy, South Korea & Japan"
      ]
    },
    {
      "cell_type": "markdown",
      "metadata": {
        "papermill": {
          "duration": 0.011313,
          "end_time": "2020-03-22T20:04:00.247889",
          "exception": false,
          "start_time": "2020-03-22T20:04:00.236576",
          "status": "completed"
        },
        "tags": [],
        "id": "VVAyPOieoSla",
        "colab_type": "text"
      },
      "source": [
        "Italy, South Korea & Japan are three countries which show different growth rates and how it evolved over time. \n",
        "\n",
        "**South Korea** flattened it's growth after 2 weeks since 100 cases. **Italy** continue to grew after 3rd week.\n",
        "\n",
        "Where does a Country of interest stand today?\n",
        "\n",
        "<small>Click (Shift+ for multiple) on Countries legend to filter the visualization.</small>"
      ]
    },
    {
      "cell_type": "code",
      "metadata": {
        "papermill": {
          "duration": 0.031996,
          "end_time": "2020-03-22T20:04:00.292119",
          "exception": false,
          "start_time": "2020-03-22T20:04:00.260123",
          "status": "completed"
        },
        "tags": [],
        "id": "1RkKkvF9oSlb",
        "colab_type": "code",
        "outputId": "7e99807c-d4be-4e34-8074-a463cd898402",
        "colab": {
          "base_uri": "https://localhost:8080/",
          "height": 33
        }
      },
      "source": [
        "#hide_input\n",
        "HTML(f'<small class=\"float-right\">Last Updated on {pd.to_datetime(LAST_DATE).strftime(\"%B, %d %Y\")}</small>')"
      ],
      "execution_count": 82,
      "outputs": [
        {
          "output_type": "execute_result",
          "data": {
            "text/html": [
              "<small class=\"float-right\">Last Updated on March, 25 2020</small>"
            ],
            "text/plain": [
              "<IPython.core.display.HTML object>"
            ]
          },
          "metadata": {
            "tags": []
          },
          "execution_count": 82
        }
      ]
    },
    {
      "cell_type": "code",
      "metadata": {
        "papermill": {
          "duration": 0.153277,
          "end_time": "2020-03-22T20:04:00.457545",
          "exception": false,
          "start_time": "2020-03-22T20:04:00.304268",
          "status": "completed"
        },
        "tags": [],
        "id": "MYqpeR8EoSlg",
        "colab_type": "code",
        "outputId": "44a3932a-7ad7-4369-eb18-322e4addde8b",
        "colab": {
          "base_uri": "https://localhost:8080/",
          "height": 385
        }
      },
      "source": [
        "#hide_input\n",
        "chart = make_since_chart(highlight_countries=['US', 'India'])\n",
        "chart"
      ],
      "execution_count": 83,
      "outputs": [
        {
          "output_type": "execute_result",
          "data": {
            "text/plain": [
              "alt.LayerChart(...)"
            ],
            "text/html": [
              "\n",
              "<div id=\"altair-viz-d7918bceced6415d94d3594fe08b5350\"></div>\n",
              "<script type=\"text/javascript\">\n",
              "  (function(spec, embedOpt){\n",
              "    const outputDiv = document.getElementById(\"altair-viz-d7918bceced6415d94d3594fe08b5350\");\n",
              "    const paths = {\n",
              "      \"vega\": \"https://cdn.jsdelivr.net/npm//vega@5?noext\",\n",
              "      \"vega-lib\": \"https://cdn.jsdelivr.net/npm//vega-lib?noext\",\n",
              "      \"vega-lite\": \"https://cdn.jsdelivr.net/npm//vega-lite@4.0.2?noext\",\n",
              "      \"vega-embed\": \"https://cdn.jsdelivr.net/npm//vega-embed@6?noext\",\n",
              "    };\n",
              "\n",
              "    function loadScript(lib) {\n",
              "      return new Promise(function(resolve, reject) {\n",
              "        var s = document.createElement('script');\n",
              "        s.src = paths[lib];\n",
              "        s.async = true;\n",
              "        s.onload = () => resolve(paths[lib]);\n",
              "        s.onerror = () => reject(`Error loading script: ${paths[lib]}`);\n",
              "        document.getElementsByTagName(\"head\")[0].appendChild(s);\n",
              "      });\n",
              "    }\n",
              "\n",
              "    function showError(err) {\n",
              "      outputDiv.innerHTML = `<div class=\"error\" style=\"color:red;\">${err}</div>`;\n",
              "      throw err;\n",
              "    }\n",
              "\n",
              "    function displayChart(vegaEmbed) {\n",
              "      vegaEmbed(outputDiv, spec, embedOpt)\n",
              "        .catch(err => showError(`Javascript Error: ${err.message}<br>This usually means there's a typo in your chart specification. See the javascript console for the full traceback.`));\n",
              "    }\n",
              "\n",
              "    if(typeof define === \"function\" && define.amd) {\n",
              "      requirejs.config({paths});\n",
              "      require([\"vega-embed\"], displayChart, err => showError(`Error loading script: ${err.message}`));\n",
              "    } else if (typeof vegaEmbed === \"function\") {\n",
              "      displayChart(vegaEmbed);\n",
              "    } else {\n",
              "      loadScript(\"vega\")\n",
              "        .then(() => loadScript(\"vega-lite\"))\n",
              "        .then(() => loadScript(\"vega-embed\"))\n",
              "        .catch(showError)\n",
              "        .then(() => displayChart(vegaEmbed));\n",
              "    }\n",
              "  })({\"config\": {\"view\": {\"continuousWidth\": 400, \"continuousHeight\": 300}}, \"layer\": [{\"mark\": {\"type\": \"line\", \"color\": \"black\", \"opacity\": 0.5, \"strokeDash\": [3, 3]}, \"encoding\": {\"x\": {\"type\": \"quantitative\", \"field\": \"Days since 100 cases\"}, \"y\": {\"type\": \"quantitative\", \"field\": \"Cases\"}}}, {\"mark\": {\"type\": \"text\", \"align\": \"right\", \"dy\": -6, \"fontSize\": 10, \"text\": \"33% Daily Growth\"}, \"encoding\": {\"x\": {\"type\": \"quantitative\", \"field\": \"Days since 100 cases\"}, \"y\": {\"type\": \"quantitative\", \"field\": \"Cases\"}}, \"transform\": [{\"filter\": \"(datum['Days since 100 cases'] >= 34)\"}]}, {\"data\": {\"name\": \"data-a7bce56ee4bad086b1b9225552f04d0a\"}, \"mark\": {\"type\": \"line\", \"point\": true}, \"encoding\": {\"color\": {\"type\": \"nominal\", \"field\": \"Key\", \"legend\": {\"columns\": 2}, \"scale\": {\"domain\": [\"Germany\", \"India\", \"Italy\", \"Japan\", \"South Korea\", \"Spain\", \"US\", \"United Kingdom\"], \"range\": [\"#2495D3\", \"#9D755D\", \"grey\", \"#9467bd\", \"#E45756\", \"#F58518\", \"#3469B2\", \"#2495D3\"]}}, \"opacity\": {\"condition\": {\"value\": 1, \"selection\": \"selector005\"}, \"value\": 0.05}, \"tooltip\": [{\"type\": \"nominal\", \"field\": \"Key\"}, {\"type\": \"temporal\", \"field\": \"Date\"}, {\"type\": \"quantitative\", \"field\": \"Cases\"}, {\"type\": \"quantitative\", \"field\": \"Days since 100 cases\"}], \"x\": {\"type\": \"quantitative\", \"field\": \"Days since 100 cases\"}, \"y\": {\"type\": \"quantitative\", \"field\": \"Cases\", \"scale\": {\"type\": \"log\"}}}, \"selection\": {\"selector005\": {\"type\": \"multi\", \"fields\": [\"Key\"], \"bind\": \"legend\", \"init\": [{\"Key\": \"US\"}, {\"Key\": \"India\"}, {\"Key\": \"Italy\"}, {\"Key\": \"South Korea\"}, {\"Key\": \"Japan\"}]}}, \"width\": 550}, {\"data\": {\"name\": \"data-a7bce56ee4bad086b1b9225552f04d0a\"}, \"mark\": {\"type\": \"text\", \"align\": \"right\", \"dy\": -8, \"fontWeight\": \"bold\"}, \"encoding\": {\"color\": {\"type\": \"nominal\", \"field\": \"Key\", \"legend\": {\"columns\": 2}, \"scale\": {\"domain\": [\"Germany\", \"India\", \"Italy\", \"Japan\", \"South Korea\", \"Spain\", \"US\", \"United Kingdom\"], \"range\": [\"#2495D3\", \"#9D755D\", \"grey\", \"#9467bd\", \"#E45756\", \"#F58518\", \"#3469B2\", \"#2495D3\"]}}, \"opacity\": {\"condition\": {\"value\": 1, \"selection\": \"selector005\"}, \"value\": 0.05}, \"text\": {\"type\": \"nominal\", \"field\": \"Key\"}, \"tooltip\": [{\"type\": \"nominal\", \"field\": \"Key\"}, {\"type\": \"temporal\", \"field\": \"Date\"}, {\"type\": \"quantitative\", \"field\": \"Cases\"}, {\"type\": \"quantitative\", \"field\": \"Days since 100 cases\"}], \"x\": {\"type\": \"quantitative\", \"field\": \"Days since 100 cases\"}, \"y\": {\"type\": \"quantitative\", \"field\": \"Cases\", \"scale\": {\"type\": \"log\"}}}, \"transform\": [{\"filter\": \"(datum['Date'] >= 1585094400000)\"}], \"width\": 550}], \"data\": {\"name\": \"data-22f97c60acdfb30efbe2d567de52cc4c\"}, \"title\": \"Compare US, India trajectory with Italy, South Korea, Japan\", \"$schema\": \"https://vega.github.io/schema/vega-lite/v4.0.2.json\", \"datasets\": {\"data-22f97c60acdfb30efbe2d567de52cc4c\": [{\"Days since 100 cases\": 0, \"Cases\": 100.0}, {\"Days since 100 cases\": 1, \"Cases\": 133.0}, {\"Days since 100 cases\": 2, \"Cases\": 176.89000000000001}, {\"Days since 100 cases\": 3, \"Cases\": 235.26370000000006}, {\"Days since 100 cases\": 4, \"Cases\": 312.90072100000003}, {\"Days since 100 cases\": 5, \"Cases\": 416.1579589300001}, {\"Days since 100 cases\": 6, \"Cases\": 553.4900853769002}, {\"Days since 100 cases\": 7, \"Cases\": 736.1418135512773}, {\"Days since 100 cases\": 8, \"Cases\": 979.0686120231989}, {\"Days since 100 cases\": 9, \"Cases\": 1302.1612539908547}, {\"Days since 100 cases\": 10, \"Cases\": 1731.8744678078367}, {\"Days since 100 cases\": 11, \"Cases\": 2303.393042184423}, {\"Days since 100 cases\": 12, \"Cases\": 3063.5127461052825}, {\"Days since 100 cases\": 13, \"Cases\": 4074.471952320026}, {\"Days since 100 cases\": 14, \"Cases\": 5419.047696585635}, {\"Days since 100 cases\": 15, \"Cases\": 7207.3334364588945}, {\"Days since 100 cases\": 16, \"Cases\": 9585.75347049033}, {\"Days since 100 cases\": 17, \"Cases\": 12749.05211575214}, {\"Days since 100 cases\": 18, \"Cases\": 16956.239313950347}, {\"Days since 100 cases\": 19, \"Cases\": 22551.79828755396}, {\"Days since 100 cases\": 20, \"Cases\": 29993.891722446773}, {\"Days since 100 cases\": 21, \"Cases\": 39891.875990854205}, {\"Days since 100 cases\": 22, \"Cases\": 53056.195067836095}, {\"Days since 100 cases\": 23, \"Cases\": 70564.73944022201}, {\"Days since 100 cases\": 24, \"Cases\": 93851.1034554953}, {\"Days since 100 cases\": 25, \"Cases\": 124821.96759580875}, {\"Days since 100 cases\": 26, \"Cases\": 166013.21690242563}, {\"Days since 100 cases\": 27, \"Cases\": 220797.5784802261}, {\"Days since 100 cases\": 28, \"Cases\": 293660.7793787007}, {\"Days since 100 cases\": 29, \"Cases\": 390568.83657367196}, {\"Days since 100 cases\": 30, \"Cases\": 519456.55264298373}, {\"Days since 100 cases\": 31, \"Cases\": 690877.2150151684}, {\"Days since 100 cases\": 32, \"Cases\": 918866.695970174}, {\"Days since 100 cases\": 33, \"Cases\": 1222092.7056403316}, {\"Days since 100 cases\": 34, \"Cases\": 1625383.2985016413}], \"data-a7bce56ee4bad086b1b9225552f04d0a\": [{\"Key\": \"Germany\", \"Date\": \"2020-03-01T00:00:00\", \"Cases\": 130, \"Days since 100 cases\": 0}, {\"Key\": \"Germany\", \"Date\": \"2020-03-02T00:00:00\", \"Cases\": 159, \"Days since 100 cases\": 1}, {\"Key\": \"Germany\", \"Date\": \"2020-03-03T00:00:00\", \"Cases\": 196, \"Days since 100 cases\": 2}, {\"Key\": \"Germany\", \"Date\": \"2020-03-04T00:00:00\", \"Cases\": 262, \"Days since 100 cases\": 3}, {\"Key\": \"Germany\", \"Date\": \"2020-03-05T00:00:00\", \"Cases\": 482, \"Days since 100 cases\": 4}, {\"Key\": \"Germany\", \"Date\": \"2020-03-06T00:00:00\", \"Cases\": 670, \"Days since 100 cases\": 5}, {\"Key\": \"Germany\", \"Date\": \"2020-03-07T00:00:00\", \"Cases\": 799, \"Days since 100 cases\": 6}, {\"Key\": \"Germany\", \"Date\": \"2020-03-08T00:00:00\", \"Cases\": 1040, \"Days since 100 cases\": 7}, {\"Key\": \"Germany\", \"Date\": \"2020-03-09T00:00:00\", \"Cases\": 1176, \"Days since 100 cases\": 8}, {\"Key\": \"Germany\", \"Date\": \"2020-03-10T00:00:00\", \"Cases\": 1457, \"Days since 100 cases\": 9}, {\"Key\": \"Germany\", \"Date\": \"2020-03-11T00:00:00\", \"Cases\": 1908, \"Days since 100 cases\": 10}, {\"Key\": \"Germany\", \"Date\": \"2020-03-12T00:00:00\", \"Cases\": 2078, \"Days since 100 cases\": 11}, {\"Key\": \"Germany\", \"Date\": \"2020-03-13T00:00:00\", \"Cases\": 3675, \"Days since 100 cases\": 12}, {\"Key\": \"Germany\", \"Date\": \"2020-03-14T00:00:00\", \"Cases\": 4585, \"Days since 100 cases\": 13}, {\"Key\": \"Germany\", \"Date\": \"2020-03-15T00:00:00\", \"Cases\": 5795, \"Days since 100 cases\": 14}, {\"Key\": \"Germany\", \"Date\": \"2020-03-16T00:00:00\", \"Cases\": 7272, \"Days since 100 cases\": 15}, {\"Key\": \"Germany\", \"Date\": \"2020-03-17T00:00:00\", \"Cases\": 9257, \"Days since 100 cases\": 16}, {\"Key\": \"Germany\", \"Date\": \"2020-03-18T00:00:00\", \"Cases\": 12327, \"Days since 100 cases\": 17}, {\"Key\": \"Germany\", \"Date\": \"2020-03-19T00:00:00\", \"Cases\": 15320, \"Days since 100 cases\": 18}, {\"Key\": \"Germany\", \"Date\": \"2020-03-20T00:00:00\", \"Cases\": 19848, \"Days since 100 cases\": 19}, {\"Key\": \"Germany\", \"Date\": \"2020-03-21T00:00:00\", \"Cases\": 22213, \"Days since 100 cases\": 20}, {\"Key\": \"Germany\", \"Date\": \"2020-03-22T00:00:00\", \"Cases\": 24873, \"Days since 100 cases\": 21}, {\"Key\": \"Germany\", \"Date\": \"2020-03-23T00:00:00\", \"Cases\": 29056, \"Days since 100 cases\": 22}, {\"Key\": \"Germany\", \"Date\": \"2020-03-24T00:00:00\", \"Cases\": 32986, \"Days since 100 cases\": 23}, {\"Key\": \"Germany\", \"Date\": \"2020-03-25T00:00:00\", \"Cases\": 37323, \"Days since 100 cases\": 24}, {\"Key\": \"India\", \"Date\": \"2020-03-14T00:00:00\", \"Cases\": 102, \"Days since 100 cases\": 0}, {\"Key\": \"India\", \"Date\": \"2020-03-15T00:00:00\", \"Cases\": 113, \"Days since 100 cases\": 1}, {\"Key\": \"India\", \"Date\": \"2020-03-16T00:00:00\", \"Cases\": 119, \"Days since 100 cases\": 2}, {\"Key\": \"India\", \"Date\": \"2020-03-17T00:00:00\", \"Cases\": 142, \"Days since 100 cases\": 3}, {\"Key\": \"India\", \"Date\": \"2020-03-18T00:00:00\", \"Cases\": 156, \"Days since 100 cases\": 4}, {\"Key\": \"India\", \"Date\": \"2020-03-19T00:00:00\", \"Cases\": 194, \"Days since 100 cases\": 5}, {\"Key\": \"India\", \"Date\": \"2020-03-20T00:00:00\", \"Cases\": 244, \"Days since 100 cases\": 6}, {\"Key\": \"India\", \"Date\": \"2020-03-21T00:00:00\", \"Cases\": 330, \"Days since 100 cases\": 7}, {\"Key\": \"India\", \"Date\": \"2020-03-22T00:00:00\", \"Cases\": 396, \"Days since 100 cases\": 8}, {\"Key\": \"India\", \"Date\": \"2020-03-23T00:00:00\", \"Cases\": 499, \"Days since 100 cases\": 9}, {\"Key\": \"India\", \"Date\": \"2020-03-24T00:00:00\", \"Cases\": 536, \"Days since 100 cases\": 10}, {\"Key\": \"India\", \"Date\": \"2020-03-25T00:00:00\", \"Cases\": 657, \"Days since 100 cases\": 11}, {\"Key\": \"Italy\", \"Date\": \"2020-02-23T00:00:00\", \"Cases\": 155, \"Days since 100 cases\": 0}, {\"Key\": \"Italy\", \"Date\": \"2020-02-24T00:00:00\", \"Cases\": 229, \"Days since 100 cases\": 1}, {\"Key\": \"Italy\", \"Date\": \"2020-02-25T00:00:00\", \"Cases\": 322, \"Days since 100 cases\": 2}, {\"Key\": \"Italy\", \"Date\": \"2020-02-26T00:00:00\", \"Cases\": 453, \"Days since 100 cases\": 3}, {\"Key\": \"Italy\", \"Date\": \"2020-02-27T00:00:00\", \"Cases\": 655, \"Days since 100 cases\": 4}, {\"Key\": \"Italy\", \"Date\": \"2020-02-28T00:00:00\", \"Cases\": 888, \"Days since 100 cases\": 5}, {\"Key\": \"Italy\", \"Date\": \"2020-02-29T00:00:00\", \"Cases\": 1128, \"Days since 100 cases\": 6}, {\"Key\": \"Italy\", \"Date\": \"2020-03-01T00:00:00\", \"Cases\": 1694, \"Days since 100 cases\": 7}, {\"Key\": \"Italy\", \"Date\": \"2020-03-02T00:00:00\", \"Cases\": 2036, \"Days since 100 cases\": 8}, {\"Key\": \"Italy\", \"Date\": \"2020-03-03T00:00:00\", \"Cases\": 2502, \"Days since 100 cases\": 9}, {\"Key\": \"Italy\", \"Date\": \"2020-03-04T00:00:00\", \"Cases\": 3089, \"Days since 100 cases\": 10}, {\"Key\": \"Italy\", \"Date\": \"2020-03-05T00:00:00\", \"Cases\": 3858, \"Days since 100 cases\": 11}, {\"Key\": \"Italy\", \"Date\": \"2020-03-06T00:00:00\", \"Cases\": 4636, \"Days since 100 cases\": 12}, {\"Key\": \"Italy\", \"Date\": \"2020-03-07T00:00:00\", \"Cases\": 5883, \"Days since 100 cases\": 13}, {\"Key\": \"Italy\", \"Date\": \"2020-03-08T00:00:00\", \"Cases\": 7375, \"Days since 100 cases\": 14}, {\"Key\": \"Italy\", \"Date\": \"2020-03-09T00:00:00\", \"Cases\": 9172, \"Days since 100 cases\": 15}, {\"Key\": \"Italy\", \"Date\": \"2020-03-10T00:00:00\", \"Cases\": 10149, \"Days since 100 cases\": 16}, {\"Key\": \"Italy\", \"Date\": \"2020-03-11T00:00:00\", \"Cases\": 12462, \"Days since 100 cases\": 17}, {\"Key\": \"Italy\", \"Date\": \"2020-03-12T00:00:00\", \"Cases\": 12462, \"Days since 100 cases\": 18}, {\"Key\": \"Italy\", \"Date\": \"2020-03-13T00:00:00\", \"Cases\": 17660, \"Days since 100 cases\": 19}, {\"Key\": \"Italy\", \"Date\": \"2020-03-14T00:00:00\", \"Cases\": 21157, \"Days since 100 cases\": 20}, {\"Key\": \"Italy\", \"Date\": \"2020-03-15T00:00:00\", \"Cases\": 24747, \"Days since 100 cases\": 21}, {\"Key\": \"Italy\", \"Date\": \"2020-03-16T00:00:00\", \"Cases\": 27980, \"Days since 100 cases\": 22}, {\"Key\": \"Italy\", \"Date\": \"2020-03-17T00:00:00\", \"Cases\": 31506, \"Days since 100 cases\": 23}, {\"Key\": \"Italy\", \"Date\": \"2020-03-18T00:00:00\", \"Cases\": 35713, \"Days since 100 cases\": 24}, {\"Key\": \"Italy\", \"Date\": \"2020-03-19T00:00:00\", \"Cases\": 41035, \"Days since 100 cases\": 25}, {\"Key\": \"Italy\", \"Date\": \"2020-03-20T00:00:00\", \"Cases\": 47021, \"Days since 100 cases\": 26}, {\"Key\": \"Italy\", \"Date\": \"2020-03-21T00:00:00\", \"Cases\": 53578, \"Days since 100 cases\": 27}, {\"Key\": \"Italy\", \"Date\": \"2020-03-22T00:00:00\", \"Cases\": 59138, \"Days since 100 cases\": 28}, {\"Key\": \"Italy\", \"Date\": \"2020-03-23T00:00:00\", \"Cases\": 63927, \"Days since 100 cases\": 29}, {\"Key\": \"Italy\", \"Date\": \"2020-03-24T00:00:00\", \"Cases\": 69176, \"Days since 100 cases\": 30}, {\"Key\": \"Italy\", \"Date\": \"2020-03-25T00:00:00\", \"Cases\": 74386, \"Days since 100 cases\": 31}, {\"Key\": \"Japan\", \"Date\": \"2020-02-21T00:00:00\", \"Cases\": 105, \"Days since 100 cases\": 0}, {\"Key\": \"Japan\", \"Date\": \"2020-02-22T00:00:00\", \"Cases\": 122, \"Days since 100 cases\": 1}, {\"Key\": \"Japan\", \"Date\": \"2020-02-23T00:00:00\", \"Cases\": 147, \"Days since 100 cases\": 2}, {\"Key\": \"Japan\", \"Date\": \"2020-02-24T00:00:00\", \"Cases\": 159, \"Days since 100 cases\": 3}, {\"Key\": \"Japan\", \"Date\": \"2020-02-25T00:00:00\", \"Cases\": 170, \"Days since 100 cases\": 4}, {\"Key\": \"Japan\", \"Date\": \"2020-02-26T00:00:00\", \"Cases\": 189, \"Days since 100 cases\": 5}, {\"Key\": \"Japan\", \"Date\": \"2020-02-27T00:00:00\", \"Cases\": 214, \"Days since 100 cases\": 6}, {\"Key\": \"Japan\", \"Date\": \"2020-02-28T00:00:00\", \"Cases\": 228, \"Days since 100 cases\": 7}, {\"Key\": \"Japan\", \"Date\": \"2020-02-29T00:00:00\", \"Cases\": 241, \"Days since 100 cases\": 8}, {\"Key\": \"Japan\", \"Date\": \"2020-03-01T00:00:00\", \"Cases\": 256, \"Days since 100 cases\": 9}, {\"Key\": \"Japan\", \"Date\": \"2020-03-02T00:00:00\", \"Cases\": 274, \"Days since 100 cases\": 10}, {\"Key\": \"Japan\", \"Date\": \"2020-03-03T00:00:00\", \"Cases\": 293, \"Days since 100 cases\": 11}, {\"Key\": \"Japan\", \"Date\": \"2020-03-04T00:00:00\", \"Cases\": 331, \"Days since 100 cases\": 12}, {\"Key\": \"Japan\", \"Date\": \"2020-03-05T00:00:00\", \"Cases\": 360, \"Days since 100 cases\": 13}, {\"Key\": \"Japan\", \"Date\": \"2020-03-06T00:00:00\", \"Cases\": 420, \"Days since 100 cases\": 14}, {\"Key\": \"Japan\", \"Date\": \"2020-03-07T00:00:00\", \"Cases\": 461, \"Days since 100 cases\": 15}, {\"Key\": \"Japan\", \"Date\": \"2020-03-08T00:00:00\", \"Cases\": 502, \"Days since 100 cases\": 16}, {\"Key\": \"Japan\", \"Date\": \"2020-03-09T00:00:00\", \"Cases\": 511, \"Days since 100 cases\": 17}, {\"Key\": \"Japan\", \"Date\": \"2020-03-10T00:00:00\", \"Cases\": 581, \"Days since 100 cases\": 18}, {\"Key\": \"Japan\", \"Date\": \"2020-03-11T00:00:00\", \"Cases\": 639, \"Days since 100 cases\": 19}, {\"Key\": \"Japan\", \"Date\": \"2020-03-12T00:00:00\", \"Cases\": 639, \"Days since 100 cases\": 20}, {\"Key\": \"Japan\", \"Date\": \"2020-03-13T00:00:00\", \"Cases\": 701, \"Days since 100 cases\": 21}, {\"Key\": \"Japan\", \"Date\": \"2020-03-14T00:00:00\", \"Cases\": 773, \"Days since 100 cases\": 22}, {\"Key\": \"Japan\", \"Date\": \"2020-03-15T00:00:00\", \"Cases\": 839, \"Days since 100 cases\": 23}, {\"Key\": \"Japan\", \"Date\": \"2020-03-16T00:00:00\", \"Cases\": 839, \"Days since 100 cases\": 24}, {\"Key\": \"Japan\", \"Date\": \"2020-03-17T00:00:00\", \"Cases\": 878, \"Days since 100 cases\": 25}, {\"Key\": \"Japan\", \"Date\": \"2020-03-18T00:00:00\", \"Cases\": 889, \"Days since 100 cases\": 26}, {\"Key\": \"Japan\", \"Date\": \"2020-03-19T00:00:00\", \"Cases\": 924, \"Days since 100 cases\": 27}, {\"Key\": \"Japan\", \"Date\": \"2020-03-20T00:00:00\", \"Cases\": 963, \"Days since 100 cases\": 28}, {\"Key\": \"Japan\", \"Date\": \"2020-03-21T00:00:00\", \"Cases\": 1007, \"Days since 100 cases\": 29}, {\"Key\": \"Japan\", \"Date\": \"2020-03-22T00:00:00\", \"Cases\": 1101, \"Days since 100 cases\": 30}, {\"Key\": \"Japan\", \"Date\": \"2020-03-23T00:00:00\", \"Cases\": 1128, \"Days since 100 cases\": 31}, {\"Key\": \"Japan\", \"Date\": \"2020-03-24T00:00:00\", \"Cases\": 1193, \"Days since 100 cases\": 32}, {\"Key\": \"Japan\", \"Date\": \"2020-03-25T00:00:00\", \"Cases\": 1307, \"Days since 100 cases\": 33}, {\"Key\": \"South Korea\", \"Date\": \"2020-02-20T00:00:00\", \"Cases\": 104, \"Days since 100 cases\": 0}, {\"Key\": \"South Korea\", \"Date\": \"2020-02-21T00:00:00\", \"Cases\": 204, \"Days since 100 cases\": 1}, {\"Key\": \"South Korea\", \"Date\": \"2020-02-22T00:00:00\", \"Cases\": 433, \"Days since 100 cases\": 2}, {\"Key\": \"South Korea\", \"Date\": \"2020-02-23T00:00:00\", \"Cases\": 602, \"Days since 100 cases\": 3}, {\"Key\": \"South Korea\", \"Date\": \"2020-02-24T00:00:00\", \"Cases\": 833, \"Days since 100 cases\": 4}, {\"Key\": \"South Korea\", \"Date\": \"2020-02-25T00:00:00\", \"Cases\": 977, \"Days since 100 cases\": 5}, {\"Key\": \"South Korea\", \"Date\": \"2020-02-26T00:00:00\", \"Cases\": 1261, \"Days since 100 cases\": 6}, {\"Key\": \"South Korea\", \"Date\": \"2020-02-27T00:00:00\", \"Cases\": 1766, \"Days since 100 cases\": 7}, {\"Key\": \"South Korea\", \"Date\": \"2020-02-28T00:00:00\", \"Cases\": 2337, \"Days since 100 cases\": 8}, {\"Key\": \"South Korea\", \"Date\": \"2020-02-29T00:00:00\", \"Cases\": 3150, \"Days since 100 cases\": 9}, {\"Key\": \"South Korea\", \"Date\": \"2020-03-01T00:00:00\", \"Cases\": 3736, \"Days since 100 cases\": 10}, {\"Key\": \"South Korea\", \"Date\": \"2020-03-02T00:00:00\", \"Cases\": 4335, \"Days since 100 cases\": 11}, {\"Key\": \"South Korea\", \"Date\": \"2020-03-03T00:00:00\", \"Cases\": 5186, \"Days since 100 cases\": 12}, {\"Key\": \"South Korea\", \"Date\": \"2020-03-04T00:00:00\", \"Cases\": 5621, \"Days since 100 cases\": 13}, {\"Key\": \"South Korea\", \"Date\": \"2020-03-05T00:00:00\", \"Cases\": 6088, \"Days since 100 cases\": 14}, {\"Key\": \"South Korea\", \"Date\": \"2020-03-06T00:00:00\", \"Cases\": 6593, \"Days since 100 cases\": 15}, {\"Key\": \"South Korea\", \"Date\": \"2020-03-07T00:00:00\", \"Cases\": 7041, \"Days since 100 cases\": 16}, {\"Key\": \"South Korea\", \"Date\": \"2020-03-08T00:00:00\", \"Cases\": 7314, \"Days since 100 cases\": 17}, {\"Key\": \"South Korea\", \"Date\": \"2020-03-09T00:00:00\", \"Cases\": 7478, \"Days since 100 cases\": 18}, {\"Key\": \"South Korea\", \"Date\": \"2020-03-10T00:00:00\", \"Cases\": 7513, \"Days since 100 cases\": 19}, {\"Key\": \"South Korea\", \"Date\": \"2020-03-11T00:00:00\", \"Cases\": 7755, \"Days since 100 cases\": 20}, {\"Key\": \"South Korea\", \"Date\": \"2020-03-12T00:00:00\", \"Cases\": 7869, \"Days since 100 cases\": 21}, {\"Key\": \"South Korea\", \"Date\": \"2020-03-13T00:00:00\", \"Cases\": 7979, \"Days since 100 cases\": 22}, {\"Key\": \"South Korea\", \"Date\": \"2020-03-14T00:00:00\", \"Cases\": 8086, \"Days since 100 cases\": 23}, {\"Key\": \"South Korea\", \"Date\": \"2020-03-15T00:00:00\", \"Cases\": 8162, \"Days since 100 cases\": 24}, {\"Key\": \"South Korea\", \"Date\": \"2020-03-16T00:00:00\", \"Cases\": 8236, \"Days since 100 cases\": 25}, {\"Key\": \"South Korea\", \"Date\": \"2020-03-17T00:00:00\", \"Cases\": 8320, \"Days since 100 cases\": 26}, {\"Key\": \"South Korea\", \"Date\": \"2020-03-18T00:00:00\", \"Cases\": 8413, \"Days since 100 cases\": 27}, {\"Key\": \"South Korea\", \"Date\": \"2020-03-19T00:00:00\", \"Cases\": 8565, \"Days since 100 cases\": 28}, {\"Key\": \"South Korea\", \"Date\": \"2020-03-20T00:00:00\", \"Cases\": 8652, \"Days since 100 cases\": 29}, {\"Key\": \"South Korea\", \"Date\": \"2020-03-21T00:00:00\", \"Cases\": 8799, \"Days since 100 cases\": 30}, {\"Key\": \"South Korea\", \"Date\": \"2020-03-22T00:00:00\", \"Cases\": 8961, \"Days since 100 cases\": 31}, {\"Key\": \"South Korea\", \"Date\": \"2020-03-23T00:00:00\", \"Cases\": 8961, \"Days since 100 cases\": 32}, {\"Key\": \"South Korea\", \"Date\": \"2020-03-24T00:00:00\", \"Cases\": 9037, \"Days since 100 cases\": 33}, {\"Key\": \"South Korea\", \"Date\": \"2020-03-25T00:00:00\", \"Cases\": 9137, \"Days since 100 cases\": 34}, {\"Key\": \"Spain\", \"Date\": \"2020-03-02T00:00:00\", \"Cases\": 120, \"Days since 100 cases\": 0}, {\"Key\": \"Spain\", \"Date\": \"2020-03-03T00:00:00\", \"Cases\": 165, \"Days since 100 cases\": 1}, {\"Key\": \"Spain\", \"Date\": \"2020-03-04T00:00:00\", \"Cases\": 222, \"Days since 100 cases\": 2}, {\"Key\": \"Spain\", \"Date\": \"2020-03-05T00:00:00\", \"Cases\": 259, \"Days since 100 cases\": 3}, {\"Key\": \"Spain\", \"Date\": \"2020-03-06T00:00:00\", \"Cases\": 400, \"Days since 100 cases\": 4}, {\"Key\": \"Spain\", \"Date\": \"2020-03-07T00:00:00\", \"Cases\": 500, \"Days since 100 cases\": 5}, {\"Key\": \"Spain\", \"Date\": \"2020-03-08T00:00:00\", \"Cases\": 673, \"Days since 100 cases\": 6}, {\"Key\": \"Spain\", \"Date\": \"2020-03-09T00:00:00\", \"Cases\": 1073, \"Days since 100 cases\": 7}, {\"Key\": \"Spain\", \"Date\": \"2020-03-10T00:00:00\", \"Cases\": 1695, \"Days since 100 cases\": 8}, {\"Key\": \"Spain\", \"Date\": \"2020-03-11T00:00:00\", \"Cases\": 2277, \"Days since 100 cases\": 9}, {\"Key\": \"Spain\", \"Date\": \"2020-03-12T00:00:00\", \"Cases\": 2277, \"Days since 100 cases\": 10}, {\"Key\": \"Spain\", \"Date\": \"2020-03-13T00:00:00\", \"Cases\": 5232, \"Days since 100 cases\": 11}, {\"Key\": \"Spain\", \"Date\": \"2020-03-14T00:00:00\", \"Cases\": 6391, \"Days since 100 cases\": 12}, {\"Key\": \"Spain\", \"Date\": \"2020-03-15T00:00:00\", \"Cases\": 7798, \"Days since 100 cases\": 13}, {\"Key\": \"Spain\", \"Date\": \"2020-03-16T00:00:00\", \"Cases\": 9942, \"Days since 100 cases\": 14}, {\"Key\": \"Spain\", \"Date\": \"2020-03-17T00:00:00\", \"Cases\": 11748, \"Days since 100 cases\": 15}, {\"Key\": \"Spain\", \"Date\": \"2020-03-18T00:00:00\", \"Cases\": 13910, \"Days since 100 cases\": 16}, {\"Key\": \"Spain\", \"Date\": \"2020-03-19T00:00:00\", \"Cases\": 17963, \"Days since 100 cases\": 17}, {\"Key\": \"Spain\", \"Date\": \"2020-03-20T00:00:00\", \"Cases\": 20410, \"Days since 100 cases\": 18}, {\"Key\": \"Spain\", \"Date\": \"2020-03-21T00:00:00\", \"Cases\": 25374, \"Days since 100 cases\": 19}, {\"Key\": \"Spain\", \"Date\": \"2020-03-22T00:00:00\", \"Cases\": 28768, \"Days since 100 cases\": 20}, {\"Key\": \"Spain\", \"Date\": \"2020-03-23T00:00:00\", \"Cases\": 35136, \"Days since 100 cases\": 21}, {\"Key\": \"Spain\", \"Date\": \"2020-03-24T00:00:00\", \"Cases\": 39885, \"Days since 100 cases\": 22}, {\"Key\": \"Spain\", \"Date\": \"2020-03-25T00:00:00\", \"Cases\": 49515, \"Days since 100 cases\": 23}, {\"Key\": \"US\", \"Date\": \"2020-03-03T00:00:00\", \"Cases\": 118, \"Days since 100 cases\": 0}, {\"Key\": \"US\", \"Date\": \"2020-03-04T00:00:00\", \"Cases\": 149, \"Days since 100 cases\": 1}, {\"Key\": \"US\", \"Date\": \"2020-03-05T00:00:00\", \"Cases\": 217, \"Days since 100 cases\": 2}, {\"Key\": \"US\", \"Date\": \"2020-03-06T00:00:00\", \"Cases\": 262, \"Days since 100 cases\": 3}, {\"Key\": \"US\", \"Date\": \"2020-03-07T00:00:00\", \"Cases\": 402, \"Days since 100 cases\": 4}, {\"Key\": \"US\", \"Date\": \"2020-03-08T00:00:00\", \"Cases\": 518, \"Days since 100 cases\": 5}, {\"Key\": \"US\", \"Date\": \"2020-03-09T00:00:00\", \"Cases\": 583, \"Days since 100 cases\": 6}, {\"Key\": \"US\", \"Date\": \"2020-03-10T00:00:00\", \"Cases\": 959, \"Days since 100 cases\": 7}, {\"Key\": \"US\", \"Date\": \"2020-03-11T00:00:00\", \"Cases\": 1281, \"Days since 100 cases\": 8}, {\"Key\": \"US\", \"Date\": \"2020-03-12T00:00:00\", \"Cases\": 1663, \"Days since 100 cases\": 9}, {\"Key\": \"US\", \"Date\": \"2020-03-13T00:00:00\", \"Cases\": 2179, \"Days since 100 cases\": 10}, {\"Key\": \"US\", \"Date\": \"2020-03-14T00:00:00\", \"Cases\": 2727, \"Days since 100 cases\": 11}, {\"Key\": \"US\", \"Date\": \"2020-03-15T00:00:00\", \"Cases\": 3499, \"Days since 100 cases\": 12}, {\"Key\": \"US\", \"Date\": \"2020-03-16T00:00:00\", \"Cases\": 4632, \"Days since 100 cases\": 13}, {\"Key\": \"US\", \"Date\": \"2020-03-17T00:00:00\", \"Cases\": 6421, \"Days since 100 cases\": 14}, {\"Key\": \"US\", \"Date\": \"2020-03-18T00:00:00\", \"Cases\": 7783, \"Days since 100 cases\": 15}, {\"Key\": \"US\", \"Date\": \"2020-03-19T00:00:00\", \"Cases\": 13677, \"Days since 100 cases\": 16}, {\"Key\": \"US\", \"Date\": \"2020-03-20T00:00:00\", \"Cases\": 19100, \"Days since 100 cases\": 17}, {\"Key\": \"US\", \"Date\": \"2020-03-21T00:00:00\", \"Cases\": 25489, \"Days since 100 cases\": 18}, {\"Key\": \"US\", \"Date\": \"2020-03-22T00:00:00\", \"Cases\": 33276, \"Days since 100 cases\": 19}, {\"Key\": \"US\", \"Date\": \"2020-03-23T00:00:00\", \"Cases\": 43847, \"Days since 100 cases\": 20}, {\"Key\": \"US\", \"Date\": \"2020-03-24T00:00:00\", \"Cases\": 53740, \"Days since 100 cases\": 21}, {\"Key\": \"US\", \"Date\": \"2020-03-25T00:00:00\", \"Cases\": 65778, \"Days since 100 cases\": 22}, {\"Key\": \"United Kingdom\", \"Date\": \"2020-03-05T00:00:00\", \"Cases\": 116, \"Days since 100 cases\": 0}, {\"Key\": \"United Kingdom\", \"Date\": \"2020-03-06T00:00:00\", \"Cases\": 164, \"Days since 100 cases\": 1}, {\"Key\": \"United Kingdom\", \"Date\": \"2020-03-07T00:00:00\", \"Cases\": 207, \"Days since 100 cases\": 2}, {\"Key\": \"United Kingdom\", \"Date\": \"2020-03-08T00:00:00\", \"Cases\": 274, \"Days since 100 cases\": 3}, {\"Key\": \"United Kingdom\", \"Date\": \"2020-03-09T00:00:00\", \"Cases\": 322, \"Days since 100 cases\": 4}, {\"Key\": \"United Kingdom\", \"Date\": \"2020-03-10T00:00:00\", \"Cases\": 384, \"Days since 100 cases\": 5}, {\"Key\": \"United Kingdom\", \"Date\": \"2020-03-11T00:00:00\", \"Cases\": 459, \"Days since 100 cases\": 6}, {\"Key\": \"United Kingdom\", \"Date\": \"2020-03-12T00:00:00\", \"Cases\": 459, \"Days since 100 cases\": 7}, {\"Key\": \"United Kingdom\", \"Date\": \"2020-03-13T00:00:00\", \"Cases\": 802, \"Days since 100 cases\": 8}, {\"Key\": \"United Kingdom\", \"Date\": \"2020-03-14T00:00:00\", \"Cases\": 1144, \"Days since 100 cases\": 9}, {\"Key\": \"United Kingdom\", \"Date\": \"2020-03-15T00:00:00\", \"Cases\": 1145, \"Days since 100 cases\": 10}, {\"Key\": \"United Kingdom\", \"Date\": \"2020-03-16T00:00:00\", \"Cases\": 1551, \"Days since 100 cases\": 11}, {\"Key\": \"United Kingdom\", \"Date\": \"2020-03-17T00:00:00\", \"Cases\": 1960, \"Days since 100 cases\": 12}, {\"Key\": \"United Kingdom\", \"Date\": \"2020-03-18T00:00:00\", \"Cases\": 2642, \"Days since 100 cases\": 13}, {\"Key\": \"United Kingdom\", \"Date\": \"2020-03-19T00:00:00\", \"Cases\": 2716, \"Days since 100 cases\": 14}, {\"Key\": \"United Kingdom\", \"Date\": \"2020-03-20T00:00:00\", \"Cases\": 4014, \"Days since 100 cases\": 15}, {\"Key\": \"United Kingdom\", \"Date\": \"2020-03-21T00:00:00\", \"Cases\": 5067, \"Days since 100 cases\": 16}, {\"Key\": \"United Kingdom\", \"Date\": \"2020-03-22T00:00:00\", \"Cases\": 5745, \"Days since 100 cases\": 17}, {\"Key\": \"United Kingdom\", \"Date\": \"2020-03-23T00:00:00\", \"Cases\": 6726, \"Days since 100 cases\": 18}, {\"Key\": \"United Kingdom\", \"Date\": \"2020-03-24T00:00:00\", \"Cases\": 8164, \"Days since 100 cases\": 19}, {\"Key\": \"United Kingdom\", \"Date\": \"2020-03-25T00:00:00\", \"Cases\": 9640, \"Days since 100 cases\": 20}]}}, {\"mode\": \"vega-lite\"});\n",
              "</script>"
            ]
          },
          "metadata": {
            "tags": []
          },
          "execution_count": 83
        }
      ]
    },
    {
      "cell_type": "markdown",
      "metadata": {
        "papermill": {
          "duration": 0.01526,
          "end_time": "2020-03-22T20:04:00.640813",
          "exception": false,
          "start_time": "2020-03-22T20:04:00.625553",
          "status": "completed"
        },
        "tags": [],
        "id": "WudWcE0RoSln",
        "colab_type": "text"
      },
      "source": [
        "{{LAST_DATE}}"
      ]
    },
    {
      "cell_type": "code",
      "metadata": {
        "id": "8cH2scJxl-f-",
        "colab_type": "code",
        "outputId": "24a8b134-06f6-4302-99ba-0ddc595daca2",
        "colab": {
          "base_uri": "https://localhost:8080/",
          "height": 391
        }
      },
      "source": [
        "#hide \n",
        "dff3 = pd.concat([dff2, dff_s2])\n",
        "dff3"
      ],
      "execution_count": 84,
      "outputs": [
        {
          "output_type": "execute_result",
          "data": {
            "text/html": [
              "<div>\n",
              "<style scoped>\n",
              "    .dataframe tbody tr th:only-of-type {\n",
              "        vertical-align: middle;\n",
              "    }\n",
              "\n",
              "    .dataframe tbody tr th {\n",
              "        vertical-align: top;\n",
              "    }\n",
              "\n",
              "    .dataframe thead th {\n",
              "        text-align: right;\n",
              "    }\n",
              "</style>\n",
              "<table border=\"1\" class=\"dataframe\">\n",
              "  <thead>\n",
              "    <tr style=\"text-align: right;\">\n",
              "      <th></th>\n",
              "      <th>Key</th>\n",
              "      <th>Date</th>\n",
              "      <th>Cases</th>\n",
              "      <th>Days since 100 cases</th>\n",
              "    </tr>\n",
              "  </thead>\n",
              "  <tbody>\n",
              "    <tr>\n",
              "      <th>4007</th>\n",
              "      <td>Germany</td>\n",
              "      <td>2020-03-01</td>\n",
              "      <td>130.0</td>\n",
              "      <td>0</td>\n",
              "    </tr>\n",
              "    <tr>\n",
              "      <th>4008</th>\n",
              "      <td>Germany</td>\n",
              "      <td>2020-03-02</td>\n",
              "      <td>159.0</td>\n",
              "      <td>1</td>\n",
              "    </tr>\n",
              "    <tr>\n",
              "      <th>4009</th>\n",
              "      <td>Germany</td>\n",
              "      <td>2020-03-03</td>\n",
              "      <td>196.0</td>\n",
              "      <td>2</td>\n",
              "    </tr>\n",
              "    <tr>\n",
              "      <th>4010</th>\n",
              "      <td>Germany</td>\n",
              "      <td>2020-03-04</td>\n",
              "      <td>262.0</td>\n",
              "      <td>3</td>\n",
              "    </tr>\n",
              "    <tr>\n",
              "      <th>4011</th>\n",
              "      <td>Germany</td>\n",
              "      <td>2020-03-05</td>\n",
              "      <td>482.0</td>\n",
              "      <td>4</td>\n",
              "    </tr>\n",
              "    <tr>\n",
              "      <th>...</th>\n",
              "      <td>...</td>\n",
              "      <td>...</td>\n",
              "      <td>...</td>\n",
              "      <td>...</td>\n",
              "    </tr>\n",
              "    <tr>\n",
              "      <th>1283</th>\n",
              "      <td>Wyoming</td>\n",
              "      <td>2020-03-22</td>\n",
              "      <td>24.0</td>\n",
              "      <td>18</td>\n",
              "    </tr>\n",
              "    <tr>\n",
              "      <th>1284</th>\n",
              "      <td>Wyoming</td>\n",
              "      <td>2020-03-23</td>\n",
              "      <td>26.0</td>\n",
              "      <td>19</td>\n",
              "    </tr>\n",
              "    <tr>\n",
              "      <th>1285</th>\n",
              "      <td>Wyoming</td>\n",
              "      <td>2020-03-24</td>\n",
              "      <td>29.0</td>\n",
              "      <td>20</td>\n",
              "    </tr>\n",
              "    <tr>\n",
              "      <th>1286</th>\n",
              "      <td>Wyoming</td>\n",
              "      <td>2020-03-25</td>\n",
              "      <td>44.0</td>\n",
              "      <td>21</td>\n",
              "    </tr>\n",
              "    <tr>\n",
              "      <th>1287</th>\n",
              "      <td>Wyoming</td>\n",
              "      <td>2020-03-26</td>\n",
              "      <td>53.0</td>\n",
              "      <td>22</td>\n",
              "    </tr>\n",
              "  </tbody>\n",
              "</table>\n",
              "<p>826 rows × 4 columns</p>\n",
              "</div>"
            ],
            "text/plain": [
              "          Key       Date  Cases  Days since 100 cases\n",
              "4007  Germany 2020-03-01  130.0                     0\n",
              "4008  Germany 2020-03-02  159.0                     1\n",
              "4009  Germany 2020-03-03  196.0                     2\n",
              "4010  Germany 2020-03-04  262.0                     3\n",
              "4011  Germany 2020-03-05  482.0                     4\n",
              "...       ...        ...    ...                   ...\n",
              "1283  Wyoming 2020-03-22   24.0                    18\n",
              "1284  Wyoming 2020-03-23   26.0                    19\n",
              "1285  Wyoming 2020-03-24   29.0                    20\n",
              "1286  Wyoming 2020-03-25   44.0                    21\n",
              "1287  Wyoming 2020-03-26   53.0                    22\n",
              "\n",
              "[826 rows x 4 columns]"
            ]
          },
          "metadata": {
            "tags": []
          },
          "execution_count": 84
        }
      ]
    },
    {
      "cell_type": "markdown",
      "metadata": {
        "papermill": {
          "duration": 0.063037,
          "end_time": "2020-03-22T20:04:02.069530",
          "exception": false,
          "start_time": "2020-03-22T20:04:02.006493",
          "status": "completed"
        },
        "tags": [],
        "id": "FXHzHM1moSlw",
        "colab_type": "text"
      },
      "source": [
        "Select a state from the drop down list below to toggle  the visualization."
      ]
    },
    {
      "cell_type": "code",
      "metadata": {
        "papermill": {
          "duration": 0.746225,
          "end_time": "2020-03-22T20:04:03.024421",
          "exception": false,
          "start_time": "2020-03-22T20:04:02.278196",
          "status": "completed"
        },
        "tags": [],
        "id": "dXxCsJ-AoSlx",
        "colab_type": "code",
        "outputId": "31f85f98-3103-45a3-dc9c-63480ac3bfb7",
        "colab": {
          "base_uri": "https://localhost:8080/",
          "height": 33
        }
      },
      "source": [
        "#hide\n",
        "color_domain = list(dff3['Key'].unique())\n",
        "color_range = list(map(get_colors, color_domain))\n",
        "max_date = dff3['Date'].max()\n",
        "\n",
        "base = alt.Chart(dff3, width=600).encode(\n",
        "    x='Days since 100 cases:Q',\n",
        "    y=alt.Y('Cases:Q', scale=alt.Scale(type='log')),\n",
        "    color=alt.Color('Key:N', scale=alt.Scale(domain=color_domain, range=color_range), legend=None),\n",
        "    tooltip=['Key', 'Date', 'Cases', 'Days since 100 cases']\n",
        ")\n",
        "\n",
        "country_selection = alt.selection_single(\n",
        "    name='Select', fields=['Key'], \n",
        "    bind=alt.binding_select(options=list(sorted(set(countries) - set(baseline_countries)))),\n",
        "    init={'Key': 'US'})\n",
        "\n",
        "state_selection = alt.selection_single(\n",
        "    name='Select', fields=['Key'], \n",
        "    bind=alt.binding_select(options=list(sorted(set(states) - set(baseline_countries)))),\n",
        "    init={'Key': 'New York'})\n",
        "\n",
        "date_filter = alt.datum['Date'] >= int(max_date.timestamp() * 1000)\n",
        "\n",
        "max_day = dff3['Days since 100 cases'].max()\n",
        "ref = pd.DataFrame([[x, 100*1.33**x] for x in range(max_day+1)], columns=['Days since 100 cases', 'Cases'])\n",
        "base_ref = alt.Chart(ref).encode(x='Days since 100 cases:Q', y='Cases:Q')\n",
        "base_ref_f = base_ref.transform_filter(alt.datum['Days since 100 cases'] >= max_day)\n",
        "\n",
        "display(date_filter)"
      ],
      "execution_count": 85,
      "outputs": [
        {
          "output_type": "display_data",
          "data": {
            "text/plain": [
              "(datum['Date'] >= 1585180800000)"
            ]
          },
          "metadata": {
            "tags": []
          }
        }
      ]
    },
    {
      "cell_type": "code",
      "metadata": {
        "id": "XCBV4LuEp22N",
        "colab_type": "code",
        "colab": {}
      },
      "source": [
        "#hide\n",
        "base2 = base.transform_filter(alt.FieldOneOfPredicate('Key', baseline_countries))\n",
        "base3 = base.transform_filter(state_selection)\n",
        "base4 = base3.transform_filter(date_filter)"
      ],
      "execution_count": 0,
      "outputs": []
    },
    {
      "cell_type": "code",
      "metadata": {
        "id": "fopeU-plqxgf",
        "colab_type": "code",
        "outputId": "2b2275f2-135c-4cc1-8700-55690dad716f",
        "colab": {
          "base_uri": "https://localhost:8080/",
          "height": 403
        }
      },
      "source": [
        "#hide_input\n",
        "chart5 = (\n",
        " base_ref.mark_line(color='black', opacity=.5, strokeDash=[3,3])\n",
        " + base_ref_f.mark_text(dy=-6, align='right', fontSize=10, text='33% Daily Growth') \n",
        " + base2.mark_line(point=True, tooltip=True)\n",
        " + base2.transform_filter(date_filter).mark_text(dy=-8, align='right').encode(text='Key:N')\n",
        " + base3.mark_line(point={'size':30}, tooltip=True)\n",
        " + base4.mark_text(dx=8, align='left', fontWeight='bold').encode(text='Key:N')\n",
        " + base4.mark_text(dx=8, dy=12, align='left', fontWeight='bold').encode(text='Cases:Q')\n",
        ").add_selection(state_selection).properties(\n",
        "    title=f\"State's Trajectory compared to {', '.join(baseline_countries)}\"\n",
        ")\n",
        "chart5"
      ],
      "execution_count": 89,
      "outputs": [
        {
          "output_type": "execute_result",
          "data": {
            "text/plain": [
              "alt.LayerChart(...)"
            ],
            "text/html": [
              "\n",
              "<div id=\"altair-viz-0287bda14c5e4036b9ca0d3670e20cc1\"></div>\n",
              "<script type=\"text/javascript\">\n",
              "  (function(spec, embedOpt){\n",
              "    const outputDiv = document.getElementById(\"altair-viz-0287bda14c5e4036b9ca0d3670e20cc1\");\n",
              "    const paths = {\n",
              "      \"vega\": \"https://cdn.jsdelivr.net/npm//vega@5?noext\",\n",
              "      \"vega-lib\": \"https://cdn.jsdelivr.net/npm//vega-lib?noext\",\n",
              "      \"vega-lite\": \"https://cdn.jsdelivr.net/npm//vega-lite@4.0.2?noext\",\n",
              "      \"vega-embed\": \"https://cdn.jsdelivr.net/npm//vega-embed@6?noext\",\n",
              "    };\n",
              "\n",
              "    function loadScript(lib) {\n",
              "      return new Promise(function(resolve, reject) {\n",
              "        var s = document.createElement('script');\n",
              "        s.src = paths[lib];\n",
              "        s.async = true;\n",
              "        s.onload = () => resolve(paths[lib]);\n",
              "        s.onerror = () => reject(`Error loading script: ${paths[lib]}`);\n",
              "        document.getElementsByTagName(\"head\")[0].appendChild(s);\n",
              "      });\n",
              "    }\n",
              "\n",
              "    function showError(err) {\n",
              "      outputDiv.innerHTML = `<div class=\"error\" style=\"color:red;\">${err}</div>`;\n",
              "      throw err;\n",
              "    }\n",
              "\n",
              "    function displayChart(vegaEmbed) {\n",
              "      vegaEmbed(outputDiv, spec, embedOpt)\n",
              "        .catch(err => showError(`Javascript Error: ${err.message}<br>This usually means there's a typo in your chart specification. See the javascript console for the full traceback.`));\n",
              "    }\n",
              "\n",
              "    if(typeof define === \"function\" && define.amd) {\n",
              "      requirejs.config({paths});\n",
              "      require([\"vega-embed\"], displayChart, err => showError(`Error loading script: ${err.message}`));\n",
              "    } else if (typeof vegaEmbed === \"function\") {\n",
              "      displayChart(vegaEmbed);\n",
              "    } else {\n",
              "      loadScript(\"vega\")\n",
              "        .then(() => loadScript(\"vega-lite\"))\n",
              "        .then(() => loadScript(\"vega-embed\"))\n",
              "        .catch(showError)\n",
              "        .then(() => displayChart(vegaEmbed));\n",
              "    }\n",
              "  })({\"config\": {\"view\": {\"continuousWidth\": 400, \"continuousHeight\": 300}}, \"layer\": [{\"mark\": {\"type\": \"line\", \"color\": \"black\", \"opacity\": 0.5, \"strokeDash\": [3, 3]}, \"encoding\": {\"x\": {\"type\": \"quantitative\", \"field\": \"Days since 100 cases\"}, \"y\": {\"type\": \"quantitative\", \"field\": \"Cases\"}}, \"selection\": {\"Select\": {\"type\": \"single\", \"fields\": [\"Key\"], \"bind\": {\"input\": \"select\", \"options\": [\"Arizona\", \"California\", \"Colorado\", \"Connecticut\", \"Florida\", \"Georgia\", \"Illinois\", \"Indiana\", \"Louisiana\", \"Maryland\", \"Massachusetts\", \"Michigan\", \"Mississippi\", \"Missouri\", \"Nevada\", \"New Jersey\", \"New York\", \"North Carolina\", \"Ohio\", \"Pennsylvania\", \"South Carolina\", \"Tennessee\", \"Texas\", \"Utah\", \"Virginia\", \"Washington\", \"Wisconsin\"]}, \"init\": {\"Key\": \"New York\"}}}}, {\"mark\": {\"type\": \"text\", \"align\": \"right\", \"dy\": -6, \"fontSize\": 10, \"text\": \"33% Daily Growth\"}, \"encoding\": {\"x\": {\"type\": \"quantitative\", \"field\": \"Days since 100 cases\"}, \"y\": {\"type\": \"quantitative\", \"field\": \"Cases\"}}, \"transform\": [{\"filter\": \"(datum['Days since 100 cases'] >= 34)\"}]}, {\"data\": {\"name\": \"data-a40c97b6325b65757cfce7a9b635d652\"}, \"mark\": {\"type\": \"line\", \"point\": true, \"tooltip\": true}, \"encoding\": {\"color\": {\"type\": \"nominal\", \"field\": \"Key\", \"legend\": null, \"scale\": {\"domain\": [\"Germany\", \"India\", \"Italy\", \"Japan\", \"South Korea\", \"Spain\", \"US\", \"United Kingdom\", \"Alabama\", \"Alaska\", \"American Samoa\", \"Arizona\", \"Arkansas\", \"California\", \"Colorado\", \"Connecticut\", \"Delaware\", \"District of Columbia\", \"Florida\", \"Georgia\", \"Guam\", \"Hawaii\", \"Idaho\", \"Illinois\", \"Indiana\", \"Iowa\", \"Kansas\", \"Kentucky\", \"Louisiana\", \"MP\", \"Maine\", \"Maryland\", \"Massachusetts\", \"Michigan\", \"Minnesota\", \"Mississippi\", \"Missouri\", \"Montana\", \"Nebraska\", \"Nevada\", \"New Hampshire\", \"New Jersey\", \"New Mexico\", \"New York\", \"North Carolina\", \"North Dakota\", \"Ohio\", \"Oklahoma\", \"Oregon\", \"Pennsylvania\", \"Puerto Rico\", \"Rhode Island\", \"South Carolina\", \"South Dakota\", \"Tennessee\", \"Texas\", \"Utah\", \"Vermont\", \"Virgin Islands\", \"Virginia\", \"Washington\", \"West Virginia\", \"Wisconsin\", \"Wyoming\"], \"range\": [\"#2495D3\", \"#9D755D\", \"grey\", \"#9467bd\", \"#E45756\", \"#F58518\", \"#3469B2\", \"#2495D3\", \"#3469B2\", \"#3469B2\", \"#3469B2\", \"#3469B2\", \"#3469B2\", \"#3469B2\", \"#3469B2\", \"#3469B2\", \"#3469B2\", \"#3469B2\", \"#3469B2\", \"#3469B2\", \"#3469B2\", \"#3469B2\", \"#3469B2\", \"#3469B2\", \"#3469B2\", \"#3469B2\", \"#3469B2\", \"#3469B2\", \"#3469B2\", \"#3469B2\", \"#3469B2\", \"#3469B2\", \"#3469B2\", \"#3469B2\", \"#3469B2\", \"#3469B2\", \"#3469B2\", \"#3469B2\", \"#3469B2\", \"#3469B2\", \"#3469B2\", \"#3469B2\", \"#3469B2\", \"#3469B2\", \"#3469B2\", \"#3469B2\", \"#3469B2\", \"#3469B2\", \"#3469B2\", \"#3469B2\", \"#3469B2\", \"#3469B2\", \"#3469B2\", \"#3469B2\", \"#3469B2\", \"#3469B2\", \"#3469B2\", \"#3469B2\", \"#3469B2\", \"#3469B2\", \"#3469B2\", \"#3469B2\", \"#3469B2\", \"#3469B2\"]}}, \"tooltip\": [{\"type\": \"nominal\", \"field\": \"Key\"}, {\"type\": \"temporal\", \"field\": \"Date\"}, {\"type\": \"quantitative\", \"field\": \"Cases\"}, {\"type\": \"quantitative\", \"field\": \"Days since 100 cases\"}], \"x\": {\"type\": \"quantitative\", \"field\": \"Days since 100 cases\"}, \"y\": {\"type\": \"quantitative\", \"field\": \"Cases\", \"scale\": {\"type\": \"log\"}}}, \"transform\": [{\"filter\": {\"field\": \"Key\", \"oneOf\": [\"Italy\", \"South Korea\", \"Japan\"]}}], \"width\": 600}, {\"data\": {\"name\": \"data-a40c97b6325b65757cfce7a9b635d652\"}, \"mark\": {\"type\": \"text\", \"align\": \"right\", \"dy\": -8}, \"encoding\": {\"color\": {\"type\": \"nominal\", \"field\": \"Key\", \"legend\": null, \"scale\": {\"domain\": [\"Germany\", \"India\", \"Italy\", \"Japan\", \"South Korea\", \"Spain\", \"US\", \"United Kingdom\", \"Alabama\", \"Alaska\", \"American Samoa\", \"Arizona\", \"Arkansas\", \"California\", \"Colorado\", \"Connecticut\", \"Delaware\", \"District of Columbia\", \"Florida\", \"Georgia\", \"Guam\", \"Hawaii\", \"Idaho\", \"Illinois\", \"Indiana\", \"Iowa\", \"Kansas\", \"Kentucky\", \"Louisiana\", \"MP\", \"Maine\", \"Maryland\", \"Massachusetts\", \"Michigan\", \"Minnesota\", \"Mississippi\", \"Missouri\", \"Montana\", \"Nebraska\", \"Nevada\", \"New Hampshire\", \"New Jersey\", \"New Mexico\", \"New York\", \"North Carolina\", \"North Dakota\", \"Ohio\", \"Oklahoma\", \"Oregon\", \"Pennsylvania\", \"Puerto Rico\", \"Rhode Island\", \"South Carolina\", \"South Dakota\", \"Tennessee\", \"Texas\", \"Utah\", \"Vermont\", \"Virgin Islands\", \"Virginia\", \"Washington\", \"West Virginia\", \"Wisconsin\", \"Wyoming\"], \"range\": [\"#2495D3\", \"#9D755D\", \"grey\", \"#9467bd\", \"#E45756\", \"#F58518\", \"#3469B2\", \"#2495D3\", \"#3469B2\", \"#3469B2\", \"#3469B2\", \"#3469B2\", \"#3469B2\", \"#3469B2\", \"#3469B2\", \"#3469B2\", \"#3469B2\", \"#3469B2\", \"#3469B2\", \"#3469B2\", \"#3469B2\", \"#3469B2\", \"#3469B2\", \"#3469B2\", \"#3469B2\", \"#3469B2\", \"#3469B2\", \"#3469B2\", \"#3469B2\", \"#3469B2\", \"#3469B2\", \"#3469B2\", \"#3469B2\", \"#3469B2\", \"#3469B2\", \"#3469B2\", \"#3469B2\", \"#3469B2\", \"#3469B2\", \"#3469B2\", \"#3469B2\", \"#3469B2\", \"#3469B2\", \"#3469B2\", \"#3469B2\", \"#3469B2\", \"#3469B2\", \"#3469B2\", \"#3469B2\", \"#3469B2\", \"#3469B2\", \"#3469B2\", \"#3469B2\", \"#3469B2\", \"#3469B2\", \"#3469B2\", \"#3469B2\", \"#3469B2\", \"#3469B2\", \"#3469B2\", \"#3469B2\", \"#3469B2\", \"#3469B2\", \"#3469B2\"]}}, \"text\": {\"type\": \"nominal\", \"field\": \"Key\"}, \"tooltip\": [{\"type\": \"nominal\", \"field\": \"Key\"}, {\"type\": \"temporal\", \"field\": \"Date\"}, {\"type\": \"quantitative\", \"field\": \"Cases\"}, {\"type\": \"quantitative\", \"field\": \"Days since 100 cases\"}], \"x\": {\"type\": \"quantitative\", \"field\": \"Days since 100 cases\"}, \"y\": {\"type\": \"quantitative\", \"field\": \"Cases\", \"scale\": {\"type\": \"log\"}}}, \"transform\": [{\"filter\": {\"field\": \"Key\", \"oneOf\": [\"Italy\", \"South Korea\", \"Japan\"]}}, {\"filter\": \"(datum['Date'] >= 1585180800000)\"}], \"width\": 600}, {\"data\": {\"name\": \"data-a40c97b6325b65757cfce7a9b635d652\"}, \"mark\": {\"type\": \"line\", \"point\": {\"size\": 30}, \"tooltip\": true}, \"encoding\": {\"color\": {\"type\": \"nominal\", \"field\": \"Key\", \"legend\": null, \"scale\": {\"domain\": [\"Germany\", \"India\", \"Italy\", \"Japan\", \"South Korea\", \"Spain\", \"US\", \"United Kingdom\", \"Alabama\", \"Alaska\", \"American Samoa\", \"Arizona\", \"Arkansas\", \"California\", \"Colorado\", \"Connecticut\", \"Delaware\", \"District of Columbia\", \"Florida\", \"Georgia\", \"Guam\", \"Hawaii\", \"Idaho\", \"Illinois\", \"Indiana\", \"Iowa\", \"Kansas\", \"Kentucky\", \"Louisiana\", \"MP\", \"Maine\", \"Maryland\", \"Massachusetts\", \"Michigan\", \"Minnesota\", \"Mississippi\", \"Missouri\", \"Montana\", \"Nebraska\", \"Nevada\", \"New Hampshire\", \"New Jersey\", \"New Mexico\", \"New York\", \"North Carolina\", \"North Dakota\", \"Ohio\", \"Oklahoma\", \"Oregon\", \"Pennsylvania\", \"Puerto Rico\", \"Rhode Island\", \"South Carolina\", \"South Dakota\", \"Tennessee\", \"Texas\", \"Utah\", \"Vermont\", \"Virgin Islands\", \"Virginia\", \"Washington\", \"West Virginia\", \"Wisconsin\", \"Wyoming\"], \"range\": [\"#2495D3\", \"#9D755D\", \"grey\", \"#9467bd\", \"#E45756\", \"#F58518\", \"#3469B2\", \"#2495D3\", \"#3469B2\", \"#3469B2\", \"#3469B2\", \"#3469B2\", \"#3469B2\", \"#3469B2\", \"#3469B2\", \"#3469B2\", \"#3469B2\", \"#3469B2\", \"#3469B2\", \"#3469B2\", \"#3469B2\", \"#3469B2\", \"#3469B2\", \"#3469B2\", \"#3469B2\", \"#3469B2\", \"#3469B2\", \"#3469B2\", \"#3469B2\", \"#3469B2\", \"#3469B2\", \"#3469B2\", \"#3469B2\", \"#3469B2\", \"#3469B2\", \"#3469B2\", \"#3469B2\", \"#3469B2\", \"#3469B2\", \"#3469B2\", \"#3469B2\", \"#3469B2\", \"#3469B2\", \"#3469B2\", \"#3469B2\", \"#3469B2\", \"#3469B2\", \"#3469B2\", \"#3469B2\", \"#3469B2\", \"#3469B2\", \"#3469B2\", \"#3469B2\", \"#3469B2\", \"#3469B2\", \"#3469B2\", \"#3469B2\", \"#3469B2\", \"#3469B2\", \"#3469B2\", \"#3469B2\", \"#3469B2\", \"#3469B2\", \"#3469B2\"]}}, \"tooltip\": [{\"type\": \"nominal\", \"field\": \"Key\"}, {\"type\": \"temporal\", \"field\": \"Date\"}, {\"type\": \"quantitative\", \"field\": \"Cases\"}, {\"type\": \"quantitative\", \"field\": \"Days since 100 cases\"}], \"x\": {\"type\": \"quantitative\", \"field\": \"Days since 100 cases\"}, \"y\": {\"type\": \"quantitative\", \"field\": \"Cases\", \"scale\": {\"type\": \"log\"}}}, \"transform\": [{\"filter\": {\"selection\": \"Select\"}}], \"width\": 600}, {\"data\": {\"name\": \"data-a40c97b6325b65757cfce7a9b635d652\"}, \"mark\": {\"type\": \"text\", \"align\": \"left\", \"dx\": 8, \"fontWeight\": \"bold\"}, \"encoding\": {\"color\": {\"type\": \"nominal\", \"field\": \"Key\", \"legend\": null, \"scale\": {\"domain\": [\"Germany\", \"India\", \"Italy\", \"Japan\", \"South Korea\", \"Spain\", \"US\", \"United Kingdom\", \"Alabama\", \"Alaska\", \"American Samoa\", \"Arizona\", \"Arkansas\", \"California\", \"Colorado\", \"Connecticut\", \"Delaware\", \"District of Columbia\", \"Florida\", \"Georgia\", \"Guam\", \"Hawaii\", \"Idaho\", \"Illinois\", \"Indiana\", \"Iowa\", \"Kansas\", \"Kentucky\", \"Louisiana\", \"MP\", \"Maine\", \"Maryland\", \"Massachusetts\", \"Michigan\", \"Minnesota\", \"Mississippi\", \"Missouri\", \"Montana\", \"Nebraska\", \"Nevada\", \"New Hampshire\", \"New Jersey\", \"New Mexico\", \"New York\", \"North Carolina\", \"North Dakota\", \"Ohio\", \"Oklahoma\", \"Oregon\", \"Pennsylvania\", \"Puerto Rico\", \"Rhode Island\", \"South Carolina\", \"South Dakota\", \"Tennessee\", \"Texas\", \"Utah\", \"Vermont\", \"Virgin Islands\", \"Virginia\", \"Washington\", \"West Virginia\", \"Wisconsin\", \"Wyoming\"], \"range\": [\"#2495D3\", \"#9D755D\", \"grey\", \"#9467bd\", \"#E45756\", \"#F58518\", \"#3469B2\", \"#2495D3\", \"#3469B2\", \"#3469B2\", \"#3469B2\", \"#3469B2\", \"#3469B2\", \"#3469B2\", \"#3469B2\", \"#3469B2\", \"#3469B2\", \"#3469B2\", \"#3469B2\", \"#3469B2\", \"#3469B2\", \"#3469B2\", \"#3469B2\", \"#3469B2\", \"#3469B2\", \"#3469B2\", \"#3469B2\", \"#3469B2\", \"#3469B2\", \"#3469B2\", \"#3469B2\", \"#3469B2\", \"#3469B2\", \"#3469B2\", \"#3469B2\", \"#3469B2\", \"#3469B2\", \"#3469B2\", \"#3469B2\", \"#3469B2\", \"#3469B2\", \"#3469B2\", \"#3469B2\", \"#3469B2\", \"#3469B2\", \"#3469B2\", \"#3469B2\", \"#3469B2\", \"#3469B2\", \"#3469B2\", \"#3469B2\", \"#3469B2\", \"#3469B2\", \"#3469B2\", \"#3469B2\", \"#3469B2\", \"#3469B2\", \"#3469B2\", \"#3469B2\", \"#3469B2\", \"#3469B2\", \"#3469B2\", \"#3469B2\", \"#3469B2\"]}}, \"text\": {\"type\": \"nominal\", \"field\": \"Key\"}, \"tooltip\": [{\"type\": \"nominal\", \"field\": \"Key\"}, {\"type\": \"temporal\", \"field\": \"Date\"}, {\"type\": \"quantitative\", \"field\": \"Cases\"}, {\"type\": \"quantitative\", \"field\": \"Days since 100 cases\"}], \"x\": {\"type\": \"quantitative\", \"field\": \"Days since 100 cases\"}, \"y\": {\"type\": \"quantitative\", \"field\": \"Cases\", \"scale\": {\"type\": \"log\"}}}, \"transform\": [{\"filter\": {\"selection\": \"Select\"}}, {\"filter\": \"(datum['Date'] >= 1585180800000)\"}], \"width\": 600}, {\"data\": {\"name\": \"data-a40c97b6325b65757cfce7a9b635d652\"}, \"mark\": {\"type\": \"text\", \"align\": \"left\", \"dx\": 8, \"dy\": 12, \"fontWeight\": \"bold\"}, \"encoding\": {\"color\": {\"type\": \"nominal\", \"field\": \"Key\", \"legend\": null, \"scale\": {\"domain\": [\"Germany\", \"India\", \"Italy\", \"Japan\", \"South Korea\", \"Spain\", \"US\", \"United Kingdom\", \"Alabama\", \"Alaska\", \"American Samoa\", \"Arizona\", \"Arkansas\", \"California\", \"Colorado\", \"Connecticut\", \"Delaware\", \"District of Columbia\", \"Florida\", \"Georgia\", \"Guam\", \"Hawaii\", \"Idaho\", \"Illinois\", \"Indiana\", \"Iowa\", \"Kansas\", \"Kentucky\", \"Louisiana\", \"MP\", \"Maine\", \"Maryland\", \"Massachusetts\", \"Michigan\", \"Minnesota\", \"Mississippi\", \"Missouri\", \"Montana\", \"Nebraska\", \"Nevada\", \"New Hampshire\", \"New Jersey\", \"New Mexico\", \"New York\", \"North Carolina\", \"North Dakota\", \"Ohio\", \"Oklahoma\", \"Oregon\", \"Pennsylvania\", \"Puerto Rico\", \"Rhode Island\", \"South Carolina\", \"South Dakota\", \"Tennessee\", \"Texas\", \"Utah\", \"Vermont\", \"Virgin Islands\", \"Virginia\", \"Washington\", \"West Virginia\", \"Wisconsin\", \"Wyoming\"], \"range\": [\"#2495D3\", \"#9D755D\", \"grey\", \"#9467bd\", \"#E45756\", \"#F58518\", \"#3469B2\", \"#2495D3\", \"#3469B2\", \"#3469B2\", \"#3469B2\", \"#3469B2\", \"#3469B2\", \"#3469B2\", \"#3469B2\", \"#3469B2\", \"#3469B2\", \"#3469B2\", \"#3469B2\", \"#3469B2\", \"#3469B2\", \"#3469B2\", \"#3469B2\", \"#3469B2\", \"#3469B2\", \"#3469B2\", \"#3469B2\", \"#3469B2\", \"#3469B2\", \"#3469B2\", \"#3469B2\", \"#3469B2\", \"#3469B2\", \"#3469B2\", \"#3469B2\", \"#3469B2\", \"#3469B2\", \"#3469B2\", \"#3469B2\", \"#3469B2\", \"#3469B2\", \"#3469B2\", \"#3469B2\", \"#3469B2\", \"#3469B2\", \"#3469B2\", \"#3469B2\", \"#3469B2\", \"#3469B2\", \"#3469B2\", \"#3469B2\", \"#3469B2\", \"#3469B2\", \"#3469B2\", \"#3469B2\", \"#3469B2\", \"#3469B2\", \"#3469B2\", \"#3469B2\", \"#3469B2\", \"#3469B2\", \"#3469B2\", \"#3469B2\", \"#3469B2\"]}}, \"text\": {\"type\": \"quantitative\", \"field\": \"Cases\"}, \"tooltip\": [{\"type\": \"nominal\", \"field\": \"Key\"}, {\"type\": \"temporal\", \"field\": \"Date\"}, {\"type\": \"quantitative\", \"field\": \"Cases\"}, {\"type\": \"quantitative\", \"field\": \"Days since 100 cases\"}], \"x\": {\"type\": \"quantitative\", \"field\": \"Days since 100 cases\"}, \"y\": {\"type\": \"quantitative\", \"field\": \"Cases\", \"scale\": {\"type\": \"log\"}}}, \"transform\": [{\"filter\": {\"selection\": \"Select\"}}, {\"filter\": \"(datum['Date'] >= 1585180800000)\"}], \"width\": 600}], \"data\": {\"name\": \"data-22f97c60acdfb30efbe2d567de52cc4c\"}, \"title\": \"State's Trajectory compared to Italy, South Korea, Japan\", \"$schema\": \"https://vega.github.io/schema/vega-lite/v4.0.2.json\", \"datasets\": {\"data-22f97c60acdfb30efbe2d567de52cc4c\": [{\"Days since 100 cases\": 0, \"Cases\": 100.0}, {\"Days since 100 cases\": 1, \"Cases\": 133.0}, {\"Days since 100 cases\": 2, \"Cases\": 176.89000000000001}, {\"Days since 100 cases\": 3, \"Cases\": 235.26370000000006}, {\"Days since 100 cases\": 4, \"Cases\": 312.90072100000003}, {\"Days since 100 cases\": 5, \"Cases\": 416.1579589300001}, {\"Days since 100 cases\": 6, \"Cases\": 553.4900853769002}, {\"Days since 100 cases\": 7, \"Cases\": 736.1418135512773}, {\"Days since 100 cases\": 8, \"Cases\": 979.0686120231989}, {\"Days since 100 cases\": 9, \"Cases\": 1302.1612539908547}, {\"Days since 100 cases\": 10, \"Cases\": 1731.8744678078367}, {\"Days since 100 cases\": 11, \"Cases\": 2303.393042184423}, {\"Days since 100 cases\": 12, \"Cases\": 3063.5127461052825}, {\"Days since 100 cases\": 13, \"Cases\": 4074.471952320026}, {\"Days since 100 cases\": 14, \"Cases\": 5419.047696585635}, {\"Days since 100 cases\": 15, \"Cases\": 7207.3334364588945}, {\"Days since 100 cases\": 16, \"Cases\": 9585.75347049033}, {\"Days since 100 cases\": 17, \"Cases\": 12749.05211575214}, {\"Days since 100 cases\": 18, \"Cases\": 16956.239313950347}, {\"Days since 100 cases\": 19, \"Cases\": 22551.79828755396}, {\"Days since 100 cases\": 20, \"Cases\": 29993.891722446773}, {\"Days since 100 cases\": 21, \"Cases\": 39891.875990854205}, {\"Days since 100 cases\": 22, \"Cases\": 53056.195067836095}, {\"Days since 100 cases\": 23, \"Cases\": 70564.73944022201}, {\"Days since 100 cases\": 24, \"Cases\": 93851.1034554953}, {\"Days since 100 cases\": 25, \"Cases\": 124821.96759580875}, {\"Days since 100 cases\": 26, \"Cases\": 166013.21690242563}, {\"Days since 100 cases\": 27, \"Cases\": 220797.5784802261}, {\"Days since 100 cases\": 28, \"Cases\": 293660.7793787007}, {\"Days since 100 cases\": 29, \"Cases\": 390568.83657367196}, {\"Days since 100 cases\": 30, \"Cases\": 519456.55264298373}, {\"Days since 100 cases\": 31, \"Cases\": 690877.2150151684}, {\"Days since 100 cases\": 32, \"Cases\": 918866.695970174}, {\"Days since 100 cases\": 33, \"Cases\": 1222092.7056403316}, {\"Days since 100 cases\": 34, \"Cases\": 1625383.2985016413}], \"data-a40c97b6325b65757cfce7a9b635d652\": [{\"Key\": \"Germany\", \"Date\": \"2020-03-01T00:00:00\", \"Cases\": 130.0, \"Days since 100 cases\": 0}, {\"Key\": \"Germany\", \"Date\": \"2020-03-02T00:00:00\", \"Cases\": 159.0, \"Days since 100 cases\": 1}, {\"Key\": \"Germany\", \"Date\": \"2020-03-03T00:00:00\", \"Cases\": 196.0, \"Days since 100 cases\": 2}, {\"Key\": \"Germany\", \"Date\": \"2020-03-04T00:00:00\", \"Cases\": 262.0, \"Days since 100 cases\": 3}, {\"Key\": \"Germany\", \"Date\": \"2020-03-05T00:00:00\", \"Cases\": 482.0, \"Days since 100 cases\": 4}, {\"Key\": \"Germany\", \"Date\": \"2020-03-06T00:00:00\", \"Cases\": 670.0, \"Days since 100 cases\": 5}, {\"Key\": \"Germany\", \"Date\": \"2020-03-07T00:00:00\", \"Cases\": 799.0, \"Days since 100 cases\": 6}, {\"Key\": \"Germany\", \"Date\": \"2020-03-08T00:00:00\", \"Cases\": 1040.0, \"Days since 100 cases\": 7}, {\"Key\": \"Germany\", \"Date\": \"2020-03-09T00:00:00\", \"Cases\": 1176.0, \"Days since 100 cases\": 8}, {\"Key\": \"Germany\", \"Date\": \"2020-03-10T00:00:00\", \"Cases\": 1457.0, \"Days since 100 cases\": 9}, {\"Key\": \"Germany\", \"Date\": \"2020-03-11T00:00:00\", \"Cases\": 1908.0, \"Days since 100 cases\": 10}, {\"Key\": \"Germany\", \"Date\": \"2020-03-12T00:00:00\", \"Cases\": 2078.0, \"Days since 100 cases\": 11}, {\"Key\": \"Germany\", \"Date\": \"2020-03-13T00:00:00\", \"Cases\": 3675.0, \"Days since 100 cases\": 12}, {\"Key\": \"Germany\", \"Date\": \"2020-03-14T00:00:00\", \"Cases\": 4585.0, \"Days since 100 cases\": 13}, {\"Key\": \"Germany\", \"Date\": \"2020-03-15T00:00:00\", \"Cases\": 5795.0, \"Days since 100 cases\": 14}, {\"Key\": \"Germany\", \"Date\": \"2020-03-16T00:00:00\", \"Cases\": 7272.0, \"Days since 100 cases\": 15}, {\"Key\": \"Germany\", \"Date\": \"2020-03-17T00:00:00\", \"Cases\": 9257.0, \"Days since 100 cases\": 16}, {\"Key\": \"Germany\", \"Date\": \"2020-03-18T00:00:00\", \"Cases\": 12327.0, \"Days since 100 cases\": 17}, {\"Key\": \"Germany\", \"Date\": \"2020-03-19T00:00:00\", \"Cases\": 15320.0, \"Days since 100 cases\": 18}, {\"Key\": \"Germany\", \"Date\": \"2020-03-20T00:00:00\", \"Cases\": 19848.0, \"Days since 100 cases\": 19}, {\"Key\": \"Germany\", \"Date\": \"2020-03-21T00:00:00\", \"Cases\": 22213.0, \"Days since 100 cases\": 20}, {\"Key\": \"Germany\", \"Date\": \"2020-03-22T00:00:00\", \"Cases\": 24873.0, \"Days since 100 cases\": 21}, {\"Key\": \"Germany\", \"Date\": \"2020-03-23T00:00:00\", \"Cases\": 29056.0, \"Days since 100 cases\": 22}, {\"Key\": \"Germany\", \"Date\": \"2020-03-24T00:00:00\", \"Cases\": 32986.0, \"Days since 100 cases\": 23}, {\"Key\": \"Germany\", \"Date\": \"2020-03-25T00:00:00\", \"Cases\": 37323.0, \"Days since 100 cases\": 24}, {\"Key\": \"India\", \"Date\": \"2020-03-14T00:00:00\", \"Cases\": 102.0, \"Days since 100 cases\": 0}, {\"Key\": \"India\", \"Date\": \"2020-03-15T00:00:00\", \"Cases\": 113.0, \"Days since 100 cases\": 1}, {\"Key\": \"India\", \"Date\": \"2020-03-16T00:00:00\", \"Cases\": 119.0, \"Days since 100 cases\": 2}, {\"Key\": \"India\", \"Date\": \"2020-03-17T00:00:00\", \"Cases\": 142.0, \"Days since 100 cases\": 3}, {\"Key\": \"India\", \"Date\": \"2020-03-18T00:00:00\", \"Cases\": 156.0, \"Days since 100 cases\": 4}, {\"Key\": \"India\", \"Date\": \"2020-03-19T00:00:00\", \"Cases\": 194.0, \"Days since 100 cases\": 5}, {\"Key\": \"India\", \"Date\": \"2020-03-20T00:00:00\", \"Cases\": 244.0, \"Days since 100 cases\": 6}, {\"Key\": \"India\", \"Date\": \"2020-03-21T00:00:00\", \"Cases\": 330.0, \"Days since 100 cases\": 7}, {\"Key\": \"India\", \"Date\": \"2020-03-22T00:00:00\", \"Cases\": 396.0, \"Days since 100 cases\": 8}, {\"Key\": \"India\", \"Date\": \"2020-03-23T00:00:00\", \"Cases\": 499.0, \"Days since 100 cases\": 9}, {\"Key\": \"India\", \"Date\": \"2020-03-24T00:00:00\", \"Cases\": 536.0, \"Days since 100 cases\": 10}, {\"Key\": \"India\", \"Date\": \"2020-03-25T00:00:00\", \"Cases\": 657.0, \"Days since 100 cases\": 11}, {\"Key\": \"Italy\", \"Date\": \"2020-02-23T00:00:00\", \"Cases\": 155.0, \"Days since 100 cases\": 0}, {\"Key\": \"Italy\", \"Date\": \"2020-02-24T00:00:00\", \"Cases\": 229.0, \"Days since 100 cases\": 1}, {\"Key\": \"Italy\", \"Date\": \"2020-02-25T00:00:00\", \"Cases\": 322.0, \"Days since 100 cases\": 2}, {\"Key\": \"Italy\", \"Date\": \"2020-02-26T00:00:00\", \"Cases\": 453.0, \"Days since 100 cases\": 3}, {\"Key\": \"Italy\", \"Date\": \"2020-02-27T00:00:00\", \"Cases\": 655.0, \"Days since 100 cases\": 4}, {\"Key\": \"Italy\", \"Date\": \"2020-02-28T00:00:00\", \"Cases\": 888.0, \"Days since 100 cases\": 5}, {\"Key\": \"Italy\", \"Date\": \"2020-02-29T00:00:00\", \"Cases\": 1128.0, \"Days since 100 cases\": 6}, {\"Key\": \"Italy\", \"Date\": \"2020-03-01T00:00:00\", \"Cases\": 1694.0, \"Days since 100 cases\": 7}, {\"Key\": \"Italy\", \"Date\": \"2020-03-02T00:00:00\", \"Cases\": 2036.0, \"Days since 100 cases\": 8}, {\"Key\": \"Italy\", \"Date\": \"2020-03-03T00:00:00\", \"Cases\": 2502.0, \"Days since 100 cases\": 9}, {\"Key\": \"Italy\", \"Date\": \"2020-03-04T00:00:00\", \"Cases\": 3089.0, \"Days since 100 cases\": 10}, {\"Key\": \"Italy\", \"Date\": \"2020-03-05T00:00:00\", \"Cases\": 3858.0, \"Days since 100 cases\": 11}, {\"Key\": \"Italy\", \"Date\": \"2020-03-06T00:00:00\", \"Cases\": 4636.0, \"Days since 100 cases\": 12}, {\"Key\": \"Italy\", \"Date\": \"2020-03-07T00:00:00\", \"Cases\": 5883.0, \"Days since 100 cases\": 13}, {\"Key\": \"Italy\", \"Date\": \"2020-03-08T00:00:00\", \"Cases\": 7375.0, \"Days since 100 cases\": 14}, {\"Key\": \"Italy\", \"Date\": \"2020-03-09T00:00:00\", \"Cases\": 9172.0, \"Days since 100 cases\": 15}, {\"Key\": \"Italy\", \"Date\": \"2020-03-10T00:00:00\", \"Cases\": 10149.0, \"Days since 100 cases\": 16}, {\"Key\": \"Italy\", \"Date\": \"2020-03-11T00:00:00\", \"Cases\": 12462.0, \"Days since 100 cases\": 17}, {\"Key\": \"Italy\", \"Date\": \"2020-03-12T00:00:00\", \"Cases\": 12462.0, \"Days since 100 cases\": 18}, {\"Key\": \"Italy\", \"Date\": \"2020-03-13T00:00:00\", \"Cases\": 17660.0, \"Days since 100 cases\": 19}, {\"Key\": \"Italy\", \"Date\": \"2020-03-14T00:00:00\", \"Cases\": 21157.0, \"Days since 100 cases\": 20}, {\"Key\": \"Italy\", \"Date\": \"2020-03-15T00:00:00\", \"Cases\": 24747.0, \"Days since 100 cases\": 21}, {\"Key\": \"Italy\", \"Date\": \"2020-03-16T00:00:00\", \"Cases\": 27980.0, \"Days since 100 cases\": 22}, {\"Key\": \"Italy\", \"Date\": \"2020-03-17T00:00:00\", \"Cases\": 31506.0, \"Days since 100 cases\": 23}, {\"Key\": \"Italy\", \"Date\": \"2020-03-18T00:00:00\", \"Cases\": 35713.0, \"Days since 100 cases\": 24}, {\"Key\": \"Italy\", \"Date\": \"2020-03-19T00:00:00\", \"Cases\": 41035.0, \"Days since 100 cases\": 25}, {\"Key\": \"Italy\", \"Date\": \"2020-03-20T00:00:00\", \"Cases\": 47021.0, \"Days since 100 cases\": 26}, {\"Key\": \"Italy\", \"Date\": \"2020-03-21T00:00:00\", \"Cases\": 53578.0, \"Days since 100 cases\": 27}, {\"Key\": \"Italy\", \"Date\": \"2020-03-22T00:00:00\", \"Cases\": 59138.0, \"Days since 100 cases\": 28}, {\"Key\": \"Italy\", \"Date\": \"2020-03-23T00:00:00\", \"Cases\": 63927.0, \"Days since 100 cases\": 29}, {\"Key\": \"Italy\", \"Date\": \"2020-03-24T00:00:00\", \"Cases\": 69176.0, \"Days since 100 cases\": 30}, {\"Key\": \"Italy\", \"Date\": \"2020-03-25T00:00:00\", \"Cases\": 74386.0, \"Days since 100 cases\": 31}, {\"Key\": \"Japan\", \"Date\": \"2020-02-21T00:00:00\", \"Cases\": 105.0, \"Days since 100 cases\": 0}, {\"Key\": \"Japan\", \"Date\": \"2020-02-22T00:00:00\", \"Cases\": 122.0, \"Days since 100 cases\": 1}, {\"Key\": \"Japan\", \"Date\": \"2020-02-23T00:00:00\", \"Cases\": 147.0, \"Days since 100 cases\": 2}, {\"Key\": \"Japan\", \"Date\": \"2020-02-24T00:00:00\", \"Cases\": 159.0, \"Days since 100 cases\": 3}, {\"Key\": \"Japan\", \"Date\": \"2020-02-25T00:00:00\", \"Cases\": 170.0, \"Days since 100 cases\": 4}, {\"Key\": \"Japan\", \"Date\": \"2020-02-26T00:00:00\", \"Cases\": 189.0, \"Days since 100 cases\": 5}, {\"Key\": \"Japan\", \"Date\": \"2020-02-27T00:00:00\", \"Cases\": 214.0, \"Days since 100 cases\": 6}, {\"Key\": \"Japan\", \"Date\": \"2020-02-28T00:00:00\", \"Cases\": 228.0, \"Days since 100 cases\": 7}, {\"Key\": \"Japan\", \"Date\": \"2020-02-29T00:00:00\", \"Cases\": 241.0, \"Days since 100 cases\": 8}, {\"Key\": \"Japan\", \"Date\": \"2020-03-01T00:00:00\", \"Cases\": 256.0, \"Days since 100 cases\": 9}, {\"Key\": \"Japan\", \"Date\": \"2020-03-02T00:00:00\", \"Cases\": 274.0, \"Days since 100 cases\": 10}, {\"Key\": \"Japan\", \"Date\": \"2020-03-03T00:00:00\", \"Cases\": 293.0, \"Days since 100 cases\": 11}, {\"Key\": \"Japan\", \"Date\": \"2020-03-04T00:00:00\", \"Cases\": 331.0, \"Days since 100 cases\": 12}, {\"Key\": \"Japan\", \"Date\": \"2020-03-05T00:00:00\", \"Cases\": 360.0, \"Days since 100 cases\": 13}, {\"Key\": \"Japan\", \"Date\": \"2020-03-06T00:00:00\", \"Cases\": 420.0, \"Days since 100 cases\": 14}, {\"Key\": \"Japan\", \"Date\": \"2020-03-07T00:00:00\", \"Cases\": 461.0, \"Days since 100 cases\": 15}, {\"Key\": \"Japan\", \"Date\": \"2020-03-08T00:00:00\", \"Cases\": 502.0, \"Days since 100 cases\": 16}, {\"Key\": \"Japan\", \"Date\": \"2020-03-09T00:00:00\", \"Cases\": 511.0, \"Days since 100 cases\": 17}, {\"Key\": \"Japan\", \"Date\": \"2020-03-10T00:00:00\", \"Cases\": 581.0, \"Days since 100 cases\": 18}, {\"Key\": \"Japan\", \"Date\": \"2020-03-11T00:00:00\", \"Cases\": 639.0, \"Days since 100 cases\": 19}, {\"Key\": \"Japan\", \"Date\": \"2020-03-12T00:00:00\", \"Cases\": 639.0, \"Days since 100 cases\": 20}, {\"Key\": \"Japan\", \"Date\": \"2020-03-13T00:00:00\", \"Cases\": 701.0, \"Days since 100 cases\": 21}, {\"Key\": \"Japan\", \"Date\": \"2020-03-14T00:00:00\", \"Cases\": 773.0, \"Days since 100 cases\": 22}, {\"Key\": \"Japan\", \"Date\": \"2020-03-15T00:00:00\", \"Cases\": 839.0, \"Days since 100 cases\": 23}, {\"Key\": \"Japan\", \"Date\": \"2020-03-16T00:00:00\", \"Cases\": 839.0, \"Days since 100 cases\": 24}, {\"Key\": \"Japan\", \"Date\": \"2020-03-17T00:00:00\", \"Cases\": 878.0, \"Days since 100 cases\": 25}, {\"Key\": \"Japan\", \"Date\": \"2020-03-18T00:00:00\", \"Cases\": 889.0, \"Days since 100 cases\": 26}, {\"Key\": \"Japan\", \"Date\": \"2020-03-19T00:00:00\", \"Cases\": 924.0, \"Days since 100 cases\": 27}, {\"Key\": \"Japan\", \"Date\": \"2020-03-20T00:00:00\", \"Cases\": 963.0, \"Days since 100 cases\": 28}, {\"Key\": \"Japan\", \"Date\": \"2020-03-21T00:00:00\", \"Cases\": 1007.0, \"Days since 100 cases\": 29}, {\"Key\": \"Japan\", \"Date\": \"2020-03-22T00:00:00\", \"Cases\": 1101.0, \"Days since 100 cases\": 30}, {\"Key\": \"Japan\", \"Date\": \"2020-03-23T00:00:00\", \"Cases\": 1128.0, \"Days since 100 cases\": 31}, {\"Key\": \"Japan\", \"Date\": \"2020-03-24T00:00:00\", \"Cases\": 1193.0, \"Days since 100 cases\": 32}, {\"Key\": \"Japan\", \"Date\": \"2020-03-25T00:00:00\", \"Cases\": 1307.0, \"Days since 100 cases\": 33}, {\"Key\": \"South Korea\", \"Date\": \"2020-02-20T00:00:00\", \"Cases\": 104.0, \"Days since 100 cases\": 0}, {\"Key\": \"South Korea\", \"Date\": \"2020-02-21T00:00:00\", \"Cases\": 204.0, \"Days since 100 cases\": 1}, {\"Key\": \"South Korea\", \"Date\": \"2020-02-22T00:00:00\", \"Cases\": 433.0, \"Days since 100 cases\": 2}, {\"Key\": \"South Korea\", \"Date\": \"2020-02-23T00:00:00\", \"Cases\": 602.0, \"Days since 100 cases\": 3}, {\"Key\": \"South Korea\", \"Date\": \"2020-02-24T00:00:00\", \"Cases\": 833.0, \"Days since 100 cases\": 4}, {\"Key\": \"South Korea\", \"Date\": \"2020-02-25T00:00:00\", \"Cases\": 977.0, \"Days since 100 cases\": 5}, {\"Key\": \"South Korea\", \"Date\": \"2020-02-26T00:00:00\", \"Cases\": 1261.0, \"Days since 100 cases\": 6}, {\"Key\": \"South Korea\", \"Date\": \"2020-02-27T00:00:00\", \"Cases\": 1766.0, \"Days since 100 cases\": 7}, {\"Key\": \"South Korea\", \"Date\": \"2020-02-28T00:00:00\", \"Cases\": 2337.0, \"Days since 100 cases\": 8}, {\"Key\": \"South Korea\", \"Date\": \"2020-02-29T00:00:00\", \"Cases\": 3150.0, \"Days since 100 cases\": 9}, {\"Key\": \"South Korea\", \"Date\": \"2020-03-01T00:00:00\", \"Cases\": 3736.0, \"Days since 100 cases\": 10}, {\"Key\": \"South Korea\", \"Date\": \"2020-03-02T00:00:00\", \"Cases\": 4335.0, \"Days since 100 cases\": 11}, {\"Key\": \"South Korea\", \"Date\": \"2020-03-03T00:00:00\", \"Cases\": 5186.0, \"Days since 100 cases\": 12}, {\"Key\": \"South Korea\", \"Date\": \"2020-03-04T00:00:00\", \"Cases\": 5621.0, \"Days since 100 cases\": 13}, {\"Key\": \"South Korea\", \"Date\": \"2020-03-05T00:00:00\", \"Cases\": 6088.0, \"Days since 100 cases\": 14}, {\"Key\": \"South Korea\", \"Date\": \"2020-03-06T00:00:00\", \"Cases\": 6593.0, \"Days since 100 cases\": 15}, {\"Key\": \"South Korea\", \"Date\": \"2020-03-07T00:00:00\", \"Cases\": 7041.0, \"Days since 100 cases\": 16}, {\"Key\": \"South Korea\", \"Date\": \"2020-03-08T00:00:00\", \"Cases\": 7314.0, \"Days since 100 cases\": 17}, {\"Key\": \"South Korea\", \"Date\": \"2020-03-09T00:00:00\", \"Cases\": 7478.0, \"Days since 100 cases\": 18}, {\"Key\": \"South Korea\", \"Date\": \"2020-03-10T00:00:00\", \"Cases\": 7513.0, \"Days since 100 cases\": 19}, {\"Key\": \"South Korea\", \"Date\": \"2020-03-11T00:00:00\", \"Cases\": 7755.0, \"Days since 100 cases\": 20}, {\"Key\": \"South Korea\", \"Date\": \"2020-03-12T00:00:00\", \"Cases\": 7869.0, \"Days since 100 cases\": 21}, {\"Key\": \"South Korea\", \"Date\": \"2020-03-13T00:00:00\", \"Cases\": 7979.0, \"Days since 100 cases\": 22}, {\"Key\": \"South Korea\", \"Date\": \"2020-03-14T00:00:00\", \"Cases\": 8086.0, \"Days since 100 cases\": 23}, {\"Key\": \"South Korea\", \"Date\": \"2020-03-15T00:00:00\", \"Cases\": 8162.0, \"Days since 100 cases\": 24}, {\"Key\": \"South Korea\", \"Date\": \"2020-03-16T00:00:00\", \"Cases\": 8236.0, \"Days since 100 cases\": 25}, {\"Key\": \"South Korea\", \"Date\": \"2020-03-17T00:00:00\", \"Cases\": 8320.0, \"Days since 100 cases\": 26}, {\"Key\": \"South Korea\", \"Date\": \"2020-03-18T00:00:00\", \"Cases\": 8413.0, \"Days since 100 cases\": 27}, {\"Key\": \"South Korea\", \"Date\": \"2020-03-19T00:00:00\", \"Cases\": 8565.0, \"Days since 100 cases\": 28}, {\"Key\": \"South Korea\", \"Date\": \"2020-03-20T00:00:00\", \"Cases\": 8652.0, \"Days since 100 cases\": 29}, {\"Key\": \"South Korea\", \"Date\": \"2020-03-21T00:00:00\", \"Cases\": 8799.0, \"Days since 100 cases\": 30}, {\"Key\": \"South Korea\", \"Date\": \"2020-03-22T00:00:00\", \"Cases\": 8961.0, \"Days since 100 cases\": 31}, {\"Key\": \"South Korea\", \"Date\": \"2020-03-23T00:00:00\", \"Cases\": 8961.0, \"Days since 100 cases\": 32}, {\"Key\": \"South Korea\", \"Date\": \"2020-03-24T00:00:00\", \"Cases\": 9037.0, \"Days since 100 cases\": 33}, {\"Key\": \"South Korea\", \"Date\": \"2020-03-25T00:00:00\", \"Cases\": 9137.0, \"Days since 100 cases\": 34}, {\"Key\": \"Spain\", \"Date\": \"2020-03-02T00:00:00\", \"Cases\": 120.0, \"Days since 100 cases\": 0}, {\"Key\": \"Spain\", \"Date\": \"2020-03-03T00:00:00\", \"Cases\": 165.0, \"Days since 100 cases\": 1}, {\"Key\": \"Spain\", \"Date\": \"2020-03-04T00:00:00\", \"Cases\": 222.0, \"Days since 100 cases\": 2}, {\"Key\": \"Spain\", \"Date\": \"2020-03-05T00:00:00\", \"Cases\": 259.0, \"Days since 100 cases\": 3}, {\"Key\": \"Spain\", \"Date\": \"2020-03-06T00:00:00\", \"Cases\": 400.0, \"Days since 100 cases\": 4}, {\"Key\": \"Spain\", \"Date\": \"2020-03-07T00:00:00\", \"Cases\": 500.0, \"Days since 100 cases\": 5}, {\"Key\": \"Spain\", \"Date\": \"2020-03-08T00:00:00\", \"Cases\": 673.0, \"Days since 100 cases\": 6}, {\"Key\": \"Spain\", \"Date\": \"2020-03-09T00:00:00\", \"Cases\": 1073.0, \"Days since 100 cases\": 7}, {\"Key\": \"Spain\", \"Date\": \"2020-03-10T00:00:00\", \"Cases\": 1695.0, \"Days since 100 cases\": 8}, {\"Key\": \"Spain\", \"Date\": \"2020-03-11T00:00:00\", \"Cases\": 2277.0, \"Days since 100 cases\": 9}, {\"Key\": \"Spain\", \"Date\": \"2020-03-12T00:00:00\", \"Cases\": 2277.0, \"Days since 100 cases\": 10}, {\"Key\": \"Spain\", \"Date\": \"2020-03-13T00:00:00\", \"Cases\": 5232.0, \"Days since 100 cases\": 11}, {\"Key\": \"Spain\", \"Date\": \"2020-03-14T00:00:00\", \"Cases\": 6391.0, \"Days since 100 cases\": 12}, {\"Key\": \"Spain\", \"Date\": \"2020-03-15T00:00:00\", \"Cases\": 7798.0, \"Days since 100 cases\": 13}, {\"Key\": \"Spain\", \"Date\": \"2020-03-16T00:00:00\", \"Cases\": 9942.0, \"Days since 100 cases\": 14}, {\"Key\": \"Spain\", \"Date\": \"2020-03-17T00:00:00\", \"Cases\": 11748.0, \"Days since 100 cases\": 15}, {\"Key\": \"Spain\", \"Date\": \"2020-03-18T00:00:00\", \"Cases\": 13910.0, \"Days since 100 cases\": 16}, {\"Key\": \"Spain\", \"Date\": \"2020-03-19T00:00:00\", \"Cases\": 17963.0, \"Days since 100 cases\": 17}, {\"Key\": \"Spain\", \"Date\": \"2020-03-20T00:00:00\", \"Cases\": 20410.0, \"Days since 100 cases\": 18}, {\"Key\": \"Spain\", \"Date\": \"2020-03-21T00:00:00\", \"Cases\": 25374.0, \"Days since 100 cases\": 19}, {\"Key\": \"Spain\", \"Date\": \"2020-03-22T00:00:00\", \"Cases\": 28768.0, \"Days since 100 cases\": 20}, {\"Key\": \"Spain\", \"Date\": \"2020-03-23T00:00:00\", \"Cases\": 35136.0, \"Days since 100 cases\": 21}, {\"Key\": \"Spain\", \"Date\": \"2020-03-24T00:00:00\", \"Cases\": 39885.0, \"Days since 100 cases\": 22}, {\"Key\": \"Spain\", \"Date\": \"2020-03-25T00:00:00\", \"Cases\": 49515.0, \"Days since 100 cases\": 23}, {\"Key\": \"US\", \"Date\": \"2020-03-03T00:00:00\", \"Cases\": 118.0, \"Days since 100 cases\": 0}, {\"Key\": \"US\", \"Date\": \"2020-03-04T00:00:00\", \"Cases\": 149.0, \"Days since 100 cases\": 1}, {\"Key\": \"US\", \"Date\": \"2020-03-05T00:00:00\", \"Cases\": 217.0, \"Days since 100 cases\": 2}, {\"Key\": \"US\", \"Date\": \"2020-03-06T00:00:00\", \"Cases\": 262.0, \"Days since 100 cases\": 3}, {\"Key\": \"US\", \"Date\": \"2020-03-07T00:00:00\", \"Cases\": 402.0, \"Days since 100 cases\": 4}, {\"Key\": \"US\", \"Date\": \"2020-03-08T00:00:00\", \"Cases\": 518.0, \"Days since 100 cases\": 5}, {\"Key\": \"US\", \"Date\": \"2020-03-09T00:00:00\", \"Cases\": 583.0, \"Days since 100 cases\": 6}, {\"Key\": \"US\", \"Date\": \"2020-03-10T00:00:00\", \"Cases\": 959.0, \"Days since 100 cases\": 7}, {\"Key\": \"US\", \"Date\": \"2020-03-11T00:00:00\", \"Cases\": 1281.0, \"Days since 100 cases\": 8}, {\"Key\": \"US\", \"Date\": \"2020-03-12T00:00:00\", \"Cases\": 1663.0, \"Days since 100 cases\": 9}, {\"Key\": \"US\", \"Date\": \"2020-03-13T00:00:00\", \"Cases\": 2179.0, \"Days since 100 cases\": 10}, {\"Key\": \"US\", \"Date\": \"2020-03-14T00:00:00\", \"Cases\": 2727.0, \"Days since 100 cases\": 11}, {\"Key\": \"US\", \"Date\": \"2020-03-15T00:00:00\", \"Cases\": 3499.0, \"Days since 100 cases\": 12}, {\"Key\": \"US\", \"Date\": \"2020-03-16T00:00:00\", \"Cases\": 4632.0, \"Days since 100 cases\": 13}, {\"Key\": \"US\", \"Date\": \"2020-03-17T00:00:00\", \"Cases\": 6421.0, \"Days since 100 cases\": 14}, {\"Key\": \"US\", \"Date\": \"2020-03-18T00:00:00\", \"Cases\": 7783.0, \"Days since 100 cases\": 15}, {\"Key\": \"US\", \"Date\": \"2020-03-19T00:00:00\", \"Cases\": 13677.0, \"Days since 100 cases\": 16}, {\"Key\": \"US\", \"Date\": \"2020-03-20T00:00:00\", \"Cases\": 19100.0, \"Days since 100 cases\": 17}, {\"Key\": \"US\", \"Date\": \"2020-03-21T00:00:00\", \"Cases\": 25489.0, \"Days since 100 cases\": 18}, {\"Key\": \"US\", \"Date\": \"2020-03-22T00:00:00\", \"Cases\": 33276.0, \"Days since 100 cases\": 19}, {\"Key\": \"US\", \"Date\": \"2020-03-23T00:00:00\", \"Cases\": 43847.0, \"Days since 100 cases\": 20}, {\"Key\": \"US\", \"Date\": \"2020-03-24T00:00:00\", \"Cases\": 53740.0, \"Days since 100 cases\": 21}, {\"Key\": \"US\", \"Date\": \"2020-03-25T00:00:00\", \"Cases\": 65778.0, \"Days since 100 cases\": 22}, {\"Key\": \"United Kingdom\", \"Date\": \"2020-03-05T00:00:00\", \"Cases\": 116.0, \"Days since 100 cases\": 0}, {\"Key\": \"United Kingdom\", \"Date\": \"2020-03-06T00:00:00\", \"Cases\": 164.0, \"Days since 100 cases\": 1}, {\"Key\": \"United Kingdom\", \"Date\": \"2020-03-07T00:00:00\", \"Cases\": 207.0, \"Days since 100 cases\": 2}, {\"Key\": \"United Kingdom\", \"Date\": \"2020-03-08T00:00:00\", \"Cases\": 274.0, \"Days since 100 cases\": 3}, {\"Key\": \"United Kingdom\", \"Date\": \"2020-03-09T00:00:00\", \"Cases\": 322.0, \"Days since 100 cases\": 4}, {\"Key\": \"United Kingdom\", \"Date\": \"2020-03-10T00:00:00\", \"Cases\": 384.0, \"Days since 100 cases\": 5}, {\"Key\": \"United Kingdom\", \"Date\": \"2020-03-11T00:00:00\", \"Cases\": 459.0, \"Days since 100 cases\": 6}, {\"Key\": \"United Kingdom\", \"Date\": \"2020-03-12T00:00:00\", \"Cases\": 459.0, \"Days since 100 cases\": 7}, {\"Key\": \"United Kingdom\", \"Date\": \"2020-03-13T00:00:00\", \"Cases\": 802.0, \"Days since 100 cases\": 8}, {\"Key\": \"United Kingdom\", \"Date\": \"2020-03-14T00:00:00\", \"Cases\": 1144.0, \"Days since 100 cases\": 9}, {\"Key\": \"United Kingdom\", \"Date\": \"2020-03-15T00:00:00\", \"Cases\": 1145.0, \"Days since 100 cases\": 10}, {\"Key\": \"United Kingdom\", \"Date\": \"2020-03-16T00:00:00\", \"Cases\": 1551.0, \"Days since 100 cases\": 11}, {\"Key\": \"United Kingdom\", \"Date\": \"2020-03-17T00:00:00\", \"Cases\": 1960.0, \"Days since 100 cases\": 12}, {\"Key\": \"United Kingdom\", \"Date\": \"2020-03-18T00:00:00\", \"Cases\": 2642.0, \"Days since 100 cases\": 13}, {\"Key\": \"United Kingdom\", \"Date\": \"2020-03-19T00:00:00\", \"Cases\": 2716.0, \"Days since 100 cases\": 14}, {\"Key\": \"United Kingdom\", \"Date\": \"2020-03-20T00:00:00\", \"Cases\": 4014.0, \"Days since 100 cases\": 15}, {\"Key\": \"United Kingdom\", \"Date\": \"2020-03-21T00:00:00\", \"Cases\": 5067.0, \"Days since 100 cases\": 16}, {\"Key\": \"United Kingdom\", \"Date\": \"2020-03-22T00:00:00\", \"Cases\": 5745.0, \"Days since 100 cases\": 17}, {\"Key\": \"United Kingdom\", \"Date\": \"2020-03-23T00:00:00\", \"Cases\": 6726.0, \"Days since 100 cases\": 18}, {\"Key\": \"United Kingdom\", \"Date\": \"2020-03-24T00:00:00\", \"Cases\": 8164.0, \"Days since 100 cases\": 19}, {\"Key\": \"United Kingdom\", \"Date\": \"2020-03-25T00:00:00\", \"Cases\": 9640.0, \"Days since 100 cases\": 20}, {\"Key\": \"Alabama\", \"Date\": \"2020-03-21T00:00:00\", \"Cases\": 124.0, \"Days since 100 cases\": 0}, {\"Key\": \"Alabama\", \"Date\": \"2020-03-22T00:00:00\", \"Cases\": 138.0, \"Days since 100 cases\": 1}, {\"Key\": \"Alabama\", \"Date\": \"2020-03-23T00:00:00\", \"Cases\": 167.0, \"Days since 100 cases\": 2}, {\"Key\": \"Alabama\", \"Date\": \"2020-03-24T00:00:00\", \"Cases\": 215.0, \"Days since 100 cases\": 3}, {\"Key\": \"Alabama\", \"Date\": \"2020-03-25T00:00:00\", \"Cases\": 283.0, \"Days since 100 cases\": 4}, {\"Key\": \"Alabama\", \"Date\": \"2020-03-26T00:00:00\", \"Cases\": 506.0, \"Days since 100 cases\": 5}, {\"Key\": \"Alaska\", \"Date\": \"2020-03-04T00:00:00\", \"Cases\": 0.0, \"Days since 100 cases\": 0}, {\"Key\": \"Alaska\", \"Date\": \"2020-03-05T00:00:00\", \"Cases\": 0.0, \"Days since 100 cases\": 1}, {\"Key\": \"Alaska\", \"Date\": \"2020-03-06T00:00:00\", \"Cases\": 0.0, \"Days since 100 cases\": 2}, {\"Key\": \"Alaska\", \"Date\": \"2020-03-07T00:00:00\", \"Cases\": 0.0, \"Days since 100 cases\": 3}, {\"Key\": \"Alaska\", \"Date\": \"2020-03-08T00:00:00\", \"Cases\": 0.0, \"Days since 100 cases\": 4}, {\"Key\": \"Alaska\", \"Date\": \"2020-03-09T00:00:00\", \"Cases\": 0.0, \"Days since 100 cases\": 5}, {\"Key\": \"Alaska\", \"Date\": \"2020-03-10T00:00:00\", \"Cases\": 0.0, \"Days since 100 cases\": 6}, {\"Key\": \"Alaska\", \"Date\": \"2020-03-11T00:00:00\", \"Cases\": 0.0, \"Days since 100 cases\": 7}, {\"Key\": \"Alaska\", \"Date\": \"2020-03-12T00:00:00\", \"Cases\": 0.0, \"Days since 100 cases\": 8}, {\"Key\": \"Alaska\", \"Date\": \"2020-03-13T00:00:00\", \"Cases\": 1.0, \"Days since 100 cases\": 9}, {\"Key\": \"Alaska\", \"Date\": \"2020-03-14T00:00:00\", \"Cases\": 1.0, \"Days since 100 cases\": 10}, {\"Key\": \"Alaska\", \"Date\": \"2020-03-15T00:00:00\", \"Cases\": 1.0, \"Days since 100 cases\": 11}, {\"Key\": \"Alaska\", \"Date\": \"2020-03-16T00:00:00\", \"Cases\": 1.0, \"Days since 100 cases\": 12}, {\"Key\": \"Alaska\", \"Date\": \"2020-03-17T00:00:00\", \"Cases\": 3.0, \"Days since 100 cases\": 13}, {\"Key\": \"Alaska\", \"Date\": \"2020-03-18T00:00:00\", \"Cases\": 6.0, \"Days since 100 cases\": 14}, {\"Key\": \"Alaska\", \"Date\": \"2020-03-19T00:00:00\", \"Cases\": 6.0, \"Days since 100 cases\": 15}, {\"Key\": \"Alaska\", \"Date\": \"2020-03-20T00:00:00\", \"Cases\": 12.0, \"Days since 100 cases\": 16}, {\"Key\": \"Alaska\", \"Date\": \"2020-03-21T00:00:00\", \"Cases\": 14.0, \"Days since 100 cases\": 17}, {\"Key\": \"Alaska\", \"Date\": \"2020-03-22T00:00:00\", \"Cases\": 22.0, \"Days since 100 cases\": 18}, {\"Key\": \"Alaska\", \"Date\": \"2020-03-23T00:00:00\", \"Cases\": 22.0, \"Days since 100 cases\": 19}, {\"Key\": \"Alaska\", \"Date\": \"2020-03-24T00:00:00\", \"Cases\": 36.0, \"Days since 100 cases\": 20}, {\"Key\": \"Alaska\", \"Date\": \"2020-03-25T00:00:00\", \"Cases\": 42.0, \"Days since 100 cases\": 21}, {\"Key\": \"Alaska\", \"Date\": \"2020-03-26T00:00:00\", \"Cases\": 59.0, \"Days since 100 cases\": 22}, {\"Key\": \"American Samoa\", \"Date\": \"2020-03-04T00:00:00\", \"Cases\": 0.0, \"Days since 100 cases\": 0}, {\"Key\": \"American Samoa\", \"Date\": \"2020-03-05T00:00:00\", \"Cases\": 0.0, \"Days since 100 cases\": 1}, {\"Key\": \"American Samoa\", \"Date\": \"2020-03-06T00:00:00\", \"Cases\": 0.0, \"Days since 100 cases\": 2}, {\"Key\": \"American Samoa\", \"Date\": \"2020-03-07T00:00:00\", \"Cases\": 0.0, \"Days since 100 cases\": 3}, {\"Key\": \"American Samoa\", \"Date\": \"2020-03-08T00:00:00\", \"Cases\": 0.0, \"Days since 100 cases\": 4}, {\"Key\": \"American Samoa\", \"Date\": \"2020-03-09T00:00:00\", \"Cases\": 0.0, \"Days since 100 cases\": 5}, {\"Key\": \"American Samoa\", \"Date\": \"2020-03-10T00:00:00\", \"Cases\": 0.0, \"Days since 100 cases\": 6}, {\"Key\": \"American Samoa\", \"Date\": \"2020-03-11T00:00:00\", \"Cases\": 0.0, \"Days since 100 cases\": 7}, {\"Key\": \"American Samoa\", \"Date\": \"2020-03-12T00:00:00\", \"Cases\": 0.0, \"Days since 100 cases\": 8}, {\"Key\": \"American Samoa\", \"Date\": \"2020-03-13T00:00:00\", \"Cases\": 0.0, \"Days since 100 cases\": 9}, {\"Key\": \"American Samoa\", \"Date\": \"2020-03-14T00:00:00\", \"Cases\": 0.0, \"Days since 100 cases\": 10}, {\"Key\": \"American Samoa\", \"Date\": \"2020-03-15T00:00:00\", \"Cases\": 0.0, \"Days since 100 cases\": 11}, {\"Key\": \"American Samoa\", \"Date\": \"2020-03-16T00:00:00\", \"Cases\": 0.0, \"Days since 100 cases\": 12}, {\"Key\": \"American Samoa\", \"Date\": \"2020-03-17T00:00:00\", \"Cases\": 0.0, \"Days since 100 cases\": 13}, {\"Key\": \"American Samoa\", \"Date\": \"2020-03-18T00:00:00\", \"Cases\": 0.0, \"Days since 100 cases\": 14}, {\"Key\": \"American Samoa\", \"Date\": \"2020-03-19T00:00:00\", \"Cases\": 0.0, \"Days since 100 cases\": 15}, {\"Key\": \"American Samoa\", \"Date\": \"2020-03-20T00:00:00\", \"Cases\": 0.0, \"Days since 100 cases\": 16}, {\"Key\": \"American Samoa\", \"Date\": \"2020-03-21T00:00:00\", \"Cases\": 0.0, \"Days since 100 cases\": 17}, {\"Key\": \"American Samoa\", \"Date\": \"2020-03-22T00:00:00\", \"Cases\": 0.0, \"Days since 100 cases\": 18}, {\"Key\": \"American Samoa\", \"Date\": \"2020-03-23T00:00:00\", \"Cases\": 0.0, \"Days since 100 cases\": 19}, {\"Key\": \"American Samoa\", \"Date\": \"2020-03-24T00:00:00\", \"Cases\": 0.0, \"Days since 100 cases\": 20}, {\"Key\": \"American Samoa\", \"Date\": \"2020-03-25T00:00:00\", \"Cases\": 0.0, \"Days since 100 cases\": 21}, {\"Key\": \"American Samoa\", \"Date\": \"2020-03-26T00:00:00\", \"Cases\": 0.0, \"Days since 100 cases\": 22}, {\"Key\": \"Arizona\", \"Date\": \"2020-03-21T00:00:00\", \"Cases\": 104.0, \"Days since 100 cases\": 0}, {\"Key\": \"Arizona\", \"Date\": \"2020-03-22T00:00:00\", \"Cases\": 152.0, \"Days since 100 cases\": 1}, {\"Key\": \"Arizona\", \"Date\": \"2020-03-23T00:00:00\", \"Cases\": 265.0, \"Days since 100 cases\": 2}, {\"Key\": \"Arizona\", \"Date\": \"2020-03-24T00:00:00\", \"Cases\": 357.0, \"Days since 100 cases\": 3}, {\"Key\": \"Arizona\", \"Date\": \"2020-03-25T00:00:00\", \"Cases\": 450.0, \"Days since 100 cases\": 4}, {\"Key\": \"Arizona\", \"Date\": \"2020-03-26T00:00:00\", \"Cases\": 577.0, \"Days since 100 cases\": 5}, {\"Key\": \"Arkansas\", \"Date\": \"2020-03-21T00:00:00\", \"Cases\": 118.0, \"Days since 100 cases\": 0}, {\"Key\": \"Arkansas\", \"Date\": \"2020-03-22T00:00:00\", \"Cases\": 165.0, \"Days since 100 cases\": 1}, {\"Key\": \"Arkansas\", \"Date\": \"2020-03-23T00:00:00\", \"Cases\": 174.0, \"Days since 100 cases\": 2}, {\"Key\": \"Arkansas\", \"Date\": \"2020-03-24T00:00:00\", \"Cases\": 218.0, \"Days since 100 cases\": 3}, {\"Key\": \"Arkansas\", \"Date\": \"2020-03-25T00:00:00\", \"Cases\": 280.0, \"Days since 100 cases\": 4}, {\"Key\": \"Arkansas\", \"Date\": \"2020-03-26T00:00:00\", \"Cases\": 335.0, \"Days since 100 cases\": 5}, {\"Key\": \"California\", \"Date\": \"2020-03-09T00:00:00\", \"Cases\": 114.0, \"Days since 100 cases\": 0}, {\"Key\": \"California\", \"Date\": \"2020-03-10T00:00:00\", \"Cases\": 133.0, \"Days since 100 cases\": 1}, {\"Key\": \"California\", \"Date\": \"2020-03-11T00:00:00\", \"Cases\": 157.0, \"Days since 100 cases\": 2}, {\"Key\": \"California\", \"Date\": \"2020-03-12T00:00:00\", \"Cases\": 202.0, \"Days since 100 cases\": 3}, {\"Key\": \"California\", \"Date\": \"2020-03-13T00:00:00\", \"Cases\": 202.0, \"Days since 100 cases\": 4}, {\"Key\": \"California\", \"Date\": \"2020-03-14T00:00:00\", \"Cases\": 252.0, \"Days since 100 cases\": 5}, {\"Key\": \"California\", \"Date\": \"2020-03-15T00:00:00\", \"Cases\": 293.0, \"Days since 100 cases\": 6}, {\"Key\": \"California\", \"Date\": \"2020-03-16T00:00:00\", \"Cases\": 335.0, \"Days since 100 cases\": 7}, {\"Key\": \"California\", \"Date\": \"2020-03-17T00:00:00\", \"Cases\": 483.0, \"Days since 100 cases\": 8}, {\"Key\": \"California\", \"Date\": \"2020-03-18T00:00:00\", \"Cases\": 611.0, \"Days since 100 cases\": 9}, {\"Key\": \"California\", \"Date\": \"2020-03-19T00:00:00\", \"Cases\": 924.0, \"Days since 100 cases\": 10}, {\"Key\": \"California\", \"Date\": \"2020-03-20T00:00:00\", \"Cases\": 1063.0, \"Days since 100 cases\": 11}, {\"Key\": \"California\", \"Date\": \"2020-03-21T00:00:00\", \"Cases\": 1279.0, \"Days since 100 cases\": 12}, {\"Key\": \"California\", \"Date\": \"2020-03-22T00:00:00\", \"Cases\": 1536.0, \"Days since 100 cases\": 13}, {\"Key\": \"California\", \"Date\": \"2020-03-23T00:00:00\", \"Cases\": 1733.0, \"Days since 100 cases\": 14}, {\"Key\": \"California\", \"Date\": \"2020-03-24T00:00:00\", \"Cases\": 2102.0, \"Days since 100 cases\": 15}, {\"Key\": \"California\", \"Date\": \"2020-03-25T00:00:00\", \"Cases\": 2102.0, \"Days since 100 cases\": 16}, {\"Key\": \"California\", \"Date\": \"2020-03-26T00:00:00\", \"Cases\": 3006.0, \"Days since 100 cases\": 17}, {\"Key\": \"Colorado\", \"Date\": \"2020-03-14T00:00:00\", \"Cases\": 101.0, \"Days since 100 cases\": 0}, {\"Key\": \"Colorado\", \"Date\": \"2020-03-15T00:00:00\", \"Cases\": 131.0, \"Days since 100 cases\": 1}, {\"Key\": \"Colorado\", \"Date\": \"2020-03-16T00:00:00\", \"Cases\": 131.0, \"Days since 100 cases\": 2}, {\"Key\": \"Colorado\", \"Date\": \"2020-03-17T00:00:00\", \"Cases\": 160.0, \"Days since 100 cases\": 3}, {\"Key\": \"Colorado\", \"Date\": \"2020-03-18T00:00:00\", \"Cases\": 183.0, \"Days since 100 cases\": 4}, {\"Key\": \"Colorado\", \"Date\": \"2020-03-19T00:00:00\", \"Cases\": 216.0, \"Days since 100 cases\": 5}, {\"Key\": \"Colorado\", \"Date\": \"2020-03-20T00:00:00\", \"Cases\": 277.0, \"Days since 100 cases\": 6}, {\"Key\": \"Colorado\", \"Date\": \"2020-03-21T00:00:00\", \"Cases\": 363.0, \"Days since 100 cases\": 7}, {\"Key\": \"Colorado\", \"Date\": \"2020-03-22T00:00:00\", \"Cases\": 475.0, \"Days since 100 cases\": 8}, {\"Key\": \"Colorado\", \"Date\": \"2020-03-23T00:00:00\", \"Cases\": 591.0, \"Days since 100 cases\": 9}, {\"Key\": \"Colorado\", \"Date\": \"2020-03-24T00:00:00\", \"Cases\": 720.0, \"Days since 100 cases\": 10}, {\"Key\": \"Colorado\", \"Date\": \"2020-03-25T00:00:00\", \"Cases\": 912.0, \"Days since 100 cases\": 11}, {\"Key\": \"Colorado\", \"Date\": \"2020-03-26T00:00:00\", \"Cases\": 1086.0, \"Days since 100 cases\": 12}, {\"Key\": \"Connecticut\", \"Date\": \"2020-03-20T00:00:00\", \"Cases\": 194.0, \"Days since 100 cases\": 0}, {\"Key\": \"Connecticut\", \"Date\": \"2020-03-21T00:00:00\", \"Cases\": 194.0, \"Days since 100 cases\": 1}, {\"Key\": \"Connecticut\", \"Date\": \"2020-03-22T00:00:00\", \"Cases\": 223.0, \"Days since 100 cases\": 2}, {\"Key\": \"Connecticut\", \"Date\": \"2020-03-23T00:00:00\", \"Cases\": 415.0, \"Days since 100 cases\": 3}, {\"Key\": \"Connecticut\", \"Date\": \"2020-03-24T00:00:00\", \"Cases\": 618.0, \"Days since 100 cases\": 4}, {\"Key\": \"Connecticut\", \"Date\": \"2020-03-25T00:00:00\", \"Cases\": 875.0, \"Days since 100 cases\": 5}, {\"Key\": \"Connecticut\", \"Date\": \"2020-03-26T00:00:00\", \"Cases\": 1012.0, \"Days since 100 cases\": 6}, {\"Key\": \"Delaware\", \"Date\": \"2020-03-25T00:00:00\", \"Cases\": 115.0, \"Days since 100 cases\": 0}, {\"Key\": \"Delaware\", \"Date\": \"2020-03-26T00:00:00\", \"Cases\": 130.0, \"Days since 100 cases\": 1}, {\"Key\": \"District of Columbia\", \"Date\": \"2020-03-23T00:00:00\", \"Cases\": 116.0, \"Days since 100 cases\": 0}, {\"Key\": \"District of Columbia\", \"Date\": \"2020-03-24T00:00:00\", \"Cases\": 137.0, \"Days since 100 cases\": 1}, {\"Key\": \"District of Columbia\", \"Date\": \"2020-03-25T00:00:00\", \"Cases\": 183.0, \"Days since 100 cases\": 2}, {\"Key\": \"District of Columbia\", \"Date\": \"2020-03-26T00:00:00\", \"Cases\": 231.0, \"Days since 100 cases\": 3}, {\"Key\": \"Florida\", \"Date\": \"2020-03-15T00:00:00\", \"Cases\": 116.0, \"Days since 100 cases\": 0}, {\"Key\": \"Florida\", \"Date\": \"2020-03-16T00:00:00\", \"Cases\": 141.0, \"Days since 100 cases\": 1}, {\"Key\": \"Florida\", \"Date\": \"2020-03-17T00:00:00\", \"Cases\": 186.0, \"Days since 100 cases\": 2}, {\"Key\": \"Florida\", \"Date\": \"2020-03-18T00:00:00\", \"Cases\": 314.0, \"Days since 100 cases\": 3}, {\"Key\": \"Florida\", \"Date\": \"2020-03-19T00:00:00\", \"Cases\": 390.0, \"Days since 100 cases\": 4}, {\"Key\": \"Florida\", \"Date\": \"2020-03-20T00:00:00\", \"Cases\": 520.0, \"Days since 100 cases\": 5}, {\"Key\": \"Florida\", \"Date\": \"2020-03-21T00:00:00\", \"Cases\": 658.0, \"Days since 100 cases\": 6}, {\"Key\": \"Florida\", \"Date\": \"2020-03-22T00:00:00\", \"Cases\": 830.0, \"Days since 100 cases\": 7}, {\"Key\": \"Florida\", \"Date\": \"2020-03-23T00:00:00\", \"Cases\": 1171.0, \"Days since 100 cases\": 8}, {\"Key\": \"Florida\", \"Date\": \"2020-03-24T00:00:00\", \"Cases\": 1412.0, \"Days since 100 cases\": 9}, {\"Key\": \"Florida\", \"Date\": \"2020-03-25T00:00:00\", \"Cases\": 1682.0, \"Days since 100 cases\": 10}, {\"Key\": \"Florida\", \"Date\": \"2020-03-26T00:00:00\", \"Cases\": 2355.0, \"Days since 100 cases\": 11}, {\"Key\": \"Georgia\", \"Date\": \"2020-03-16T00:00:00\", \"Cases\": 121.0, \"Days since 100 cases\": 0}, {\"Key\": \"Georgia\", \"Date\": \"2020-03-17T00:00:00\", \"Cases\": 146.0, \"Days since 100 cases\": 1}, {\"Key\": \"Georgia\", \"Date\": \"2020-03-18T00:00:00\", \"Cases\": 197.0, \"Days since 100 cases\": 2}, {\"Key\": \"Georgia\", \"Date\": \"2020-03-19T00:00:00\", \"Cases\": 287.0, \"Days since 100 cases\": 3}, {\"Key\": \"Georgia\", \"Date\": \"2020-03-20T00:00:00\", \"Cases\": 420.0, \"Days since 100 cases\": 4}, {\"Key\": \"Georgia\", \"Date\": \"2020-03-21T00:00:00\", \"Cases\": 507.0, \"Days since 100 cases\": 5}, {\"Key\": \"Georgia\", \"Date\": \"2020-03-22T00:00:00\", \"Cases\": 600.0, \"Days since 100 cases\": 6}, {\"Key\": \"Georgia\", \"Date\": \"2020-03-23T00:00:00\", \"Cases\": 772.0, \"Days since 100 cases\": 7}, {\"Key\": \"Georgia\", \"Date\": \"2020-03-24T00:00:00\", \"Cases\": 1026.0, \"Days since 100 cases\": 8}, {\"Key\": \"Georgia\", \"Date\": \"2020-03-25T00:00:00\", \"Cases\": 1247.0, \"Days since 100 cases\": 9}, {\"Key\": \"Georgia\", \"Date\": \"2020-03-26T00:00:00\", \"Cases\": 1525.0, \"Days since 100 cases\": 10}, {\"Key\": \"Guam\", \"Date\": \"2020-03-04T00:00:00\", \"Cases\": 0.0, \"Days since 100 cases\": 0}, {\"Key\": \"Guam\", \"Date\": \"2020-03-05T00:00:00\", \"Cases\": 0.0, \"Days since 100 cases\": 1}, {\"Key\": \"Guam\", \"Date\": \"2020-03-06T00:00:00\", \"Cases\": 0.0, \"Days since 100 cases\": 2}, {\"Key\": \"Guam\", \"Date\": \"2020-03-07T00:00:00\", \"Cases\": 0.0, \"Days since 100 cases\": 3}, {\"Key\": \"Guam\", \"Date\": \"2020-03-08T00:00:00\", \"Cases\": 0.0, \"Days since 100 cases\": 4}, {\"Key\": \"Guam\", \"Date\": \"2020-03-09T00:00:00\", \"Cases\": 0.0, \"Days since 100 cases\": 5}, {\"Key\": \"Guam\", \"Date\": \"2020-03-10T00:00:00\", \"Cases\": 0.0, \"Days since 100 cases\": 6}, {\"Key\": \"Guam\", \"Date\": \"2020-03-11T00:00:00\", \"Cases\": 0.0, \"Days since 100 cases\": 7}, {\"Key\": \"Guam\", \"Date\": \"2020-03-12T00:00:00\", \"Cases\": 0.0, \"Days since 100 cases\": 8}, {\"Key\": \"Guam\", \"Date\": \"2020-03-13T00:00:00\", \"Cases\": 0.0, \"Days since 100 cases\": 9}, {\"Key\": \"Guam\", \"Date\": \"2020-03-14T00:00:00\", \"Cases\": 0.0, \"Days since 100 cases\": 10}, {\"Key\": \"Guam\", \"Date\": \"2020-03-15T00:00:00\", \"Cases\": 0.0, \"Days since 100 cases\": 11}, {\"Key\": \"Guam\", \"Date\": \"2020-03-16T00:00:00\", \"Cases\": 3.0, \"Days since 100 cases\": 12}, {\"Key\": \"Guam\", \"Date\": \"2020-03-17T00:00:00\", \"Cases\": 5.0, \"Days since 100 cases\": 13}, {\"Key\": \"Guam\", \"Date\": \"2020-03-18T00:00:00\", \"Cases\": 8.0, \"Days since 100 cases\": 14}, {\"Key\": \"Guam\", \"Date\": \"2020-03-19T00:00:00\", \"Cases\": 12.0, \"Days since 100 cases\": 15}, {\"Key\": \"Guam\", \"Date\": \"2020-03-20T00:00:00\", \"Cases\": 14.0, \"Days since 100 cases\": 16}, {\"Key\": \"Guam\", \"Date\": \"2020-03-21T00:00:00\", \"Cases\": 15.0, \"Days since 100 cases\": 17}, {\"Key\": \"Guam\", \"Date\": \"2020-03-22T00:00:00\", \"Cases\": 27.0, \"Days since 100 cases\": 18}, {\"Key\": \"Guam\", \"Date\": \"2020-03-23T00:00:00\", \"Cases\": 29.0, \"Days since 100 cases\": 19}, {\"Key\": \"Guam\", \"Date\": \"2020-03-24T00:00:00\", \"Cases\": 32.0, \"Days since 100 cases\": 20}, {\"Key\": \"Guam\", \"Date\": \"2020-03-25T00:00:00\", \"Cases\": 37.0, \"Days since 100 cases\": 21}, {\"Key\": \"Guam\", \"Date\": \"2020-03-26T00:00:00\", \"Cases\": 45.0, \"Days since 100 cases\": 22}, {\"Key\": \"Hawaii\", \"Date\": \"2020-03-04T00:00:00\", \"Cases\": 0.0, \"Days since 100 cases\": 0}, {\"Key\": \"Hawaii\", \"Date\": \"2020-03-05T00:00:00\", \"Cases\": 0.0, \"Days since 100 cases\": 1}, {\"Key\": \"Hawaii\", \"Date\": \"2020-03-06T00:00:00\", \"Cases\": 0.0, \"Days since 100 cases\": 2}, {\"Key\": \"Hawaii\", \"Date\": \"2020-03-07T00:00:00\", \"Cases\": 1.0, \"Days since 100 cases\": 3}, {\"Key\": \"Hawaii\", \"Date\": \"2020-03-08T00:00:00\", \"Cases\": 1.0, \"Days since 100 cases\": 4}, {\"Key\": \"Hawaii\", \"Date\": \"2020-03-09T00:00:00\", \"Cases\": 2.0, \"Days since 100 cases\": 5}, {\"Key\": \"Hawaii\", \"Date\": \"2020-03-10T00:00:00\", \"Cases\": 2.0, \"Days since 100 cases\": 6}, {\"Key\": \"Hawaii\", \"Date\": \"2020-03-11T00:00:00\", \"Cases\": 2.0, \"Days since 100 cases\": 7}, {\"Key\": \"Hawaii\", \"Date\": \"2020-03-12T00:00:00\", \"Cases\": 2.0, \"Days since 100 cases\": 8}, {\"Key\": \"Hawaii\", \"Date\": \"2020-03-13T00:00:00\", \"Cases\": 2.0, \"Days since 100 cases\": 9}, {\"Key\": \"Hawaii\", \"Date\": \"2020-03-14T00:00:00\", \"Cases\": 2.0, \"Days since 100 cases\": 10}, {\"Key\": \"Hawaii\", \"Date\": \"2020-03-15T00:00:00\", \"Cases\": 2.0, \"Days since 100 cases\": 11}, {\"Key\": \"Hawaii\", \"Date\": \"2020-03-16T00:00:00\", \"Cases\": 7.0, \"Days since 100 cases\": 12}, {\"Key\": \"Hawaii\", \"Date\": \"2020-03-17T00:00:00\", \"Cases\": 10.0, \"Days since 100 cases\": 13}, {\"Key\": \"Hawaii\", \"Date\": \"2020-03-18T00:00:00\", \"Cases\": 14.0, \"Days since 100 cases\": 14}, {\"Key\": \"Hawaii\", \"Date\": \"2020-03-19T00:00:00\", \"Cases\": 16.0, \"Days since 100 cases\": 15}, {\"Key\": \"Hawaii\", \"Date\": \"2020-03-20T00:00:00\", \"Cases\": 26.0, \"Days since 100 cases\": 16}, {\"Key\": \"Hawaii\", \"Date\": \"2020-03-21T00:00:00\", \"Cases\": 37.0, \"Days since 100 cases\": 17}, {\"Key\": \"Hawaii\", \"Date\": \"2020-03-22T00:00:00\", \"Cases\": 48.0, \"Days since 100 cases\": 18}, {\"Key\": \"Hawaii\", \"Date\": \"2020-03-23T00:00:00\", \"Cases\": 56.0, \"Days since 100 cases\": 19}, {\"Key\": \"Hawaii\", \"Date\": \"2020-03-24T00:00:00\", \"Cases\": 77.0, \"Days since 100 cases\": 20}, {\"Key\": \"Hawaii\", \"Date\": \"2020-03-25T00:00:00\", \"Cases\": 90.0, \"Days since 100 cases\": 21}, {\"Key\": \"Hawaii\", \"Date\": \"2020-03-26T00:00:00\", \"Cases\": 95.0, \"Days since 100 cases\": 22}, {\"Key\": \"Idaho\", \"Date\": \"2020-03-26T00:00:00\", \"Cases\": 123.0, \"Days since 100 cases\": 0}, {\"Key\": \"Illinois\", \"Date\": \"2020-03-17T00:00:00\", \"Cases\": 160.0, \"Days since 100 cases\": 0}, {\"Key\": \"Illinois\", \"Date\": \"2020-03-18T00:00:00\", \"Cases\": 289.0, \"Days since 100 cases\": 1}, {\"Key\": \"Illinois\", \"Date\": \"2020-03-19T00:00:00\", \"Cases\": 426.0, \"Days since 100 cases\": 2}, {\"Key\": \"Illinois\", \"Date\": \"2020-03-20T00:00:00\", \"Cases\": 590.0, \"Days since 100 cases\": 3}, {\"Key\": \"Illinois\", \"Date\": \"2020-03-21T00:00:00\", \"Cases\": 759.0, \"Days since 100 cases\": 4}, {\"Key\": \"Illinois\", \"Date\": \"2020-03-22T00:00:00\", \"Cases\": 1058.0, \"Days since 100 cases\": 5}, {\"Key\": \"Illinois\", \"Date\": \"2020-03-23T00:00:00\", \"Cases\": 1285.0, \"Days since 100 cases\": 6}, {\"Key\": \"Illinois\", \"Date\": \"2020-03-24T00:00:00\", \"Cases\": 1551.0, \"Days since 100 cases\": 7}, {\"Key\": \"Illinois\", \"Date\": \"2020-03-25T00:00:00\", \"Cases\": 1865.0, \"Days since 100 cases\": 8}, {\"Key\": \"Illinois\", \"Date\": \"2020-03-26T00:00:00\", \"Cases\": 2538.0, \"Days since 100 cases\": 9}, {\"Key\": \"Indiana\", \"Date\": \"2020-03-21T00:00:00\", \"Cases\": 126.0, \"Days since 100 cases\": 0}, {\"Key\": \"Indiana\", \"Date\": \"2020-03-22T00:00:00\", \"Cases\": 201.0, \"Days since 100 cases\": 1}, {\"Key\": \"Indiana\", \"Date\": \"2020-03-23T00:00:00\", \"Cases\": 259.0, \"Days since 100 cases\": 2}, {\"Key\": \"Indiana\", \"Date\": \"2020-03-24T00:00:00\", \"Cases\": 365.0, \"Days since 100 cases\": 3}, {\"Key\": \"Indiana\", \"Date\": \"2020-03-25T00:00:00\", \"Cases\": 477.0, \"Days since 100 cases\": 4}, {\"Key\": \"Indiana\", \"Date\": \"2020-03-26T00:00:00\", \"Cases\": 645.0, \"Days since 100 cases\": 5}, {\"Key\": \"Iowa\", \"Date\": \"2020-03-23T00:00:00\", \"Cases\": 105.0, \"Days since 100 cases\": 0}, {\"Key\": \"Iowa\", \"Date\": \"2020-03-24T00:00:00\", \"Cases\": 124.0, \"Days since 100 cases\": 1}, {\"Key\": \"Iowa\", \"Date\": \"2020-03-25T00:00:00\", \"Cases\": 145.0, \"Days since 100 cases\": 2}, {\"Key\": \"Iowa\", \"Date\": \"2020-03-26T00:00:00\", \"Cases\": 179.0, \"Days since 100 cases\": 3}, {\"Key\": \"Kansas\", \"Date\": \"2020-03-25T00:00:00\", \"Cases\": 126.0, \"Days since 100 cases\": 0}, {\"Key\": \"Kansas\", \"Date\": \"2020-03-26T00:00:00\", \"Cases\": 168.0, \"Days since 100 cases\": 1}, {\"Key\": \"Kentucky\", \"Date\": \"2020-03-23T00:00:00\", \"Cases\": 104.0, \"Days since 100 cases\": 0}, {\"Key\": \"Kentucky\", \"Date\": \"2020-03-24T00:00:00\", \"Cases\": 124.0, \"Days since 100 cases\": 1}, {\"Key\": \"Kentucky\", \"Date\": \"2020-03-25T00:00:00\", \"Cases\": 157.0, \"Days since 100 cases\": 2}, {\"Key\": \"Kentucky\", \"Date\": \"2020-03-26T00:00:00\", \"Cases\": 198.0, \"Days since 100 cases\": 3}, {\"Key\": \"Louisiana\", \"Date\": \"2020-03-16T00:00:00\", \"Cases\": 114.0, \"Days since 100 cases\": 0}, {\"Key\": \"Louisiana\", \"Date\": \"2020-03-17T00:00:00\", \"Cases\": 171.0, \"Days since 100 cases\": 1}, {\"Key\": \"Louisiana\", \"Date\": \"2020-03-18T00:00:00\", \"Cases\": 240.0, \"Days since 100 cases\": 2}, {\"Key\": \"Louisiana\", \"Date\": \"2020-03-19T00:00:00\", \"Cases\": 347.0, \"Days since 100 cases\": 3}, {\"Key\": \"Louisiana\", \"Date\": \"2020-03-20T00:00:00\", \"Cases\": 479.0, \"Days since 100 cases\": 4}, {\"Key\": \"Louisiana\", \"Date\": \"2020-03-21T00:00:00\", \"Cases\": 585.0, \"Days since 100 cases\": 5}, {\"Key\": \"Louisiana\", \"Date\": \"2020-03-22T00:00:00\", \"Cases\": 837.0, \"Days since 100 cases\": 6}, {\"Key\": \"Louisiana\", \"Date\": \"2020-03-23T00:00:00\", \"Cases\": 1172.0, \"Days since 100 cases\": 7}, {\"Key\": \"Louisiana\", \"Date\": \"2020-03-24T00:00:00\", \"Cases\": 1388.0, \"Days since 100 cases\": 8}, {\"Key\": \"Louisiana\", \"Date\": \"2020-03-25T00:00:00\", \"Cases\": 1795.0, \"Days since 100 cases\": 9}, {\"Key\": \"Louisiana\", \"Date\": \"2020-03-26T00:00:00\", \"Cases\": 2305.0, \"Days since 100 cases\": 10}, {\"Key\": \"MP\", \"Date\": \"2020-03-04T00:00:00\", \"Cases\": 0.0, \"Days since 100 cases\": 0}, {\"Key\": \"MP\", \"Date\": \"2020-03-05T00:00:00\", \"Cases\": 0.0, \"Days since 100 cases\": 1}, {\"Key\": \"MP\", \"Date\": \"2020-03-06T00:00:00\", \"Cases\": 0.0, \"Days since 100 cases\": 2}, {\"Key\": \"MP\", \"Date\": \"2020-03-07T00:00:00\", \"Cases\": 0.0, \"Days since 100 cases\": 3}, {\"Key\": \"MP\", \"Date\": \"2020-03-08T00:00:00\", \"Cases\": 0.0, \"Days since 100 cases\": 4}, {\"Key\": \"MP\", \"Date\": \"2020-03-09T00:00:00\", \"Cases\": 0.0, \"Days since 100 cases\": 5}, {\"Key\": \"MP\", \"Date\": \"2020-03-10T00:00:00\", \"Cases\": 0.0, \"Days since 100 cases\": 6}, {\"Key\": \"MP\", \"Date\": \"2020-03-11T00:00:00\", \"Cases\": 0.0, \"Days since 100 cases\": 7}, {\"Key\": \"MP\", \"Date\": \"2020-03-12T00:00:00\", \"Cases\": 0.0, \"Days since 100 cases\": 8}, {\"Key\": \"MP\", \"Date\": \"2020-03-13T00:00:00\", \"Cases\": 0.0, \"Days since 100 cases\": 9}, {\"Key\": \"MP\", \"Date\": \"2020-03-14T00:00:00\", \"Cases\": 0.0, \"Days since 100 cases\": 10}, {\"Key\": \"MP\", \"Date\": \"2020-03-15T00:00:00\", \"Cases\": 0.0, \"Days since 100 cases\": 11}, {\"Key\": \"MP\", \"Date\": \"2020-03-16T00:00:00\", \"Cases\": 0.0, \"Days since 100 cases\": 12}, {\"Key\": \"MP\", \"Date\": \"2020-03-17T00:00:00\", \"Cases\": 0.0, \"Days since 100 cases\": 13}, {\"Key\": \"MP\", \"Date\": \"2020-03-18T00:00:00\", \"Cases\": 0.0, \"Days since 100 cases\": 14}, {\"Key\": \"MP\", \"Date\": \"2020-03-19T00:00:00\", \"Cases\": 0.0, \"Days since 100 cases\": 15}, {\"Key\": \"MP\", \"Date\": \"2020-03-20T00:00:00\", \"Cases\": 0.0, \"Days since 100 cases\": 16}, {\"Key\": \"MP\", \"Date\": \"2020-03-21T00:00:00\", \"Cases\": 0.0, \"Days since 100 cases\": 17}, {\"Key\": \"MP\", \"Date\": \"2020-03-22T00:00:00\", \"Cases\": 0.0, \"Days since 100 cases\": 18}, {\"Key\": \"MP\", \"Date\": \"2020-03-23T00:00:00\", \"Cases\": 0.0, \"Days since 100 cases\": 19}, {\"Key\": \"MP\", \"Date\": \"2020-03-24T00:00:00\", \"Cases\": 0.0, \"Days since 100 cases\": 20}, {\"Key\": \"MP\", \"Date\": \"2020-03-25T00:00:00\", \"Cases\": 0.0, \"Days since 100 cases\": 21}, {\"Key\": \"MP\", \"Date\": \"2020-03-26T00:00:00\", \"Cases\": 0.0, \"Days since 100 cases\": 22}, {\"Key\": \"Maine\", \"Date\": \"2020-03-23T00:00:00\", \"Cases\": 107.0, \"Days since 100 cases\": 0}, {\"Key\": \"Maine\", \"Date\": \"2020-03-24T00:00:00\", \"Cases\": 125.0, \"Days since 100 cases\": 1}, {\"Key\": \"Maine\", \"Date\": \"2020-03-25T00:00:00\", \"Cases\": 149.0, \"Days since 100 cases\": 2}, {\"Key\": \"Maine\", \"Date\": \"2020-03-26T00:00:00\", \"Cases\": 155.0, \"Days since 100 cases\": 3}, {\"Key\": \"Maryland\", \"Date\": \"2020-03-19T00:00:00\", \"Cases\": 107.0, \"Days since 100 cases\": 0}, {\"Key\": \"Maryland\", \"Date\": \"2020-03-20T00:00:00\", \"Cases\": 149.0, \"Days since 100 cases\": 1}, {\"Key\": \"Maryland\", \"Date\": \"2020-03-21T00:00:00\", \"Cases\": 190.0, \"Days since 100 cases\": 2}, {\"Key\": \"Maryland\", \"Date\": \"2020-03-22T00:00:00\", \"Cases\": 244.0, \"Days since 100 cases\": 3}, {\"Key\": \"Maryland\", \"Date\": \"2020-03-23T00:00:00\", \"Cases\": 288.0, \"Days since 100 cases\": 4}, {\"Key\": \"Maryland\", \"Date\": \"2020-03-24T00:00:00\", \"Cases\": 349.0, \"Days since 100 cases\": 5}, {\"Key\": \"Maryland\", \"Date\": \"2020-03-25T00:00:00\", \"Cases\": 423.0, \"Days since 100 cases\": 6}, {\"Key\": \"Maryland\", \"Date\": \"2020-03-26T00:00:00\", \"Cases\": 580.0, \"Days since 100 cases\": 7}, {\"Key\": \"Massachusetts\", \"Date\": \"2020-03-13T00:00:00\", \"Cases\": 123.0, \"Days since 100 cases\": 0}, {\"Key\": \"Massachusetts\", \"Date\": \"2020-03-14T00:00:00\", \"Cases\": 138.0, \"Days since 100 cases\": 1}, {\"Key\": \"Massachusetts\", \"Date\": \"2020-03-15T00:00:00\", \"Cases\": 138.0, \"Days since 100 cases\": 2}, {\"Key\": \"Massachusetts\", \"Date\": \"2020-03-16T00:00:00\", \"Cases\": 164.0, \"Days since 100 cases\": 3}, {\"Key\": \"Massachusetts\", \"Date\": \"2020-03-17T00:00:00\", \"Cases\": 218.0, \"Days since 100 cases\": 4}, {\"Key\": \"Massachusetts\", \"Date\": \"2020-03-18T00:00:00\", \"Cases\": 256.0, \"Days since 100 cases\": 5}, {\"Key\": \"Massachusetts\", \"Date\": \"2020-03-19T00:00:00\", \"Cases\": 328.0, \"Days since 100 cases\": 6}, {\"Key\": \"Massachusetts\", \"Date\": \"2020-03-20T00:00:00\", \"Cases\": 413.0, \"Days since 100 cases\": 7}, {\"Key\": \"Massachusetts\", \"Date\": \"2020-03-21T00:00:00\", \"Cases\": 525.0, \"Days since 100 cases\": 8}, {\"Key\": \"Massachusetts\", \"Date\": \"2020-03-22T00:00:00\", \"Cases\": 646.0, \"Days since 100 cases\": 9}, {\"Key\": \"Massachusetts\", \"Date\": \"2020-03-23T00:00:00\", \"Cases\": 777.0, \"Days since 100 cases\": 10}, {\"Key\": \"Massachusetts\", \"Date\": \"2020-03-24T00:00:00\", \"Cases\": 1159.0, \"Days since 100 cases\": 11}, {\"Key\": \"Massachusetts\", \"Date\": \"2020-03-25T00:00:00\", \"Cases\": 1838.0, \"Days since 100 cases\": 12}, {\"Key\": \"Massachusetts\", \"Date\": \"2020-03-26T00:00:00\", \"Cases\": 2417.0, \"Days since 100 cases\": 13}, {\"Key\": \"Michigan\", \"Date\": \"2020-03-19T00:00:00\", \"Cases\": 336.0, \"Days since 100 cases\": 0}, {\"Key\": \"Michigan\", \"Date\": \"2020-03-20T00:00:00\", \"Cases\": 549.0, \"Days since 100 cases\": 1}, {\"Key\": \"Michigan\", \"Date\": \"2020-03-21T00:00:00\", \"Cases\": 787.0, \"Days since 100 cases\": 2}, {\"Key\": \"Michigan\", \"Date\": \"2020-03-22T00:00:00\", \"Cases\": 1035.0, \"Days since 100 cases\": 3}, {\"Key\": \"Michigan\", \"Date\": \"2020-03-23T00:00:00\", \"Cases\": 1328.0, \"Days since 100 cases\": 4}, {\"Key\": \"Michigan\", \"Date\": \"2020-03-24T00:00:00\", \"Cases\": 1791.0, \"Days since 100 cases\": 5}, {\"Key\": \"Michigan\", \"Date\": \"2020-03-25T00:00:00\", \"Cases\": 2294.0, \"Days since 100 cases\": 6}, {\"Key\": \"Michigan\", \"Date\": \"2020-03-26T00:00:00\", \"Cases\": 2856.0, \"Days since 100 cases\": 7}, {\"Key\": \"Minnesota\", \"Date\": \"2020-03-20T00:00:00\", \"Cases\": 115.0, \"Days since 100 cases\": 0}, {\"Key\": \"Minnesota\", \"Date\": \"2020-03-21T00:00:00\", \"Cases\": 138.0, \"Days since 100 cases\": 1}, {\"Key\": \"Minnesota\", \"Date\": \"2020-03-22T00:00:00\", \"Cases\": 169.0, \"Days since 100 cases\": 2}, {\"Key\": \"Minnesota\", \"Date\": \"2020-03-23T00:00:00\", \"Cases\": 235.0, \"Days since 100 cases\": 3}, {\"Key\": \"Minnesota\", \"Date\": \"2020-03-24T00:00:00\", \"Cases\": 262.0, \"Days since 100 cases\": 4}, {\"Key\": \"Minnesota\", \"Date\": \"2020-03-25T00:00:00\", \"Cases\": 287.0, \"Days since 100 cases\": 5}, {\"Key\": \"Minnesota\", \"Date\": \"2020-03-26T00:00:00\", \"Cases\": 346.0, \"Days since 100 cases\": 6}, {\"Key\": \"Mississippi\", \"Date\": \"2020-03-21T00:00:00\", \"Cases\": 140.0, \"Days since 100 cases\": 0}, {\"Key\": \"Mississippi\", \"Date\": \"2020-03-22T00:00:00\", \"Cases\": 207.0, \"Days since 100 cases\": 1}, {\"Key\": \"Mississippi\", \"Date\": \"2020-03-23T00:00:00\", \"Cases\": 249.0, \"Days since 100 cases\": 2}, {\"Key\": \"Mississippi\", \"Date\": \"2020-03-24T00:00:00\", \"Cases\": 320.0, \"Days since 100 cases\": 3}, {\"Key\": \"Mississippi\", \"Date\": \"2020-03-25T00:00:00\", \"Cases\": 377.0, \"Days since 100 cases\": 4}, {\"Key\": \"Mississippi\", \"Date\": \"2020-03-26T00:00:00\", \"Cases\": 485.0, \"Days since 100 cases\": 5}, {\"Key\": \"Missouri\", \"Date\": \"2020-03-23T00:00:00\", \"Cases\": 183.0, \"Days since 100 cases\": 0}, {\"Key\": \"Missouri\", \"Date\": \"2020-03-24T00:00:00\", \"Cases\": 183.0, \"Days since 100 cases\": 1}, {\"Key\": \"Missouri\", \"Date\": \"2020-03-25T00:00:00\", \"Cases\": 356.0, \"Days since 100 cases\": 2}, {\"Key\": \"Missouri\", \"Date\": \"2020-03-26T00:00:00\", \"Cases\": 502.0, \"Days since 100 cases\": 3}, {\"Key\": \"Montana\", \"Date\": \"2020-03-04T00:00:00\", \"Cases\": 0.0, \"Days since 100 cases\": 0}, {\"Key\": \"Montana\", \"Date\": \"2020-03-05T00:00:00\", \"Cases\": 0.0, \"Days since 100 cases\": 1}, {\"Key\": \"Montana\", \"Date\": \"2020-03-06T00:00:00\", \"Cases\": 0.0, \"Days since 100 cases\": 2}, {\"Key\": \"Montana\", \"Date\": \"2020-03-07T00:00:00\", \"Cases\": 0.0, \"Days since 100 cases\": 3}, {\"Key\": \"Montana\", \"Date\": \"2020-03-08T00:00:00\", \"Cases\": 0.0, \"Days since 100 cases\": 4}, {\"Key\": \"Montana\", \"Date\": \"2020-03-09T00:00:00\", \"Cases\": 0.0, \"Days since 100 cases\": 5}, {\"Key\": \"Montana\", \"Date\": \"2020-03-10T00:00:00\", \"Cases\": 0.0, \"Days since 100 cases\": 6}, {\"Key\": \"Montana\", \"Date\": \"2020-03-11T00:00:00\", \"Cases\": 0.0, \"Days since 100 cases\": 7}, {\"Key\": \"Montana\", \"Date\": \"2020-03-12T00:00:00\", \"Cases\": 1.0, \"Days since 100 cases\": 8}, {\"Key\": \"Montana\", \"Date\": \"2020-03-13T00:00:00\", \"Cases\": 1.0, \"Days since 100 cases\": 9}, {\"Key\": \"Montana\", \"Date\": \"2020-03-14T00:00:00\", \"Cases\": 5.0, \"Days since 100 cases\": 10}, {\"Key\": \"Montana\", \"Date\": \"2020-03-15T00:00:00\", \"Cases\": 7.0, \"Days since 100 cases\": 11}, {\"Key\": \"Montana\", \"Date\": \"2020-03-16T00:00:00\", \"Cases\": 7.0, \"Days since 100 cases\": 12}, {\"Key\": \"Montana\", \"Date\": \"2020-03-17T00:00:00\", \"Cases\": 8.0, \"Days since 100 cases\": 13}, {\"Key\": \"Montana\", \"Date\": \"2020-03-18T00:00:00\", \"Cases\": 10.0, \"Days since 100 cases\": 14}, {\"Key\": \"Montana\", \"Date\": \"2020-03-19T00:00:00\", \"Cases\": 12.0, \"Days since 100 cases\": 15}, {\"Key\": \"Montana\", \"Date\": \"2020-03-20T00:00:00\", \"Cases\": 16.0, \"Days since 100 cases\": 16}, {\"Key\": \"Montana\", \"Date\": \"2020-03-21T00:00:00\", \"Cases\": 20.0, \"Days since 100 cases\": 17}, {\"Key\": \"Montana\", \"Date\": \"2020-03-22T00:00:00\", \"Cases\": 31.0, \"Days since 100 cases\": 18}, {\"Key\": \"Montana\", \"Date\": \"2020-03-23T00:00:00\", \"Cases\": 34.0, \"Days since 100 cases\": 19}, {\"Key\": \"Montana\", \"Date\": \"2020-03-24T00:00:00\", \"Cases\": 46.0, \"Days since 100 cases\": 20}, {\"Key\": \"Montana\", \"Date\": \"2020-03-25T00:00:00\", \"Cases\": 53.0, \"Days since 100 cases\": 21}, {\"Key\": \"Montana\", \"Date\": \"2020-03-26T00:00:00\", \"Cases\": 71.0, \"Days since 100 cases\": 22}, {\"Key\": \"Nebraska\", \"Date\": \"2020-03-04T00:00:00\", \"Cases\": 0.0, \"Days since 100 cases\": 0}, {\"Key\": \"Nebraska\", \"Date\": \"2020-03-05T00:00:00\", \"Cases\": 0.0, \"Days since 100 cases\": 1}, {\"Key\": \"Nebraska\", \"Date\": \"2020-03-06T00:00:00\", \"Cases\": 0.0, \"Days since 100 cases\": 2}, {\"Key\": \"Nebraska\", \"Date\": \"2020-03-07T00:00:00\", \"Cases\": 1.0, \"Days since 100 cases\": 3}, {\"Key\": \"Nebraska\", \"Date\": \"2020-03-08T00:00:00\", \"Cases\": 1.0, \"Days since 100 cases\": 4}, {\"Key\": \"Nebraska\", \"Date\": \"2020-03-09T00:00:00\", \"Cases\": 3.0, \"Days since 100 cases\": 5}, {\"Key\": \"Nebraska\", \"Date\": \"2020-03-10T00:00:00\", \"Cases\": 3.0, \"Days since 100 cases\": 6}, {\"Key\": \"Nebraska\", \"Date\": \"2020-03-11T00:00:00\", \"Cases\": 5.0, \"Days since 100 cases\": 7}, {\"Key\": \"Nebraska\", \"Date\": \"2020-03-12T00:00:00\", \"Cases\": 10.0, \"Days since 100 cases\": 8}, {\"Key\": \"Nebraska\", \"Date\": \"2020-03-13T00:00:00\", \"Cases\": 13.0, \"Days since 100 cases\": 9}, {\"Key\": \"Nebraska\", \"Date\": \"2020-03-14T00:00:00\", \"Cases\": 14.0, \"Days since 100 cases\": 10}, {\"Key\": \"Nebraska\", \"Date\": \"2020-03-15T00:00:00\", \"Cases\": 17.0, \"Days since 100 cases\": 11}, {\"Key\": \"Nebraska\", \"Date\": \"2020-03-16T00:00:00\", \"Cases\": 18.0, \"Days since 100 cases\": 12}, {\"Key\": \"Nebraska\", \"Date\": \"2020-03-17T00:00:00\", \"Cases\": 21.0, \"Days since 100 cases\": 13}, {\"Key\": \"Nebraska\", \"Date\": \"2020-03-18T00:00:00\", \"Cases\": 24.0, \"Days since 100 cases\": 14}, {\"Key\": \"Nebraska\", \"Date\": \"2020-03-19T00:00:00\", \"Cases\": 27.0, \"Days since 100 cases\": 15}, {\"Key\": \"Nebraska\", \"Date\": \"2020-03-20T00:00:00\", \"Cases\": 32.0, \"Days since 100 cases\": 16}, {\"Key\": \"Nebraska\", \"Date\": \"2020-03-21T00:00:00\", \"Cases\": 38.0, \"Days since 100 cases\": 17}, {\"Key\": \"Nebraska\", \"Date\": \"2020-03-22T00:00:00\", \"Cases\": 48.0, \"Days since 100 cases\": 18}, {\"Key\": \"Nebraska\", \"Date\": \"2020-03-23T00:00:00\", \"Cases\": 50.0, \"Days since 100 cases\": 19}, {\"Key\": \"Nebraska\", \"Date\": \"2020-03-24T00:00:00\", \"Cases\": 52.0, \"Days since 100 cases\": 20}, {\"Key\": \"Nebraska\", \"Date\": \"2020-03-25T00:00:00\", \"Cases\": 61.0, \"Days since 100 cases\": 21}, {\"Key\": \"Nebraska\", \"Date\": \"2020-03-26T00:00:00\", \"Cases\": 73.0, \"Days since 100 cases\": 22}, {\"Key\": \"Nevada\", \"Date\": \"2020-03-20T00:00:00\", \"Cases\": 109.0, \"Days since 100 cases\": 0}, {\"Key\": \"Nevada\", \"Date\": \"2020-03-21T00:00:00\", \"Cases\": 124.0, \"Days since 100 cases\": 1}, {\"Key\": \"Nevada\", \"Date\": \"2020-03-22T00:00:00\", \"Cases\": 190.0, \"Days since 100 cases\": 2}, {\"Key\": \"Nevada\", \"Date\": \"2020-03-23T00:00:00\", \"Cases\": 245.0, \"Days since 100 cases\": 3}, {\"Key\": \"Nevada\", \"Date\": \"2020-03-24T00:00:00\", \"Cases\": 278.0, \"Days since 100 cases\": 4}, {\"Key\": \"Nevada\", \"Date\": \"2020-03-25T00:00:00\", \"Cases\": 321.0, \"Days since 100 cases\": 5}, {\"Key\": \"Nevada\", \"Date\": \"2020-03-26T00:00:00\", \"Cases\": 420.0, \"Days since 100 cases\": 6}, {\"Key\": \"New Hampshire\", \"Date\": \"2020-03-24T00:00:00\", \"Cases\": 101.0, \"Days since 100 cases\": 0}, {\"Key\": \"New Hampshire\", \"Date\": \"2020-03-25T00:00:00\", \"Cases\": 108.0, \"Days since 100 cases\": 1}, {\"Key\": \"New Hampshire\", \"Date\": \"2020-03-26T00:00:00\", \"Cases\": 137.0, \"Days since 100 cases\": 2}, {\"Key\": \"New Jersey\", \"Date\": \"2020-03-16T00:00:00\", \"Cases\": 178.0, \"Days since 100 cases\": 0}, {\"Key\": \"New Jersey\", \"Date\": \"2020-03-17T00:00:00\", \"Cases\": 267.0, \"Days since 100 cases\": 1}, {\"Key\": \"New Jersey\", \"Date\": \"2020-03-18T00:00:00\", \"Cases\": 427.0, \"Days since 100 cases\": 2}, {\"Key\": \"New Jersey\", \"Date\": \"2020-03-19T00:00:00\", \"Cases\": 742.0, \"Days since 100 cases\": 3}, {\"Key\": \"New Jersey\", \"Date\": \"2020-03-20T00:00:00\", \"Cases\": 890.0, \"Days since 100 cases\": 4}, {\"Key\": \"New Jersey\", \"Date\": \"2020-03-21T00:00:00\", \"Cases\": 1327.0, \"Days since 100 cases\": 5}, {\"Key\": \"New Jersey\", \"Date\": \"2020-03-22T00:00:00\", \"Cases\": 1914.0, \"Days since 100 cases\": 6}, {\"Key\": \"New Jersey\", \"Date\": \"2020-03-23T00:00:00\", \"Cases\": 2844.0, \"Days since 100 cases\": 7}, {\"Key\": \"New Jersey\", \"Date\": \"2020-03-24T00:00:00\", \"Cases\": 3675.0, \"Days since 100 cases\": 8}, {\"Key\": \"New Jersey\", \"Date\": \"2020-03-25T00:00:00\", \"Cases\": 4402.0, \"Days since 100 cases\": 9}, {\"Key\": \"New Jersey\", \"Date\": \"2020-03-26T00:00:00\", \"Cases\": 6876.0, \"Days since 100 cases\": 10}, {\"Key\": \"New Mexico\", \"Date\": \"2020-03-25T00:00:00\", \"Cases\": 100.0, \"Days since 100 cases\": 0}, {\"Key\": \"New Mexico\", \"Date\": \"2020-03-26T00:00:00\", \"Cases\": 112.0, \"Days since 100 cases\": 1}, {\"Key\": \"New York\", \"Date\": \"2020-03-08T00:00:00\", \"Cases\": 105.0, \"Days since 100 cases\": 0}, {\"Key\": \"New York\", \"Date\": \"2020-03-09T00:00:00\", \"Cases\": 142.0, \"Days since 100 cases\": 1}, {\"Key\": \"New York\", \"Date\": \"2020-03-10T00:00:00\", \"Cases\": 173.0, \"Days since 100 cases\": 2}, {\"Key\": \"New York\", \"Date\": \"2020-03-11T00:00:00\", \"Cases\": 216.0, \"Days since 100 cases\": 3}, {\"Key\": \"New York\", \"Date\": \"2020-03-12T00:00:00\", \"Cases\": 216.0, \"Days since 100 cases\": 4}, {\"Key\": \"New York\", \"Date\": \"2020-03-13T00:00:00\", \"Cases\": 421.0, \"Days since 100 cases\": 5}, {\"Key\": \"New York\", \"Date\": \"2020-03-14T00:00:00\", \"Cases\": 524.0, \"Days since 100 cases\": 6}, {\"Key\": \"New York\", \"Date\": \"2020-03-15T00:00:00\", \"Cases\": 729.0, \"Days since 100 cases\": 7}, {\"Key\": \"New York\", \"Date\": \"2020-03-16T00:00:00\", \"Cases\": 950.0, \"Days since 100 cases\": 8}, {\"Key\": \"New York\", \"Date\": \"2020-03-17T00:00:00\", \"Cases\": 1700.0, \"Days since 100 cases\": 9}, {\"Key\": \"New York\", \"Date\": \"2020-03-18T00:00:00\", \"Cases\": 2382.0, \"Days since 100 cases\": 10}, {\"Key\": \"New York\", \"Date\": \"2020-03-19T00:00:00\", \"Cases\": 4152.0, \"Days since 100 cases\": 11}, {\"Key\": \"New York\", \"Date\": \"2020-03-20T00:00:00\", \"Cases\": 7102.0, \"Days since 100 cases\": 12}, {\"Key\": \"New York\", \"Date\": \"2020-03-21T00:00:00\", \"Cases\": 10356.0, \"Days since 100 cases\": 13}, {\"Key\": \"New York\", \"Date\": \"2020-03-22T00:00:00\", \"Cases\": 15168.0, \"Days since 100 cases\": 14}, {\"Key\": \"New York\", \"Date\": \"2020-03-23T00:00:00\", \"Cases\": 20875.0, \"Days since 100 cases\": 15}, {\"Key\": \"New York\", \"Date\": \"2020-03-24T00:00:00\", \"Cases\": 25665.0, \"Days since 100 cases\": 16}, {\"Key\": \"New York\", \"Date\": \"2020-03-25T00:00:00\", \"Cases\": 30811.0, \"Days since 100 cases\": 17}, {\"Key\": \"New York\", \"Date\": \"2020-03-26T00:00:00\", \"Cases\": 37258.0, \"Days since 100 cases\": 18}, {\"Key\": \"North Carolina\", \"Date\": \"2020-03-20T00:00:00\", \"Cases\": 137.0, \"Days since 100 cases\": 0}, {\"Key\": \"North Carolina\", \"Date\": \"2020-03-21T00:00:00\", \"Cases\": 184.0, \"Days since 100 cases\": 1}, {\"Key\": \"North Carolina\", \"Date\": \"2020-03-22T00:00:00\", \"Cases\": 255.0, \"Days since 100 cases\": 2}, {\"Key\": \"North Carolina\", \"Date\": \"2020-03-23T00:00:00\", \"Cases\": 297.0, \"Days since 100 cases\": 3}, {\"Key\": \"North Carolina\", \"Date\": \"2020-03-24T00:00:00\", \"Cases\": 398.0, \"Days since 100 cases\": 4}, {\"Key\": \"North Carolina\", \"Date\": \"2020-03-25T00:00:00\", \"Cases\": 504.0, \"Days since 100 cases\": 5}, {\"Key\": \"North Carolina\", \"Date\": \"2020-03-26T00:00:00\", \"Cases\": 636.0, \"Days since 100 cases\": 6}, {\"Key\": \"North Dakota\", \"Date\": \"2020-03-04T00:00:00\", \"Cases\": 0.0, \"Days since 100 cases\": 0}, {\"Key\": \"North Dakota\", \"Date\": \"2020-03-05T00:00:00\", \"Cases\": 0.0, \"Days since 100 cases\": 1}, {\"Key\": \"North Dakota\", \"Date\": \"2020-03-06T00:00:00\", \"Cases\": 0.0, \"Days since 100 cases\": 2}, {\"Key\": \"North Dakota\", \"Date\": \"2020-03-07T00:00:00\", \"Cases\": 0.0, \"Days since 100 cases\": 3}, {\"Key\": \"North Dakota\", \"Date\": \"2020-03-08T00:00:00\", \"Cases\": 0.0, \"Days since 100 cases\": 4}, {\"Key\": \"North Dakota\", \"Date\": \"2020-03-09T00:00:00\", \"Cases\": 0.0, \"Days since 100 cases\": 5}, {\"Key\": \"North Dakota\", \"Date\": \"2020-03-10T00:00:00\", \"Cases\": 0.0, \"Days since 100 cases\": 6}, {\"Key\": \"North Dakota\", \"Date\": \"2020-03-11T00:00:00\", \"Cases\": 0.0, \"Days since 100 cases\": 7}, {\"Key\": \"North Dakota\", \"Date\": \"2020-03-12T00:00:00\", \"Cases\": 1.0, \"Days since 100 cases\": 8}, {\"Key\": \"North Dakota\", \"Date\": \"2020-03-13T00:00:00\", \"Cases\": 1.0, \"Days since 100 cases\": 9}, {\"Key\": \"North Dakota\", \"Date\": \"2020-03-14T00:00:00\", \"Cases\": 1.0, \"Days since 100 cases\": 10}, {\"Key\": \"North Dakota\", \"Date\": \"2020-03-15T00:00:00\", \"Cases\": 1.0, \"Days since 100 cases\": 11}, {\"Key\": \"North Dakota\", \"Date\": \"2020-03-16T00:00:00\", \"Cases\": 1.0, \"Days since 100 cases\": 12}, {\"Key\": \"North Dakota\", \"Date\": \"2020-03-17T00:00:00\", \"Cases\": 3.0, \"Days since 100 cases\": 13}, {\"Key\": \"North Dakota\", \"Date\": \"2020-03-18T00:00:00\", \"Cases\": 6.0, \"Days since 100 cases\": 14}, {\"Key\": \"North Dakota\", \"Date\": \"2020-03-19T00:00:00\", \"Cases\": 15.0, \"Days since 100 cases\": 15}, {\"Key\": \"North Dakota\", \"Date\": \"2020-03-20T00:00:00\", \"Cases\": 20.0, \"Days since 100 cases\": 16}, {\"Key\": \"North Dakota\", \"Date\": \"2020-03-21T00:00:00\", \"Cases\": 28.0, \"Days since 100 cases\": 17}, {\"Key\": \"North Dakota\", \"Date\": \"2020-03-22T00:00:00\", \"Cases\": 28.0, \"Days since 100 cases\": 18}, {\"Key\": \"North Dakota\", \"Date\": \"2020-03-23T00:00:00\", \"Cases\": 30.0, \"Days since 100 cases\": 19}, {\"Key\": \"North Dakota\", \"Date\": \"2020-03-24T00:00:00\", \"Cases\": 34.0, \"Days since 100 cases\": 20}, {\"Key\": \"North Dakota\", \"Date\": \"2020-03-25T00:00:00\", \"Cases\": 39.0, \"Days since 100 cases\": 21}, {\"Key\": \"North Dakota\", \"Date\": \"2020-03-26T00:00:00\", \"Cases\": 52.0, \"Days since 100 cases\": 22}, {\"Key\": \"Ohio\", \"Date\": \"2020-03-19T00:00:00\", \"Cases\": 119.0, \"Days since 100 cases\": 0}, {\"Key\": \"Ohio\", \"Date\": \"2020-03-20T00:00:00\", \"Cases\": 169.0, \"Days since 100 cases\": 1}, {\"Key\": \"Ohio\", \"Date\": \"2020-03-21T00:00:00\", \"Cases\": 247.0, \"Days since 100 cases\": 2}, {\"Key\": \"Ohio\", \"Date\": \"2020-03-22T00:00:00\", \"Cases\": 351.0, \"Days since 100 cases\": 3}, {\"Key\": \"Ohio\", \"Date\": \"2020-03-23T00:00:00\", \"Cases\": 442.0, \"Days since 100 cases\": 4}, {\"Key\": \"Ohio\", \"Date\": \"2020-03-24T00:00:00\", \"Cases\": 564.0, \"Days since 100 cases\": 5}, {\"Key\": \"Ohio\", \"Date\": \"2020-03-25T00:00:00\", \"Cases\": 704.0, \"Days since 100 cases\": 6}, {\"Key\": \"Ohio\", \"Date\": \"2020-03-26T00:00:00\", \"Cases\": 867.0, \"Days since 100 cases\": 7}, {\"Key\": \"Oklahoma\", \"Date\": \"2020-03-24T00:00:00\", \"Cases\": 106.0, \"Days since 100 cases\": 0}, {\"Key\": \"Oklahoma\", \"Date\": \"2020-03-25T00:00:00\", \"Cases\": 164.0, \"Days since 100 cases\": 1}, {\"Key\": \"Oklahoma\", \"Date\": \"2020-03-26T00:00:00\", \"Cases\": 248.0, \"Days since 100 cases\": 2}, {\"Key\": \"Oregon\", \"Date\": \"2020-03-20T00:00:00\", \"Cases\": 114.0, \"Days since 100 cases\": 0}, {\"Key\": \"Oregon\", \"Date\": \"2020-03-21T00:00:00\", \"Cases\": 114.0, \"Days since 100 cases\": 1}, {\"Key\": \"Oregon\", \"Date\": \"2020-03-22T00:00:00\", \"Cases\": 161.0, \"Days since 100 cases\": 2}, {\"Key\": \"Oregon\", \"Date\": \"2020-03-23T00:00:00\", \"Cases\": 191.0, \"Days since 100 cases\": 3}, {\"Key\": \"Oregon\", \"Date\": \"2020-03-24T00:00:00\", \"Cases\": 209.0, \"Days since 100 cases\": 4}, {\"Key\": \"Oregon\", \"Date\": \"2020-03-25T00:00:00\", \"Cases\": 209.0, \"Days since 100 cases\": 5}, {\"Key\": \"Oregon\", \"Date\": \"2020-03-26T00:00:00\", \"Cases\": 327.0, \"Days since 100 cases\": 6}, {\"Key\": \"Pennsylvania\", \"Date\": \"2020-03-18T00:00:00\", \"Cases\": 133.0, \"Days since 100 cases\": 0}, {\"Key\": \"Pennsylvania\", \"Date\": \"2020-03-19T00:00:00\", \"Cases\": 185.0, \"Days since 100 cases\": 1}, {\"Key\": \"Pennsylvania\", \"Date\": \"2020-03-20T00:00:00\", \"Cases\": 268.0, \"Days since 100 cases\": 2}, {\"Key\": \"Pennsylvania\", \"Date\": \"2020-03-21T00:00:00\", \"Cases\": 371.0, \"Days since 100 cases\": 3}, {\"Key\": \"Pennsylvania\", \"Date\": \"2020-03-22T00:00:00\", \"Cases\": 479.0, \"Days since 100 cases\": 4}, {\"Key\": \"Pennsylvania\", \"Date\": \"2020-03-23T00:00:00\", \"Cases\": 644.0, \"Days since 100 cases\": 5}, {\"Key\": \"Pennsylvania\", \"Date\": \"2020-03-24T00:00:00\", \"Cases\": 851.0, \"Days since 100 cases\": 6}, {\"Key\": \"Pennsylvania\", \"Date\": \"2020-03-25T00:00:00\", \"Cases\": 1127.0, \"Days since 100 cases\": 7}, {\"Key\": \"Pennsylvania\", \"Date\": \"2020-03-26T00:00:00\", \"Cases\": 1687.0, \"Days since 100 cases\": 8}, {\"Key\": \"Puerto Rico\", \"Date\": \"2020-03-04T00:00:00\", \"Cases\": 0.0, \"Days since 100 cases\": 0}, {\"Key\": \"Puerto Rico\", \"Date\": \"2020-03-05T00:00:00\", \"Cases\": 0.0, \"Days since 100 cases\": 1}, {\"Key\": \"Puerto Rico\", \"Date\": \"2020-03-06T00:00:00\", \"Cases\": 0.0, \"Days since 100 cases\": 2}, {\"Key\": \"Puerto Rico\", \"Date\": \"2020-03-07T00:00:00\", \"Cases\": 0.0, \"Days since 100 cases\": 3}, {\"Key\": \"Puerto Rico\", \"Date\": \"2020-03-08T00:00:00\", \"Cases\": 0.0, \"Days since 100 cases\": 4}, {\"Key\": \"Puerto Rico\", \"Date\": \"2020-03-09T00:00:00\", \"Cases\": 0.0, \"Days since 100 cases\": 5}, {\"Key\": \"Puerto Rico\", \"Date\": \"2020-03-10T00:00:00\", \"Cases\": 0.0, \"Days since 100 cases\": 6}, {\"Key\": \"Puerto Rico\", \"Date\": \"2020-03-11T00:00:00\", \"Cases\": 0.0, \"Days since 100 cases\": 7}, {\"Key\": \"Puerto Rico\", \"Date\": \"2020-03-12T00:00:00\", \"Cases\": 0.0, \"Days since 100 cases\": 8}, {\"Key\": \"Puerto Rico\", \"Date\": \"2020-03-13T00:00:00\", \"Cases\": 0.0, \"Days since 100 cases\": 9}, {\"Key\": \"Puerto Rico\", \"Date\": \"2020-03-14T00:00:00\", \"Cases\": 0.0, \"Days since 100 cases\": 10}, {\"Key\": \"Puerto Rico\", \"Date\": \"2020-03-15T00:00:00\", \"Cases\": 0.0, \"Days since 100 cases\": 11}, {\"Key\": \"Puerto Rico\", \"Date\": \"2020-03-16T00:00:00\", \"Cases\": 5.0, \"Days since 100 cases\": 12}, {\"Key\": \"Puerto Rico\", \"Date\": \"2020-03-17T00:00:00\", \"Cases\": 5.0, \"Days since 100 cases\": 13}, {\"Key\": \"Puerto Rico\", \"Date\": \"2020-03-18T00:00:00\", \"Cases\": 5.0, \"Days since 100 cases\": 14}, {\"Key\": \"Puerto Rico\", \"Date\": \"2020-03-19T00:00:00\", \"Cases\": 5.0, \"Days since 100 cases\": 15}, {\"Key\": \"Puerto Rico\", \"Date\": \"2020-03-20T00:00:00\", \"Cases\": 14.0, \"Days since 100 cases\": 16}, {\"Key\": \"Puerto Rico\", \"Date\": \"2020-03-21T00:00:00\", \"Cases\": 21.0, \"Days since 100 cases\": 17}, {\"Key\": \"Puerto Rico\", \"Date\": \"2020-03-22T00:00:00\", \"Cases\": 23.0, \"Days since 100 cases\": 18}, {\"Key\": \"Puerto Rico\", \"Date\": \"2020-03-23T00:00:00\", \"Cases\": 31.0, \"Days since 100 cases\": 19}, {\"Key\": \"Puerto Rico\", \"Date\": \"2020-03-24T00:00:00\", \"Cases\": 39.0, \"Days since 100 cases\": 20}, {\"Key\": \"Puerto Rico\", \"Date\": \"2020-03-25T00:00:00\", \"Cases\": 51.0, \"Days since 100 cases\": 21}, {\"Key\": \"Puerto Rico\", \"Date\": \"2020-03-26T00:00:00\", \"Cases\": 64.0, \"Days since 100 cases\": 22}, {\"Key\": \"Rhode Island\", \"Date\": \"2020-03-23T00:00:00\", \"Cases\": 106.0, \"Days since 100 cases\": 0}, {\"Key\": \"Rhode Island\", \"Date\": \"2020-03-24T00:00:00\", \"Cases\": 106.0, \"Days since 100 cases\": 1}, {\"Key\": \"Rhode Island\", \"Date\": \"2020-03-25T00:00:00\", \"Cases\": 124.0, \"Days since 100 cases\": 2}, {\"Key\": \"Rhode Island\", \"Date\": \"2020-03-26T00:00:00\", \"Cases\": 165.0, \"Days since 100 cases\": 3}, {\"Key\": \"South Carolina\", \"Date\": \"2020-03-21T00:00:00\", \"Cases\": 152.0, \"Days since 100 cases\": 0}, {\"Key\": \"South Carolina\", \"Date\": \"2020-03-22T00:00:00\", \"Cases\": 195.0, \"Days since 100 cases\": 1}, {\"Key\": \"South Carolina\", \"Date\": \"2020-03-23T00:00:00\", \"Cases\": 299.0, \"Days since 100 cases\": 2}, {\"Key\": \"South Carolina\", \"Date\": \"2020-03-24T00:00:00\", \"Cases\": 298.0, \"Days since 100 cases\": 3}, {\"Key\": \"South Carolina\", \"Date\": \"2020-03-25T00:00:00\", \"Cases\": 424.0, \"Days since 100 cases\": 4}, {\"Key\": \"South Carolina\", \"Date\": \"2020-03-26T00:00:00\", \"Cases\": 456.0, \"Days since 100 cases\": 5}, {\"Key\": \"South Dakota\", \"Date\": \"2020-03-04T00:00:00\", \"Cases\": 0.0, \"Days since 100 cases\": 0}, {\"Key\": \"South Dakota\", \"Date\": \"2020-03-05T00:00:00\", \"Cases\": 0.0, \"Days since 100 cases\": 1}, {\"Key\": \"South Dakota\", \"Date\": \"2020-03-06T00:00:00\", \"Cases\": 0.0, \"Days since 100 cases\": 2}, {\"Key\": \"South Dakota\", \"Date\": \"2020-03-07T00:00:00\", \"Cases\": 0.0, \"Days since 100 cases\": 3}, {\"Key\": \"South Dakota\", \"Date\": \"2020-03-08T00:00:00\", \"Cases\": 0.0, \"Days since 100 cases\": 4}, {\"Key\": \"South Dakota\", \"Date\": \"2020-03-09T00:00:00\", \"Cases\": 0.0, \"Days since 100 cases\": 5}, {\"Key\": \"South Dakota\", \"Date\": \"2020-03-10T00:00:00\", \"Cases\": 0.0, \"Days since 100 cases\": 6}, {\"Key\": \"South Dakota\", \"Date\": \"2020-03-11T00:00:00\", \"Cases\": 5.0, \"Days since 100 cases\": 7}, {\"Key\": \"South Dakota\", \"Date\": \"2020-03-12T00:00:00\", \"Cases\": 8.0, \"Days since 100 cases\": 8}, {\"Key\": \"South Dakota\", \"Date\": \"2020-03-13T00:00:00\", \"Cases\": 9.0, \"Days since 100 cases\": 9}, {\"Key\": \"South Dakota\", \"Date\": \"2020-03-14T00:00:00\", \"Cases\": 9.0, \"Days since 100 cases\": 10}, {\"Key\": \"South Dakota\", \"Date\": \"2020-03-15T00:00:00\", \"Cases\": 9.0, \"Days since 100 cases\": 11}, {\"Key\": \"South Dakota\", \"Date\": \"2020-03-16T00:00:00\", \"Cases\": 10.0, \"Days since 100 cases\": 12}, {\"Key\": \"South Dakota\", \"Date\": \"2020-03-17T00:00:00\", \"Cases\": 11.0, \"Days since 100 cases\": 13}, {\"Key\": \"South Dakota\", \"Date\": \"2020-03-18T00:00:00\", \"Cases\": 11.0, \"Days since 100 cases\": 14}, {\"Key\": \"South Dakota\", \"Date\": \"2020-03-19T00:00:00\", \"Cases\": 11.0, \"Days since 100 cases\": 15}, {\"Key\": \"South Dakota\", \"Date\": \"2020-03-20T00:00:00\", \"Cases\": 14.0, \"Days since 100 cases\": 16}, {\"Key\": \"South Dakota\", \"Date\": \"2020-03-21T00:00:00\", \"Cases\": 14.0, \"Days since 100 cases\": 17}, {\"Key\": \"South Dakota\", \"Date\": \"2020-03-22T00:00:00\", \"Cases\": 21.0, \"Days since 100 cases\": 18}, {\"Key\": \"South Dakota\", \"Date\": \"2020-03-23T00:00:00\", \"Cases\": 28.0, \"Days since 100 cases\": 19}, {\"Key\": \"South Dakota\", \"Date\": \"2020-03-24T00:00:00\", \"Cases\": 30.0, \"Days since 100 cases\": 20}, {\"Key\": \"South Dakota\", \"Date\": \"2020-03-25T00:00:00\", \"Cases\": 41.0, \"Days since 100 cases\": 21}, {\"Key\": \"South Dakota\", \"Date\": \"2020-03-26T00:00:00\", \"Cases\": 46.0, \"Days since 100 cases\": 22}, {\"Key\": \"Tennessee\", \"Date\": \"2020-03-19T00:00:00\", \"Cases\": 154.0, \"Days since 100 cases\": 0}, {\"Key\": \"Tennessee\", \"Date\": \"2020-03-20T00:00:00\", \"Cases\": 228.0, \"Days since 100 cases\": 1}, {\"Key\": \"Tennessee\", \"Date\": \"2020-03-21T00:00:00\", \"Cases\": 371.0, \"Days since 100 cases\": 2}, {\"Key\": \"Tennessee\", \"Date\": \"2020-03-22T00:00:00\", \"Cases\": 505.0, \"Days since 100 cases\": 3}, {\"Key\": \"Tennessee\", \"Date\": \"2020-03-23T00:00:00\", \"Cases\": 615.0, \"Days since 100 cases\": 4}, {\"Key\": \"Tennessee\", \"Date\": \"2020-03-24T00:00:00\", \"Cases\": 667.0, \"Days since 100 cases\": 5}, {\"Key\": \"Tennessee\", \"Date\": \"2020-03-25T00:00:00\", \"Cases\": 784.0, \"Days since 100 cases\": 6}, {\"Key\": \"Tennessee\", \"Date\": \"2020-03-26T00:00:00\", \"Cases\": 957.0, \"Days since 100 cases\": 7}, {\"Key\": \"Texas\", \"Date\": \"2020-03-19T00:00:00\", \"Cases\": 143.0, \"Days since 100 cases\": 0}, {\"Key\": \"Texas\", \"Date\": \"2020-03-20T00:00:00\", \"Cases\": 194.0, \"Days since 100 cases\": 1}, {\"Key\": \"Texas\", \"Date\": \"2020-03-21T00:00:00\", \"Cases\": 304.0, \"Days since 100 cases\": 2}, {\"Key\": \"Texas\", \"Date\": \"2020-03-22T00:00:00\", \"Cases\": 334.0, \"Days since 100 cases\": 3}, {\"Key\": \"Texas\", \"Date\": \"2020-03-23T00:00:00\", \"Cases\": 352.0, \"Days since 100 cases\": 4}, {\"Key\": \"Texas\", \"Date\": \"2020-03-24T00:00:00\", \"Cases\": 410.0, \"Days since 100 cases\": 5}, {\"Key\": \"Texas\", \"Date\": \"2020-03-25T00:00:00\", \"Cases\": 974.0, \"Days since 100 cases\": 6}, {\"Key\": \"Texas\", \"Date\": \"2020-03-26T00:00:00\", \"Cases\": 1396.0, \"Days since 100 cases\": 7}, {\"Key\": \"Utah\", \"Date\": \"2020-03-20T00:00:00\", \"Cases\": 112.0, \"Days since 100 cases\": 0}, {\"Key\": \"Utah\", \"Date\": \"2020-03-21T00:00:00\", \"Cases\": 136.0, \"Days since 100 cases\": 1}, {\"Key\": \"Utah\", \"Date\": \"2020-03-22T00:00:00\", \"Cases\": 181.0, \"Days since 100 cases\": 2}, {\"Key\": \"Utah\", \"Date\": \"2020-03-23T00:00:00\", \"Cases\": 257.0, \"Days since 100 cases\": 3}, {\"Key\": \"Utah\", \"Date\": \"2020-03-24T00:00:00\", \"Cases\": 299.0, \"Days since 100 cases\": 4}, {\"Key\": \"Utah\", \"Date\": \"2020-03-25T00:00:00\", \"Cases\": 346.0, \"Days since 100 cases\": 5}, {\"Key\": \"Utah\", \"Date\": \"2020-03-26T00:00:00\", \"Cases\": 402.0, \"Days since 100 cases\": 6}, {\"Key\": \"Vermont\", \"Date\": \"2020-03-25T00:00:00\", \"Cases\": 123.0, \"Days since 100 cases\": 0}, {\"Key\": \"Vermont\", \"Date\": \"2020-03-26T00:00:00\", \"Cases\": 158.0, \"Days since 100 cases\": 1}, {\"Key\": \"Virgin Islands\", \"Date\": \"2020-03-04T00:00:00\", \"Cases\": 0.0, \"Days since 100 cases\": 0}, {\"Key\": \"Virgin Islands\", \"Date\": \"2020-03-05T00:00:00\", \"Cases\": 0.0, \"Days since 100 cases\": 1}, {\"Key\": \"Virgin Islands\", \"Date\": \"2020-03-06T00:00:00\", \"Cases\": 0.0, \"Days since 100 cases\": 2}, {\"Key\": \"Virgin Islands\", \"Date\": \"2020-03-07T00:00:00\", \"Cases\": 0.0, \"Days since 100 cases\": 3}, {\"Key\": \"Virgin Islands\", \"Date\": \"2020-03-08T00:00:00\", \"Cases\": 0.0, \"Days since 100 cases\": 4}, {\"Key\": \"Virgin Islands\", \"Date\": \"2020-03-09T00:00:00\", \"Cases\": 0.0, \"Days since 100 cases\": 5}, {\"Key\": \"Virgin Islands\", \"Date\": \"2020-03-10T00:00:00\", \"Cases\": 0.0, \"Days since 100 cases\": 6}, {\"Key\": \"Virgin Islands\", \"Date\": \"2020-03-11T00:00:00\", \"Cases\": 0.0, \"Days since 100 cases\": 7}, {\"Key\": \"Virgin Islands\", \"Date\": \"2020-03-12T00:00:00\", \"Cases\": 0.0, \"Days since 100 cases\": 8}, {\"Key\": \"Virgin Islands\", \"Date\": \"2020-03-13T00:00:00\", \"Cases\": 0.0, \"Days since 100 cases\": 9}, {\"Key\": \"Virgin Islands\", \"Date\": \"2020-03-14T00:00:00\", \"Cases\": 0.0, \"Days since 100 cases\": 10}, {\"Key\": \"Virgin Islands\", \"Date\": \"2020-03-15T00:00:00\", \"Cases\": 0.0, \"Days since 100 cases\": 11}, {\"Key\": \"Virgin Islands\", \"Date\": \"2020-03-16T00:00:00\", \"Cases\": 1.0, \"Days since 100 cases\": 12}, {\"Key\": \"Virgin Islands\", \"Date\": \"2020-03-17T00:00:00\", \"Cases\": 2.0, \"Days since 100 cases\": 13}, {\"Key\": \"Virgin Islands\", \"Date\": \"2020-03-18T00:00:00\", \"Cases\": 2.0, \"Days since 100 cases\": 14}, {\"Key\": \"Virgin Islands\", \"Date\": \"2020-03-19T00:00:00\", \"Cases\": 3.0, \"Days since 100 cases\": 15}, {\"Key\": \"Virgin Islands\", \"Date\": \"2020-03-20T00:00:00\", \"Cases\": 3.0, \"Days since 100 cases\": 16}, {\"Key\": \"Virgin Islands\", \"Date\": \"2020-03-21T00:00:00\", \"Cases\": 6.0, \"Days since 100 cases\": 17}, {\"Key\": \"Virgin Islands\", \"Date\": \"2020-03-22T00:00:00\", \"Cases\": 6.0, \"Days since 100 cases\": 18}, {\"Key\": \"Virgin Islands\", \"Date\": \"2020-03-23T00:00:00\", \"Cases\": 17.0, \"Days since 100 cases\": 19}, {\"Key\": \"Virgin Islands\", \"Date\": \"2020-03-24T00:00:00\", \"Cases\": 17.0, \"Days since 100 cases\": 20}, {\"Key\": \"Virgin Islands\", \"Date\": \"2020-03-25T00:00:00\", \"Cases\": 17.0, \"Days since 100 cases\": 21}, {\"Key\": \"Virgin Islands\", \"Date\": \"2020-03-26T00:00:00\", \"Cases\": 17.0, \"Days since 100 cases\": 22}, {\"Key\": \"Virginia\", \"Date\": \"2020-03-20T00:00:00\", \"Cases\": 114.0, \"Days since 100 cases\": 0}, {\"Key\": \"Virginia\", \"Date\": \"2020-03-21T00:00:00\", \"Cases\": 152.0, \"Days since 100 cases\": 1}, {\"Key\": \"Virginia\", \"Date\": \"2020-03-22T00:00:00\", \"Cases\": 219.0, \"Days since 100 cases\": 2}, {\"Key\": \"Virginia\", \"Date\": \"2020-03-23T00:00:00\", \"Cases\": 254.0, \"Days since 100 cases\": 3}, {\"Key\": \"Virginia\", \"Date\": \"2020-03-24T00:00:00\", \"Cases\": 290.0, \"Days since 100 cases\": 4}, {\"Key\": \"Virginia\", \"Date\": \"2020-03-25T00:00:00\", \"Cases\": 391.0, \"Days since 100 cases\": 5}, {\"Key\": \"Virginia\", \"Date\": \"2020-03-26T00:00:00\", \"Cases\": 460.0, \"Days since 100 cases\": 6}, {\"Key\": \"Washington\", \"Date\": \"2020-03-07T00:00:00\", \"Cases\": 102.0, \"Days since 100 cases\": 0}, {\"Key\": \"Washington\", \"Date\": \"2020-03-08T00:00:00\", \"Cases\": 102.0, \"Days since 100 cases\": 1}, {\"Key\": \"Washington\", \"Date\": \"2020-03-09T00:00:00\", \"Cases\": 136.0, \"Days since 100 cases\": 2}, {\"Key\": \"Washington\", \"Date\": \"2020-03-10T00:00:00\", \"Cases\": 162.0, \"Days since 100 cases\": 3}, {\"Key\": \"Washington\", \"Date\": \"2020-03-11T00:00:00\", \"Cases\": 267.0, \"Days since 100 cases\": 4}, {\"Key\": \"Washington\", \"Date\": \"2020-03-12T00:00:00\", \"Cases\": 337.0, \"Days since 100 cases\": 5}, {\"Key\": \"Washington\", \"Date\": \"2020-03-13T00:00:00\", \"Cases\": 457.0, \"Days since 100 cases\": 6}, {\"Key\": \"Washington\", \"Date\": \"2020-03-14T00:00:00\", \"Cases\": 568.0, \"Days since 100 cases\": 7}, {\"Key\": \"Washington\", \"Date\": \"2020-03-15T00:00:00\", \"Cases\": 642.0, \"Days since 100 cases\": 8}, {\"Key\": \"Washington\", \"Date\": \"2020-03-16T00:00:00\", \"Cases\": 769.0, \"Days since 100 cases\": 9}, {\"Key\": \"Washington\", \"Date\": \"2020-03-17T00:00:00\", \"Cases\": 904.0, \"Days since 100 cases\": 10}, {\"Key\": \"Washington\", \"Date\": \"2020-03-18T00:00:00\", \"Cases\": 1012.0, \"Days since 100 cases\": 11}, {\"Key\": \"Washington\", \"Date\": \"2020-03-19T00:00:00\", \"Cases\": 1187.0, \"Days since 100 cases\": 12}, {\"Key\": \"Washington\", \"Date\": \"2020-03-20T00:00:00\", \"Cases\": 1376.0, \"Days since 100 cases\": 13}, {\"Key\": \"Washington\", \"Date\": \"2020-03-21T00:00:00\", \"Cases\": 1524.0, \"Days since 100 cases\": 14}, {\"Key\": \"Washington\", \"Date\": \"2020-03-22T00:00:00\", \"Cases\": 1793.0, \"Days since 100 cases\": 15}, {\"Key\": \"Washington\", \"Date\": \"2020-03-23T00:00:00\", \"Cases\": 1996.0, \"Days since 100 cases\": 16}, {\"Key\": \"Washington\", \"Date\": \"2020-03-24T00:00:00\", \"Cases\": 2221.0, \"Days since 100 cases\": 17}, {\"Key\": \"Washington\", \"Date\": \"2020-03-25T00:00:00\", \"Cases\": 2469.0, \"Days since 100 cases\": 18}, {\"Key\": \"Washington\", \"Date\": \"2020-03-26T00:00:00\", \"Cases\": 2580.0, \"Days since 100 cases\": 19}, {\"Key\": \"West Virginia\", \"Date\": \"2020-03-04T00:00:00\", \"Cases\": 0.0, \"Days since 100 cases\": 0}, {\"Key\": \"West Virginia\", \"Date\": \"2020-03-05T00:00:00\", \"Cases\": 0.0, \"Days since 100 cases\": 1}, {\"Key\": \"West Virginia\", \"Date\": \"2020-03-06T00:00:00\", \"Cases\": 0.0, \"Days since 100 cases\": 2}, {\"Key\": \"West Virginia\", \"Date\": \"2020-03-07T00:00:00\", \"Cases\": 0.0, \"Days since 100 cases\": 3}, {\"Key\": \"West Virginia\", \"Date\": \"2020-03-08T00:00:00\", \"Cases\": 0.0, \"Days since 100 cases\": 4}, {\"Key\": \"West Virginia\", \"Date\": \"2020-03-09T00:00:00\", \"Cases\": 0.0, \"Days since 100 cases\": 5}, {\"Key\": \"West Virginia\", \"Date\": \"2020-03-10T00:00:00\", \"Cases\": 0.0, \"Days since 100 cases\": 6}, {\"Key\": \"West Virginia\", \"Date\": \"2020-03-11T00:00:00\", \"Cases\": 0.0, \"Days since 100 cases\": 7}, {\"Key\": \"West Virginia\", \"Date\": \"2020-03-12T00:00:00\", \"Cases\": 0.0, \"Days since 100 cases\": 8}, {\"Key\": \"West Virginia\", \"Date\": \"2020-03-13T00:00:00\", \"Cases\": 0.0, \"Days since 100 cases\": 9}, {\"Key\": \"West Virginia\", \"Date\": \"2020-03-14T00:00:00\", \"Cases\": 0.0, \"Days since 100 cases\": 10}, {\"Key\": \"West Virginia\", \"Date\": \"2020-03-15T00:00:00\", \"Cases\": 0.0, \"Days since 100 cases\": 11}, {\"Key\": \"West Virginia\", \"Date\": \"2020-03-16T00:00:00\", \"Cases\": 0.0, \"Days since 100 cases\": 12}, {\"Key\": \"West Virginia\", \"Date\": \"2020-03-17T00:00:00\", \"Cases\": 0.0, \"Days since 100 cases\": 13}, {\"Key\": \"West Virginia\", \"Date\": \"2020-03-18T00:00:00\", \"Cases\": 1.0, \"Days since 100 cases\": 14}, {\"Key\": \"West Virginia\", \"Date\": \"2020-03-19T00:00:00\", \"Cases\": 2.0, \"Days since 100 cases\": 15}, {\"Key\": \"West Virginia\", \"Date\": \"2020-03-20T00:00:00\", \"Cases\": 7.0, \"Days since 100 cases\": 16}, {\"Key\": \"West Virginia\", \"Date\": \"2020-03-21T00:00:00\", \"Cases\": 11.0, \"Days since 100 cases\": 17}, {\"Key\": \"West Virginia\", \"Date\": \"2020-03-22T00:00:00\", \"Cases\": 12.0, \"Days since 100 cases\": 18}, {\"Key\": \"West Virginia\", \"Date\": \"2020-03-23T00:00:00\", \"Cases\": 16.0, \"Days since 100 cases\": 19}, {\"Key\": \"West Virginia\", \"Date\": \"2020-03-24T00:00:00\", \"Cases\": 20.0, \"Days since 100 cases\": 20}, {\"Key\": \"West Virginia\", \"Date\": \"2020-03-25T00:00:00\", \"Cases\": 39.0, \"Days since 100 cases\": 21}, {\"Key\": \"West Virginia\", \"Date\": \"2020-03-26T00:00:00\", \"Cases\": 51.0, \"Days since 100 cases\": 22}, {\"Key\": \"Wisconsin\", \"Date\": \"2020-03-18T00:00:00\", \"Cases\": 106.0, \"Days since 100 cases\": 0}, {\"Key\": \"Wisconsin\", \"Date\": \"2020-03-19T00:00:00\", \"Cases\": 155.0, \"Days since 100 cases\": 1}, {\"Key\": \"Wisconsin\", \"Date\": \"2020-03-20T00:00:00\", \"Cases\": 206.0, \"Days since 100 cases\": 2}, {\"Key\": \"Wisconsin\", \"Date\": \"2020-03-21T00:00:00\", \"Cases\": 281.0, \"Days since 100 cases\": 3}, {\"Key\": \"Wisconsin\", \"Date\": \"2020-03-22T00:00:00\", \"Cases\": 385.0, \"Days since 100 cases\": 4}, {\"Key\": \"Wisconsin\", \"Date\": \"2020-03-23T00:00:00\", \"Cases\": 416.0, \"Days since 100 cases\": 5}, {\"Key\": \"Wisconsin\", \"Date\": \"2020-03-24T00:00:00\", \"Cases\": 457.0, \"Days since 100 cases\": 6}, {\"Key\": \"Wisconsin\", \"Date\": \"2020-03-25T00:00:00\", \"Cases\": 585.0, \"Days since 100 cases\": 7}, {\"Key\": \"Wisconsin\", \"Date\": \"2020-03-26T00:00:00\", \"Cases\": 707.0, \"Days since 100 cases\": 8}, {\"Key\": \"Wyoming\", \"Date\": \"2020-03-04T00:00:00\", \"Cases\": 0.0, \"Days since 100 cases\": 0}, {\"Key\": \"Wyoming\", \"Date\": \"2020-03-05T00:00:00\", \"Cases\": 0.0, \"Days since 100 cases\": 1}, {\"Key\": \"Wyoming\", \"Date\": \"2020-03-06T00:00:00\", \"Cases\": 0.0, \"Days since 100 cases\": 2}, {\"Key\": \"Wyoming\", \"Date\": \"2020-03-07T00:00:00\", \"Cases\": 0.0, \"Days since 100 cases\": 3}, {\"Key\": \"Wyoming\", \"Date\": \"2020-03-08T00:00:00\", \"Cases\": 0.0, \"Days since 100 cases\": 4}, {\"Key\": \"Wyoming\", \"Date\": \"2020-03-09T00:00:00\", \"Cases\": 0.0, \"Days since 100 cases\": 5}, {\"Key\": \"Wyoming\", \"Date\": \"2020-03-10T00:00:00\", \"Cases\": 0.0, \"Days since 100 cases\": 6}, {\"Key\": \"Wyoming\", \"Date\": \"2020-03-11T00:00:00\", \"Cases\": 0.0, \"Days since 100 cases\": 7}, {\"Key\": \"Wyoming\", \"Date\": \"2020-03-12T00:00:00\", \"Cases\": 1.0, \"Days since 100 cases\": 8}, {\"Key\": \"Wyoming\", \"Date\": \"2020-03-13T00:00:00\", \"Cases\": 1.0, \"Days since 100 cases\": 9}, {\"Key\": \"Wyoming\", \"Date\": \"2020-03-14T00:00:00\", \"Cases\": 2.0, \"Days since 100 cases\": 10}, {\"Key\": \"Wyoming\", \"Date\": \"2020-03-15T00:00:00\", \"Cases\": 3.0, \"Days since 100 cases\": 11}, {\"Key\": \"Wyoming\", \"Date\": \"2020-03-16T00:00:00\", \"Cases\": 3.0, \"Days since 100 cases\": 12}, {\"Key\": \"Wyoming\", \"Date\": \"2020-03-17T00:00:00\", \"Cases\": 10.0, \"Days since 100 cases\": 13}, {\"Key\": \"Wyoming\", \"Date\": \"2020-03-18T00:00:00\", \"Cases\": 15.0, \"Days since 100 cases\": 14}, {\"Key\": \"Wyoming\", \"Date\": \"2020-03-19T00:00:00\", \"Cases\": 18.0, \"Days since 100 cases\": 15}, {\"Key\": \"Wyoming\", \"Date\": \"2020-03-20T00:00:00\", \"Cases\": 19.0, \"Days since 100 cases\": 16}, {\"Key\": \"Wyoming\", \"Date\": \"2020-03-21T00:00:00\", \"Cases\": 23.0, \"Days since 100 cases\": 17}, {\"Key\": \"Wyoming\", \"Date\": \"2020-03-22T00:00:00\", \"Cases\": 24.0, \"Days since 100 cases\": 18}, {\"Key\": \"Wyoming\", \"Date\": \"2020-03-23T00:00:00\", \"Cases\": 26.0, \"Days since 100 cases\": 19}, {\"Key\": \"Wyoming\", \"Date\": \"2020-03-24T00:00:00\", \"Cases\": 29.0, \"Days since 100 cases\": 20}, {\"Key\": \"Wyoming\", \"Date\": \"2020-03-25T00:00:00\", \"Cases\": 44.0, \"Days since 100 cases\": 21}, {\"Key\": \"Wyoming\", \"Date\": \"2020-03-26T00:00:00\", \"Cases\": 53.0, \"Days since 100 cases\": 22}]}}, {\"mode\": \"vega-lite\"});\n",
              "</script>"
            ]
          },
          "metadata": {
            "tags": []
          },
          "execution_count": 89
        }
      ]
    },
    {
      "cell_type": "markdown",
      "metadata": {
        "papermill": {
          "duration": 0.019933,
          "end_time": "2020-03-22T20:04:03.068199",
          "exception": false,
          "start_time": "2020-03-22T20:04:03.048266",
          "status": "completed"
        },
        "tags": [],
        "id": "Znv8L6aSoSl1",
        "colab_type": "text"
      },
      "source": [
        "Visualizations by [Pratap Vardhan](https://twitter.com/PratapVardhan)[^1]\n",
        "\n",
        "[^1]: Sources: [\"COVID-19 Data Repository by Johns Hopkins CSSE\"](https://systems.jhu.edu/research/public-health/ncov/) [GitHub](https://github.com/CSSEGISandData/COVID-19). [covidtracking.com](https://covidtracking.com/)"
      ]
    }
  ]
}